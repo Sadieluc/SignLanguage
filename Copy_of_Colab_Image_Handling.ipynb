{
  "cells": [
    {
      "cell_type": "markdown",
      "metadata": {
        "id": "view-in-github",
        "colab_type": "text"
      },
      "source": [
        "<a href=\"https://colab.research.google.com/github/Sadieluc/SignLanguage/blob/main/Copy_of_Colab_Image_Handling.ipynb\" target=\"_parent\"><img src=\"https://colab.research.google.com/assets/colab-badge.svg\" alt=\"Open In Colab\"/></a>"
      ]
    },
    {
      "cell_type": "markdown",
      "metadata": {
        "id": "A9XX-CKXhluq"
      },
      "source": [
        "# Colab Image Handling\n",
        "\n"
      ]
    },
    {
      "cell_type": "markdown",
      "metadata": {
        "id": "gW6yuEw3k3bD"
      },
      "source": [
        "## Camera Capture\n",
        "Using a webcam to capture images for processing on the runtime."
      ]
    },
    {
      "cell_type": "code",
      "execution_count": 1,
      "metadata": {
        "id": "eNIkRmElEJ0p",
        "colab": {
          "base_uri": "https://localhost:8080/"
        },
        "outputId": "15afa6ab-d459-468c-fa78-d3ce8f230675"
      },
      "outputs": [
        {
          "output_type": "stream",
          "name": "stdout",
          "text": [
            "Drive already mounted at /drive; to attempt to forcibly remount, call drive.mount(\"/drive\", force_remount=True).\n"
          ]
        }
      ],
      "source": [
        "# Connecting Colab To google drive \n",
        "from google.colab import drive\n",
        "drive.mount('/drive')"
      ]
    },
    {
      "cell_type": "code",
      "source": [
        "import os\n",
        "path = \"/drive/My Drive/SadieHands/\"\n",
        "\n",
        "if not os.path.exists(path):\n",
        "  os.mkdir(path)"
      ],
      "metadata": {
        "id": "eKUvFO857EO2"
      },
      "execution_count": null,
      "outputs": []
    },
    {
      "cell_type": "code",
      "execution_count": 2,
      "metadata": {
        "id": "SucxddsPhOmj"
      },
      "outputs": [],
      "source": [
        "from IPython.display import display, Javascript, Image\n",
        "from google.colab.output import eval_js\n",
        "from base64 import b64decode\n",
        "# using datetime module\n",
        "import datetime;"
      ]
    },
    {
      "cell_type": "code",
      "execution_count": 3,
      "metadata": {
        "id": "a4o3uXw7yew1"
      },
      "outputs": [],
      "source": [
        " ct = datetime.datetime.now()"
      ]
    },
    {
      "cell_type": "code",
      "execution_count": 4,
      "metadata": {
        "id": "bqkxbyPKsAZT",
        "colab": {
          "base_uri": "https://localhost:8080/"
        },
        "outputId": "d9e08862-25c1-4384-e660-fb66fab08b9a"
      },
      "outputs": [
        {
          "name": "stdout",
          "output_type": "stream",
          "text": [
            "Letter: I\n"
          ]
        }
      ],
      "source": [
        "letter = input(\"Letter: \")"
      ]
    },
    {
      "cell_type": "code",
      "execution_count": 5,
      "metadata": {
        "id": "rwszqzrGltX3",
        "colab": {
          "base_uri": "https://localhost:8080/"
        },
        "outputId": "5f936d38-0612-45be-b5c7-173b911f2764"
      },
      "outputs": [
        {
          "name": "stdout",
          "output_type": "stream",
          "text": [
            "Your name: Sadie\n"
          ]
        }
      ],
      "source": [
        "name = input(\"Your name: \")"
      ]
    },
    {
      "cell_type": "code",
      "execution_count": 6,
      "metadata": {
        "id": "q90VF9WpFl0E"
      },
      "outputs": [],
      "source": [
        "def take_photo(name='photo', letter='letter', quality=1.0):\n",
        "  ct = datetime.datetime.now()\n",
        "  timestamp = ct.strftime(\"%Y-%m-%d-%H-%M-%S\")\n",
        "  filename = f'/drive/My Drive/SadieHands/{letter}.{name}.{timestamp}.jpg'\n",
        "  js = Javascript('''\n",
        "    async function takePhoto(quality) {\n",
        "      const div = document.createElement('div');\n",
        "      const capture = document.createElement('button');\n",
        "      capture.textContent = 'Capture';\n",
        "      div.appendChild(capture);\n",
        "\n",
        "      const video = document.createElement('video');\n",
        "      video.style.display = 'block';\n",
        "      const stream = await navigator.mediaDevices.getUserMedia({video: true});\n",
        "\n",
        "      document.body.appendChild(div);\n",
        "      div.appendChild(video);\n",
        "      video.srcObject = stream;\n",
        "      await video.play();\n",
        "\n",
        "      // Resize the output to fit the video element.\n",
        "      google.colab.output.setIframeHeight(document.documentElement.scrollHeight, true);\n",
        "\n",
        "      // Wait for Capture to be clicked.\n",
        "      await new Promise((resolve) => capture.onclick = resolve);\n",
        "\n",
        "      const canvas = document.createElement('canvas');\n",
        "      canvas.width = video.videoWidth;\n",
        "      canvas.height = video.videoHeight;\n",
        "      canvas.getContext('2d').drawImage(video, 0, 0);\n",
        "      stream.getVideoTracks()[0].stop();\n",
        "      div.remove();\n",
        "      return canvas.toDataURL('image/jpeg', quality);\n",
        "    }\n",
        "    ''')\n",
        "  display(js)\n",
        "  data = eval_js('takePhoto({})'.format(quality))\n",
        "  binary = b64decode(data.split(',')[1])\n",
        "  with open(filename, 'wb') as f:\n",
        "    f.write(binary)\n",
        "  return filename"
      ]
    },
    {
      "cell_type": "code",
      "execution_count": null,
      "metadata": {
        "colab": {
          "background_save": true,
          "base_uri": "https://localhost:8080/",
          "height": 519
        },
        "id": "buJCl90WhNfq",
        "outputId": "53275bf2-4844-4d18-cdb5-b439d887e2e0"
      },
      "outputs": [
        {
          "output_type": "display_data",
          "data": {
            "application/javascript": [
              "\n",
              "    async function takePhoto(quality) {\n",
              "      const div = document.createElement('div');\n",
              "      const capture = document.createElement('button');\n",
              "      capture.textContent = 'Capture';\n",
              "      div.appendChild(capture);\n",
              "\n",
              "      const video = document.createElement('video');\n",
              "      video.style.display = 'block';\n",
              "      const stream = await navigator.mediaDevices.getUserMedia({video: true});\n",
              "\n",
              "      document.body.appendChild(div);\n",
              "      div.appendChild(video);\n",
              "      video.srcObject = stream;\n",
              "      await video.play();\n",
              "\n",
              "      // Resize the output to fit the video element.\n",
              "      google.colab.output.setIframeHeight(document.documentElement.scrollHeight, true);\n",
              "\n",
              "      // Wait for Capture to be clicked.\n",
              "      await new Promise((resolve) => capture.onclick = resolve);\n",
              "\n",
              "      const canvas = document.createElement('canvas');\n",
              "      canvas.width = video.videoWidth;\n",
              "      canvas.height = video.videoHeight;\n",
              "      canvas.getContext('2d').drawImage(video, 0, 0);\n",
              "      stream.getVideoTracks()[0].stop();\n",
              "      div.remove();\n",
              "      return canvas.toDataURL('image/jpeg', quality);\n",
              "    }\n",
              "    "
            ],
            "text/plain": [
              "<IPython.core.display.Javascript object>"
            ]
          },
          "metadata": {}
        }
      ],
      "source": [
        "try:\n",
        "  filename = take_photo(name,letter)\n",
        "  print('Saved to {}'.format(filename))\n",
        "  \n",
        "  # Show the image which was just taken.\n",
        "  display(Image(filename))\n",
        "except Exception as err:\n",
        "  # Errors will be thrown if the user does not have a webcam or if they do not\n",
        "  # grant the page permission to access it.\n",
        "  print(str(err))"
      ]
    },
    {
      "cell_type": "code",
      "execution_count": null,
      "metadata": {
        "id": "IT_Mm6M8DrWu"
      },
      "outputs": [],
      "source": [
        ""
      ]
    },
    {
      "cell_type": "code",
      "execution_count": null,
      "metadata": {
        "id": "iNREOg9gDckR"
      },
      "outputs": [],
      "source": [
        ""
      ]
    },
    {
      "cell_type": "markdown",
      "metadata": {
        "id": "v7IQkKHsh2S4"
      },
      "source": [
        "### VirtualBox VM Browser Access to the Camera\n",
        "\n",
        "In the peculiar case where you are evaluating the Colab notebook in the Web Browser, you will need to enable camera access for the VM.\n",
        "\n",
        "```\n",
        "    > VirtualBoxManage list webcams\n",
        "        Video Input Devices: 1\n",
        "        .1 \"Integrated Camera\"\n",
        "        \\\\?\\usb#vid_04f2&pid_b5ab&mi_00#6&b0e92e&0&0000#{65e8773d-8f56-11d0-a3b9-00a0c9223196}\\global\n",
        "\n",
        "   > VirtualBoxManage list vms\n",
        "        \"JF-Mint-AID\" {b89f613e-71ed-490d-a232-969e3645a93f}\n",
        "        \"mli-macOS-mojave\" {600697f8-8dd4-4040-b75e-d560f6b314bc}\n",
        "\n",
        "   > VirtualBoxManage vbm controlvm \"JF-Mint-AID\" webcam attach .1\n",
        "   ```\n",
        "\n",
        "The browser in the VM will now have (slow and clunky) access to the VM."
      ]
    },
    {
      "cell_type": "markdown",
      "metadata": {
        "id": "xCLN37TfjI1f"
      },
      "source": [
        "### End of Notebook."
      ]
    }
  ],
  "metadata": {
    "colab": {
      "collapsed_sections": [],
      "name": "Copy of Colab-Image-Handling.ipynb",
      "provenance": [],
      "include_colab_link": true
    },
    "kernelspec": {
      "display_name": "Python 3",
      "name": "python3"
    }
  },
  "nbformat": 4,
  "nbformat_minor": 0
}