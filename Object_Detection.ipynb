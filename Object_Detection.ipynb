{
  "nbformat": 4,
  "nbformat_minor": 0,
  "metadata": {
    "colab": {
      "name": "Object Detection.ipynb",
      "provenance": [],
      "collapsed_sections": [],
      "include_colab_link": true
    },
    "kernelspec": {
      "name": "python3",
      "display_name": "Python 3"
    },
    "language_info": {
      "name": "python"
    },
    "accelerator": "TPU"
  },
  "cells": [
    {
      "cell_type": "markdown",
      "metadata": {
        "id": "view-in-github",
        "colab_type": "text"
      },
      "source": [
        "<a href=\"https://colab.research.google.com/github/Sadieluc/SignLanguage/blob/main/Object_Detection.ipynb\" target=\"_parent\"><img src=\"https://colab.research.google.com/assets/colab-badge.svg\" alt=\"Open In Colab\"/></a>"
      ]
    },
    {
      "cell_type": "code",
      "execution_count": 2,
      "metadata": {
        "colab": {
          "base_uri": "https://localhost:8080/"
        },
        "id": "jpypnrV0hmPT",
        "outputId": "fc6c4b64-4522-471e-9ae0-b59ffa2f1486"
      },
      "outputs": [
        {
          "output_type": "stream",
          "name": "stdout",
          "text": [
            "Mounted at /content/drive\n"
          ]
        }
      ],
      "source": [
        "from google.colab import drive\n",
        "drive.mount('/content/drive')"
      ]
    },
    {
      "cell_type": "markdown",
      "source": [
        "# Run this code once as setup"
      ],
      "metadata": {
        "id": "cEFcKvVlqtql"
      }
    },
    {
      "cell_type": "code",
      "source": [
        "setup_needed = False"
      ],
      "metadata": {
        "id": "qXqmj5Moq1ql"
      },
      "execution_count": 4,
      "outputs": []
    },
    {
      "cell_type": "code",
      "source": [
        "if setup_needed:\n",
        "  #cd into the TensorFlow directory in your Google Drive\n",
        "  %cd '/content/drive/My Drive/SignRecongnition'\n",
        "\n",
        "  !git clone https://github.com/nicknochnack/RealTimeObjectDetection.git"
      ],
      "metadata": {
        "id": "sG3VMCRJpOe-"
      },
      "execution_count": 5,
      "outputs": []
    },
    {
      "cell_type": "code",
      "source": [
        "if setup_needed:\n",
        "  # !ls '/content/drive/My Drive/SignRecongnition/RealTimeObjectDetection/Tensorflow/'\n",
        "  !ls '/content/drive/My Drive/SignRecongnition/RealTimeObjectDetection/Tensorflow/'\n"
      ],
      "metadata": {
        "id": "AP6DULWeuFIw"
      },
      "execution_count": 6,
      "outputs": []
    },
    {
      "cell_type": "code",
      "source": [
        "if setup_needed:\n",
        "  #cd into the TensorFlow directory in your Google Drive\n",
        "  %cd '/content/drive/My Drive/SignRecongnition/RealTimeObjectDetection/Tensorflow/'\n",
        "  #and clone the TensorFlow Model Garden repository\n",
        "  !git clone https://github.com/tensorflow/models.git\n",
        "  #using a older version of repo\n",
        "  %cd '/content/drive/MyDrive/SignRecongnition/RealTimeObjectDetection/Tensorflow/models'\n",
        "  !git checkout -f e04dafd04d69053d3733bb91d47d0d95bc2c8199"
      ],
      "metadata": {
        "id": "cMAq0rP-hxXJ"
      },
      "execution_count": 7,
      "outputs": []
    },
    {
      "cell_type": "code",
      "source": [
        "!apt-get install protobuf-compiler python-lxml python-pil\n",
        "!pip install Cython pandas tf-slim lvis"
      ],
      "metadata": {
        "colab": {
          "base_uri": "https://localhost:8080/"
        },
        "id": "iGS_3hDiiKDR",
        "outputId": "12967b37-134d-4740-8237-00a7dc8f6d4a"
      },
      "execution_count": 3,
      "outputs": [
        {
          "output_type": "stream",
          "name": "stdout",
          "text": [
            "Reading package lists... Done\n",
            "Building dependency tree       \n",
            "Reading state information... Done\n",
            "protobuf-compiler is already the newest version (3.0.0-9.1ubuntu1).\n",
            "The following additional packages will be installed:\n",
            "  python-bs4 python-chardet python-html5lib python-olefile\n",
            "  python-pkg-resources python-six python-webencodings\n",
            "Suggested packages:\n",
            "  python-genshi python-lxml-dbg python-lxml-doc python-pil-doc python-pil-dbg\n",
            "  python-setuptools\n",
            "The following NEW packages will be installed:\n",
            "  python-bs4 python-chardet python-html5lib python-lxml python-olefile\n",
            "  python-pil python-pkg-resources python-six python-webencodings\n",
            "0 upgraded, 9 newly installed, 0 to remove and 37 not upgraded.\n",
            "Need to get 1,614 kB of archives.\n",
            "After this operation, 8,908 kB of additional disk space will be used.\n",
            "Get:1 http://archive.ubuntu.com/ubuntu bionic/main amd64 python-bs4 all 4.6.0-1 [67.9 kB]\n",
            "Get:2 http://archive.ubuntu.com/ubuntu bionic/main amd64 python-pkg-resources all 39.0.1-2 [128 kB]\n",
            "Get:3 http://archive.ubuntu.com/ubuntu bionic/main amd64 python-chardet all 3.0.4-1 [80.3 kB]\n",
            "Get:4 http://archive.ubuntu.com/ubuntu bionic/main amd64 python-six all 1.11.0-2 [11.3 kB]\n",
            "Get:5 http://archive.ubuntu.com/ubuntu bionic/main amd64 python-webencodings all 0.5-2 [10.3 kB]\n",
            "Get:6 http://archive.ubuntu.com/ubuntu bionic/main amd64 python-html5lib all 0.999999999-1 [83.6 kB]\n",
            "Ign:7 http://archive.ubuntu.com/ubuntu bionic-updates/main amd64 python-lxml amd64 4.2.1-1ubuntu0.4\n",
            "Get:8 http://archive.ubuntu.com/ubuntu bionic/main amd64 python-olefile all 0.45.1-1 [33.2 kB]\n",
            "Ign:9 http://archive.ubuntu.com/ubuntu bionic-updates/main amd64 python-pil amd64 5.1.0-1ubuntu0.6\n",
            "Err:7 http://security.ubuntu.com/ubuntu bionic-updates/main amd64 python-lxml amd64 4.2.1-1ubuntu0.4\n",
            "  404  Not Found [IP: 91.189.88.142 80]\n",
            "Err:9 http://security.ubuntu.com/ubuntu bionic-updates/main amd64 python-pil amd64 5.1.0-1ubuntu0.6\n",
            "  404  Not Found [IP: 91.189.88.142 80]\n",
            "Fetched 415 kB in 1s (327 kB/s)\n",
            "E: Failed to fetch http://security.ubuntu.com/ubuntu/pool/main/l/lxml/python-lxml_4.2.1-1ubuntu0.4_amd64.deb  404  Not Found [IP: 91.189.88.142 80]\n",
            "E: Failed to fetch http://security.ubuntu.com/ubuntu/pool/main/p/pillow/python-pil_5.1.0-1ubuntu0.6_amd64.deb  404  Not Found [IP: 91.189.88.142 80]\n",
            "E: Unable to fetch some archives, maybe run apt-get update or try with --fix-missing?\n",
            "Requirement already satisfied: Cython in /usr/local/lib/python3.7/dist-packages (0.29.26)\n",
            "Requirement already satisfied: pandas in /usr/local/lib/python3.7/dist-packages (1.1.5)\n",
            "Collecting tf-slim\n",
            "  Downloading tf_slim-1.1.0-py2.py3-none-any.whl (352 kB)\n",
            "\u001b[K     |████████████████████████████████| 352 kB 5.0 MB/s \n",
            "\u001b[?25hCollecting lvis\n",
            "  Downloading lvis-0.5.3-py3-none-any.whl (14 kB)\n",
            "Requirement already satisfied: python-dateutil>=2.7.3 in /usr/local/lib/python3.7/dist-packages (from pandas) (2.8.2)\n",
            "Requirement already satisfied: numpy>=1.15.4 in /usr/local/lib/python3.7/dist-packages (from pandas) (1.19.5)\n",
            "Requirement already satisfied: pytz>=2017.2 in /usr/local/lib/python3.7/dist-packages (from pandas) (2018.9)\n",
            "Requirement already satisfied: six>=1.5 in /usr/local/lib/python3.7/dist-packages (from python-dateutil>=2.7.3->pandas) (1.15.0)\n",
            "Requirement already satisfied: absl-py>=0.2.2 in /usr/local/lib/python3.7/dist-packages (from tf-slim) (0.12.0)\n",
            "Requirement already satisfied: kiwisolver>=1.1.0 in /usr/local/lib/python3.7/dist-packages (from lvis) (1.3.2)\n",
            "Requirement already satisfied: matplotlib>=3.1.1 in /usr/local/lib/python3.7/dist-packages (from lvis) (3.2.2)\n",
            "Requirement already satisfied: pyparsing>=2.4.0 in /usr/local/lib/python3.7/dist-packages (from lvis) (3.0.6)\n",
            "Requirement already satisfied: opencv-python>=4.1.0.25 in /usr/local/lib/python3.7/dist-packages (from lvis) (4.1.2.30)\n",
            "Requirement already satisfied: cycler>=0.10.0 in /usr/local/lib/python3.7/dist-packages (from lvis) (0.11.0)\n",
            "Installing collected packages: tf-slim, lvis\n",
            "Successfully installed lvis-0.5.3 tf-slim-1.1.0\n"
          ]
        }
      ]
    },
    {
      "cell_type": "code",
      "source": [
        "#cd into 'TensorFlow/models/research'\n",
        "%cd '/content/drive/My Drive/SignRecongnition/RealTimeObjectDetection/Tensorflow/models/research/'\n",
        "!protoc object_detection/protos/*.proto --python_out=."
      ],
      "metadata": {
        "colab": {
          "base_uri": "https://localhost:8080/"
        },
        "id": "pTizjInsiKw5",
        "outputId": "5bb4884f-0ff0-45d6-9c70-2222f4a15105"
      },
      "execution_count": 4,
      "outputs": [
        {
          "output_type": "stream",
          "name": "stdout",
          "text": [
            "/content/drive/My Drive/SignRecongnition/RealTimeObjectDetection/Tensorflow/models/research\n"
          ]
        }
      ]
    },
    {
      "cell_type": "code",
      "source": [
        "import os\n",
        "import sys\n",
        "os.environ['PYTHONPATH']+=\":/content/drive/My Drive/SignRecongnition/RealTimeObjectDetection/Tensorflow/models\"\n",
        "sys.path.append(\"/content/drive/My Drive/SignRecongnition/RealTimeObjectDetection/Tensorflow/models/research\")"
      ],
      "metadata": {
        "id": "wIM_E_TniXms"
      },
      "execution_count": 5,
      "outputs": []
    },
    {
      "cell_type": "code",
      "source": [
        "%cd '/content/drive/My Drive/SignRecongnition/RealTimeObjectDetection/Tensorflow/models/research/'"
      ],
      "metadata": {
        "colab": {
          "base_uri": "https://localhost:8080/"
        },
        "id": "f_5GDMsLmkfD",
        "outputId": "4b6a89ad-9f7e-403c-812b-085f9a61ad1e"
      },
      "execution_count": 6,
      "outputs": [
        {
          "output_type": "stream",
          "name": "stdout",
          "text": [
            "/content/drive/My Drive/SignRecongnition/RealTimeObjectDetection/Tensorflow/models/research\n"
          ]
        }
      ]
    },
    {
      "cell_type": "code",
      "source": [
        "!cp object_detection/packages/tf2/setup.py .\n",
        "!python -m pip install  --use-feature=2020-resolver ."
      ],
      "metadata": {
        "colab": {
          "base_uri": "https://localhost:8080/"
        },
        "id": "gGtJmFwjmiWn",
        "outputId": "984c5fb9-789d-4c20-87c8-72335d4f6683"
      },
      "execution_count": 7,
      "outputs": [
        {
          "output_type": "stream",
          "name": "stdout",
          "text": [
            "\u001b[33mWARNING: --use-feature=2020-resolver no longer has any effect, since it is now the default dependency resolver in pip. This will become an error in pip 21.0.\u001b[0m\n",
            "Processing /content/drive/MyDrive/SignRecongnition/RealTimeObjectDetection/Tensorflow/models/research\n",
            "\u001b[33m  DEPRECATION: A future pip version will change local packages to be built in-place without first copying to a temporary directory. We recommend you use --use-feature=in-tree-build to test your packages with this new behavior before it becomes the default.\n",
            "   pip 21.3 will remove support for this functionality. You can find discussion regarding this at https://github.com/pypa/pip/issues/7555.\u001b[0m\n",
            "Collecting avro-python3\n",
            "  Downloading avro-python3-1.10.2.tar.gz (38 kB)\n",
            "Collecting apache-beam\n",
            "  Downloading apache_beam-2.35.0-cp37-cp37m-manylinux2010_x86_64.whl (9.9 MB)\n",
            "\u001b[K     |████████████████████████████████| 9.9 MB 6.6 MB/s \n",
            "\u001b[?25hRequirement already satisfied: pillow in /usr/local/lib/python3.7/dist-packages (from object-detection==0.1) (7.1.2)\n",
            "Requirement already satisfied: lxml in /usr/local/lib/python3.7/dist-packages (from object-detection==0.1) (4.2.6)\n",
            "Requirement already satisfied: matplotlib in /usr/local/lib/python3.7/dist-packages (from object-detection==0.1) (3.2.2)\n",
            "Requirement already satisfied: Cython in /usr/local/lib/python3.7/dist-packages (from object-detection==0.1) (0.29.26)\n",
            "Requirement already satisfied: contextlib2 in /usr/local/lib/python3.7/dist-packages (from object-detection==0.1) (0.5.5)\n",
            "Requirement already satisfied: tf-slim in /usr/local/lib/python3.7/dist-packages (from object-detection==0.1) (1.1.0)\n",
            "Requirement already satisfied: six in /usr/local/lib/python3.7/dist-packages (from object-detection==0.1) (1.15.0)\n",
            "Requirement already satisfied: pycocotools in /usr/local/lib/python3.7/dist-packages (from object-detection==0.1) (2.0.4)\n",
            "Requirement already satisfied: scipy in /usr/local/lib/python3.7/dist-packages (from object-detection==0.1) (1.4.1)\n",
            "Requirement already satisfied: pandas in /usr/local/lib/python3.7/dist-packages (from object-detection==0.1) (1.1.5)\n",
            "Collecting tf-models-official\n",
            "  Downloading tf_models_official-2.7.0-py2.py3-none-any.whl (1.8 MB)\n",
            "\u001b[K     |████████████████████████████████| 1.8 MB 50.7 MB/s \n",
            "\u001b[?25hCollecting fastavro<2,>=0.21.4\n",
            "  Downloading fastavro-1.4.9-cp37-cp37m-manylinux_2_17_x86_64.manylinux2014_x86_64.whl (2.3 MB)\n",
            "\u001b[K     |████████████████████████████████| 2.3 MB 50.2 MB/s \n",
            "\u001b[?25hCollecting pymongo<4.0.0,>=3.8.0\n",
            "  Downloading pymongo-3.12.3-cp37-cp37m-manylinux_2_17_x86_64.manylinux2014_x86_64.whl (508 kB)\n",
            "\u001b[K     |████████████████████████████████| 508 kB 66.1 MB/s \n",
            "\u001b[?25hRequirement already satisfied: pyarrow<7.0.0,>=0.15.1 in /usr/local/lib/python3.7/dist-packages (from apache-beam->object-detection==0.1) (3.0.0)\n",
            "Requirement already satisfied: pydot<2,>=1.2.0 in /usr/local/lib/python3.7/dist-packages (from apache-beam->object-detection==0.1) (1.3.0)\n",
            "Collecting dill<0.3.2,>=0.3.1.1\n",
            "  Downloading dill-0.3.1.1.tar.gz (151 kB)\n",
            "\u001b[K     |████████████████████████████████| 151 kB 50.2 MB/s \n",
            "\u001b[?25hCollecting proto-plus<2,>=1.7.1\n",
            "  Downloading proto_plus-1.19.8-py3-none-any.whl (45 kB)\n",
            "\u001b[K     |████████████████████████████████| 45 kB 2.7 MB/s \n",
            "\u001b[?25hRequirement already satisfied: typing-extensions<4,>=3.7.0 in /usr/local/lib/python3.7/dist-packages (from apache-beam->object-detection==0.1) (3.10.0.2)\n",
            "Collecting orjson<4.0\n",
            "  Downloading orjson-3.6.6-cp37-cp37m-manylinux_2_24_x86_64.whl (245 kB)\n",
            "\u001b[K     |████████████████████████████████| 245 kB 49.6 MB/s \n",
            "\u001b[?25hRequirement already satisfied: protobuf<4,>=3.12.2 in /usr/local/lib/python3.7/dist-packages (from apache-beam->object-detection==0.1) (3.17.3)\n",
            "Requirement already satisfied: numpy<1.21.0,>=1.14.3 in /usr/local/lib/python3.7/dist-packages (from apache-beam->object-detection==0.1) (1.19.5)\n",
            "Requirement already satisfied: httplib2<0.20.0,>=0.8 in /usr/local/lib/python3.7/dist-packages (from apache-beam->object-detection==0.1) (0.17.4)\n",
            "Requirement already satisfied: python-dateutil<3,>=2.8.0 in /usr/local/lib/python3.7/dist-packages (from apache-beam->object-detection==0.1) (2.8.2)\n",
            "Requirement already satisfied: oauth2client<5,>=2.0.1 in /usr/local/lib/python3.7/dist-packages (from apache-beam->object-detection==0.1) (4.1.3)\n",
            "Collecting hdfs<3.0.0,>=2.1.0\n",
            "  Downloading hdfs-2.6.0-py3-none-any.whl (33 kB)\n",
            "Requirement already satisfied: crcmod<2.0,>=1.7 in /usr/local/lib/python3.7/dist-packages (from apache-beam->object-detection==0.1) (1.7)\n",
            "Collecting requests<3.0.0,>=2.24.0\n",
            "  Downloading requests-2.27.1-py2.py3-none-any.whl (63 kB)\n",
            "\u001b[K     |████████████████████████████████| 63 kB 1.3 MB/s \n",
            "\u001b[?25hRequirement already satisfied: pytz>=2018.3 in /usr/local/lib/python3.7/dist-packages (from apache-beam->object-detection==0.1) (2018.9)\n",
            "Requirement already satisfied: grpcio<2,>=1.29.0 in /usr/local/lib/python3.7/dist-packages (from apache-beam->object-detection==0.1) (1.43.0)\n",
            "Requirement already satisfied: docopt in /usr/local/lib/python3.7/dist-packages (from hdfs<3.0.0,>=2.1.0->apache-beam->object-detection==0.1) (0.6.2)\n",
            "Requirement already satisfied: rsa>=3.1.4 in /usr/local/lib/python3.7/dist-packages (from oauth2client<5,>=2.0.1->apache-beam->object-detection==0.1) (4.8)\n",
            "Requirement already satisfied: pyasn1-modules>=0.0.5 in /usr/local/lib/python3.7/dist-packages (from oauth2client<5,>=2.0.1->apache-beam->object-detection==0.1) (0.2.8)\n",
            "Requirement already satisfied: pyasn1>=0.1.7 in /usr/local/lib/python3.7/dist-packages (from oauth2client<5,>=2.0.1->apache-beam->object-detection==0.1) (0.4.8)\n",
            "Collecting protobuf<4,>=3.12.2\n",
            "  Downloading protobuf-3.19.3-cp37-cp37m-manylinux_2_17_x86_64.manylinux2014_x86_64.whl (1.1 MB)\n",
            "\u001b[K     |████████████████████████████████| 1.1 MB 50.9 MB/s \n",
            "\u001b[?25hRequirement already satisfied: pyparsing>=2.1.4 in /usr/local/lib/python3.7/dist-packages (from pydot<2,>=1.2.0->apache-beam->object-detection==0.1) (3.0.6)\n",
            "Requirement already satisfied: idna<4,>=2.5 in /usr/local/lib/python3.7/dist-packages (from requests<3.0.0,>=2.24.0->apache-beam->object-detection==0.1) (2.10)\n",
            "Requirement already satisfied: urllib3<1.27,>=1.21.1 in /usr/local/lib/python3.7/dist-packages (from requests<3.0.0,>=2.24.0->apache-beam->object-detection==0.1) (1.24.3)\n",
            "Requirement already satisfied: certifi>=2017.4.17 in /usr/local/lib/python3.7/dist-packages (from requests<3.0.0,>=2.24.0->apache-beam->object-detection==0.1) (2021.10.8)\n",
            "Requirement already satisfied: charset-normalizer~=2.0.0 in /usr/local/lib/python3.7/dist-packages (from requests<3.0.0,>=2.24.0->apache-beam->object-detection==0.1) (2.0.10)\n",
            "Requirement already satisfied: cycler>=0.10 in /usr/local/lib/python3.7/dist-packages (from matplotlib->object-detection==0.1) (0.11.0)\n",
            "Requirement already satisfied: kiwisolver>=1.0.1 in /usr/local/lib/python3.7/dist-packages (from matplotlib->object-detection==0.1) (1.3.2)\n",
            "Requirement already satisfied: tensorflow>=2.7.0 in /usr/local/lib/python3.7/dist-packages (from tf-models-official->object-detection==0.1) (2.7.0)\n",
            "Requirement already satisfied: kaggle>=1.3.9 in /usr/local/lib/python3.7/dist-packages (from tf-models-official->object-detection==0.1) (1.5.12)\n",
            "Requirement already satisfied: gin-config in /usr/local/lib/python3.7/dist-packages (from tf-models-official->object-detection==0.1) (0.5.0)\n",
            "Collecting sacrebleu\n",
            "  Downloading sacrebleu-2.0.0-py3-none-any.whl (90 kB)\n",
            "\u001b[K     |████████████████████████████████| 90 kB 8.1 MB/s \n",
            "\u001b[?25hCollecting opencv-python-headless\n",
            "  Downloading opencv_python_headless-4.5.5.62-cp36-abi3-manylinux_2_17_x86_64.manylinux2014_x86_64.whl (47.7 MB)\n",
            "\u001b[K     |████████████████████████████████| 47.7 MB 1.9 MB/s \n",
            "\u001b[?25hRequirement already satisfied: psutil>=5.4.3 in /usr/local/lib/python3.7/dist-packages (from tf-models-official->object-detection==0.1) (5.4.8)\n",
            "Requirement already satisfied: google-api-python-client>=1.6.7 in /usr/local/lib/python3.7/dist-packages (from tf-models-official->object-detection==0.1) (1.12.8)\n",
            "Collecting tensorflow-text>=2.7.0\n",
            "  Downloading tensorflow_text-2.7.3-cp37-cp37m-manylinux2010_x86_64.whl (4.9 MB)\n",
            "\u001b[K     |████████████████████████████████| 4.9 MB 44.9 MB/s \n",
            "\u001b[?25hCollecting py-cpuinfo>=3.3.0\n",
            "  Downloading py-cpuinfo-8.0.0.tar.gz (99 kB)\n",
            "\u001b[K     |████████████████████████████████| 99 kB 8.0 MB/s \n",
            "\u001b[?25hCollecting sentencepiece\n",
            "  Downloading sentencepiece-0.1.96-cp37-cp37m-manylinux_2_17_x86_64.manylinux2014_x86_64.whl (1.2 MB)\n",
            "\u001b[K     |████████████████████████████████| 1.2 MB 51.7 MB/s \n",
            "\u001b[?25hCollecting seqeval\n",
            "  Downloading seqeval-1.2.2.tar.gz (43 kB)\n",
            "\u001b[K     |████████████████████████████████| 43 kB 1.6 MB/s \n",
            "\u001b[?25hCollecting pyyaml>=5.1\n",
            "  Downloading PyYAML-6.0-cp37-cp37m-manylinux_2_5_x86_64.manylinux1_x86_64.manylinux_2_12_x86_64.manylinux2010_x86_64.whl (596 kB)\n",
            "\u001b[K     |████████████████████████████████| 596 kB 58.0 MB/s \n",
            "\u001b[?25hRequirement already satisfied: tensorflow-hub>=0.6.0 in /usr/local/lib/python3.7/dist-packages (from tf-models-official->object-detection==0.1) (0.12.0)\n",
            "Collecting tensorflow-model-optimization>=0.4.1\n",
            "  Downloading tensorflow_model_optimization-0.7.0-py2.py3-none-any.whl (213 kB)\n",
            "\u001b[K     |████████████████████████████████| 213 kB 63.0 MB/s \n",
            "\u001b[?25hCollecting tensorflow-addons\n",
            "  Downloading tensorflow_addons-0.15.0-cp37-cp37m-manylinux_2_12_x86_64.manylinux2010_x86_64.whl (1.1 MB)\n",
            "\u001b[K     |████████████████████████████████| 1.1 MB 46.4 MB/s \n",
            "\u001b[?25hRequirement already satisfied: tensorflow-datasets in /usr/local/lib/python3.7/dist-packages (from tf-models-official->object-detection==0.1) (4.0.1)\n",
            "Requirement already satisfied: google-auth>=1.16.0 in /usr/local/lib/python3.7/dist-packages (from google-api-python-client>=1.6.7->tf-models-official->object-detection==0.1) (1.35.0)\n",
            "Requirement already satisfied: google-api-core<2dev,>=1.21.0 in /usr/local/lib/python3.7/dist-packages (from google-api-python-client>=1.6.7->tf-models-official->object-detection==0.1) (1.26.3)\n",
            "Requirement already satisfied: uritemplate<4dev,>=3.0.0 in /usr/local/lib/python3.7/dist-packages (from google-api-python-client>=1.6.7->tf-models-official->object-detection==0.1) (3.0.1)\n",
            "Requirement already satisfied: google-auth-httplib2>=0.0.3 in /usr/local/lib/python3.7/dist-packages (from google-api-python-client>=1.6.7->tf-models-official->object-detection==0.1) (0.0.4)\n",
            "Requirement already satisfied: setuptools>=40.3.0 in /usr/local/lib/python3.7/dist-packages (from google-api-core<2dev,>=1.21.0->google-api-python-client>=1.6.7->tf-models-official->object-detection==0.1) (57.4.0)\n",
            "Requirement already satisfied: packaging>=14.3 in /usr/local/lib/python3.7/dist-packages (from google-api-core<2dev,>=1.21.0->google-api-python-client>=1.6.7->tf-models-official->object-detection==0.1) (21.3)\n",
            "Requirement already satisfied: googleapis-common-protos<2.0dev,>=1.6.0 in /usr/local/lib/python3.7/dist-packages (from google-api-core<2dev,>=1.21.0->google-api-python-client>=1.6.7->tf-models-official->object-detection==0.1) (1.54.0)\n",
            "Requirement already satisfied: cachetools<5.0,>=2.0.0 in /usr/local/lib/python3.7/dist-packages (from google-auth>=1.16.0->google-api-python-client>=1.6.7->tf-models-official->object-detection==0.1) (4.2.4)\n",
            "Requirement already satisfied: python-slugify in /usr/local/lib/python3.7/dist-packages (from kaggle>=1.3.9->tf-models-official->object-detection==0.1) (5.0.2)\n",
            "Requirement already satisfied: tqdm in /usr/local/lib/python3.7/dist-packages (from kaggle>=1.3.9->tf-models-official->object-detection==0.1) (4.62.3)\n",
            "Requirement already satisfied: astunparse>=1.6.0 in /usr/local/lib/python3.7/dist-packages (from tensorflow>=2.7.0->tf-models-official->object-detection==0.1) (1.6.3)\n",
            "Requirement already satisfied: opt-einsum>=2.3.2 in /usr/local/lib/python3.7/dist-packages (from tensorflow>=2.7.0->tf-models-official->object-detection==0.1) (3.3.0)\n",
            "Requirement already satisfied: keras<2.8,>=2.7.0rc0 in /usr/local/lib/python3.7/dist-packages (from tensorflow>=2.7.0->tf-models-official->object-detection==0.1) (2.7.0)\n",
            "Requirement already satisfied: tensorflow-estimator<2.8,~=2.7.0rc0 in /usr/local/lib/python3.7/dist-packages (from tensorflow>=2.7.0->tf-models-official->object-detection==0.1) (2.7.0)\n",
            "Requirement already satisfied: tensorboard~=2.6 in /usr/local/lib/python3.7/dist-packages (from tensorflow>=2.7.0->tf-models-official->object-detection==0.1) (2.7.0)\n",
            "Requirement already satisfied: libclang>=9.0.1 in /usr/local/lib/python3.7/dist-packages (from tensorflow>=2.7.0->tf-models-official->object-detection==0.1) (12.0.0)\n",
            "Requirement already satisfied: termcolor>=1.1.0 in /usr/local/lib/python3.7/dist-packages (from tensorflow>=2.7.0->tf-models-official->object-detection==0.1) (1.1.0)\n",
            "Requirement already satisfied: gast<0.5.0,>=0.2.1 in /usr/local/lib/python3.7/dist-packages (from tensorflow>=2.7.0->tf-models-official->object-detection==0.1) (0.4.0)\n",
            "Requirement already satisfied: wheel<1.0,>=0.32.0 in /usr/local/lib/python3.7/dist-packages (from tensorflow>=2.7.0->tf-models-official->object-detection==0.1) (0.37.1)\n",
            "Requirement already satisfied: keras-preprocessing>=1.1.1 in /usr/local/lib/python3.7/dist-packages (from tensorflow>=2.7.0->tf-models-official->object-detection==0.1) (1.1.2)\n",
            "Requirement already satisfied: h5py>=2.9.0 in /usr/local/lib/python3.7/dist-packages (from tensorflow>=2.7.0->tf-models-official->object-detection==0.1) (3.1.0)\n",
            "Requirement already satisfied: flatbuffers<3.0,>=1.12 in /usr/local/lib/python3.7/dist-packages (from tensorflow>=2.7.0->tf-models-official->object-detection==0.1) (2.0)\n",
            "Requirement already satisfied: tensorflow-io-gcs-filesystem>=0.21.0 in /usr/local/lib/python3.7/dist-packages (from tensorflow>=2.7.0->tf-models-official->object-detection==0.1) (0.23.1)\n",
            "Requirement already satisfied: wrapt>=1.11.0 in /usr/local/lib/python3.7/dist-packages (from tensorflow>=2.7.0->tf-models-official->object-detection==0.1) (1.13.3)\n",
            "Requirement already satisfied: google-pasta>=0.1.1 in /usr/local/lib/python3.7/dist-packages (from tensorflow>=2.7.0->tf-models-official->object-detection==0.1) (0.2.0)\n",
            "Requirement already satisfied: absl-py>=0.4.0 in /usr/local/lib/python3.7/dist-packages (from tensorflow>=2.7.0->tf-models-official->object-detection==0.1) (0.12.0)\n",
            "Requirement already satisfied: cached-property in /usr/local/lib/python3.7/dist-packages (from h5py>=2.9.0->tensorflow>=2.7.0->tf-models-official->object-detection==0.1) (1.5.2)\n",
            "Requirement already satisfied: markdown>=2.6.8 in /usr/local/lib/python3.7/dist-packages (from tensorboard~=2.6->tensorflow>=2.7.0->tf-models-official->object-detection==0.1) (3.3.6)\n",
            "Requirement already satisfied: google-auth-oauthlib<0.5,>=0.4.1 in /usr/local/lib/python3.7/dist-packages (from tensorboard~=2.6->tensorflow>=2.7.0->tf-models-official->object-detection==0.1) (0.4.6)\n",
            "Requirement already satisfied: werkzeug>=0.11.15 in /usr/local/lib/python3.7/dist-packages (from tensorboard~=2.6->tensorflow>=2.7.0->tf-models-official->object-detection==0.1) (1.0.1)\n",
            "Requirement already satisfied: tensorboard-plugin-wit>=1.6.0 in /usr/local/lib/python3.7/dist-packages (from tensorboard~=2.6->tensorflow>=2.7.0->tf-models-official->object-detection==0.1) (1.8.1)\n",
            "Requirement already satisfied: tensorboard-data-server<0.7.0,>=0.6.0 in /usr/local/lib/python3.7/dist-packages (from tensorboard~=2.6->tensorflow>=2.7.0->tf-models-official->object-detection==0.1) (0.6.1)\n",
            "Requirement already satisfied: requests-oauthlib>=0.7.0 in /usr/local/lib/python3.7/dist-packages (from google-auth-oauthlib<0.5,>=0.4.1->tensorboard~=2.6->tensorflow>=2.7.0->tf-models-official->object-detection==0.1) (1.3.0)\n",
            "Requirement already satisfied: importlib-metadata>=4.4 in /usr/local/lib/python3.7/dist-packages (from markdown>=2.6.8->tensorboard~=2.6->tensorflow>=2.7.0->tf-models-official->object-detection==0.1) (4.10.0)\n",
            "Requirement already satisfied: zipp>=0.5 in /usr/local/lib/python3.7/dist-packages (from importlib-metadata>=4.4->markdown>=2.6.8->tensorboard~=2.6->tensorflow>=2.7.0->tf-models-official->object-detection==0.1) (3.7.0)\n",
            "Requirement already satisfied: oauthlib>=3.0.0 in /usr/local/lib/python3.7/dist-packages (from requests-oauthlib>=0.7.0->google-auth-oauthlib<0.5,>=0.4.1->tensorboard~=2.6->tensorflow>=2.7.0->tf-models-official->object-detection==0.1) (3.1.1)\n",
            "Requirement already satisfied: dm-tree~=0.1.1 in /usr/local/lib/python3.7/dist-packages (from tensorflow-model-optimization>=0.4.1->tf-models-official->object-detection==0.1) (0.1.6)\n",
            "Requirement already satisfied: text-unidecode>=1.3 in /usr/local/lib/python3.7/dist-packages (from python-slugify->kaggle>=1.3.9->tf-models-official->object-detection==0.1) (1.3)\n",
            "Requirement already satisfied: tabulate>=0.8.9 in /usr/local/lib/python3.7/dist-packages (from sacrebleu->tf-models-official->object-detection==0.1) (0.8.9)\n",
            "Collecting colorama\n",
            "  Downloading colorama-0.4.4-py2.py3-none-any.whl (16 kB)\n",
            "Collecting portalocker\n",
            "  Downloading portalocker-2.3.2-py2.py3-none-any.whl (15 kB)\n",
            "Requirement already satisfied: regex in /usr/local/lib/python3.7/dist-packages (from sacrebleu->tf-models-official->object-detection==0.1) (2019.12.20)\n",
            "Requirement already satisfied: scikit-learn>=0.21.3 in /usr/local/lib/python3.7/dist-packages (from seqeval->tf-models-official->object-detection==0.1) (1.0.2)\n",
            "Requirement already satisfied: joblib>=0.11 in /usr/local/lib/python3.7/dist-packages (from scikit-learn>=0.21.3->seqeval->tf-models-official->object-detection==0.1) (1.1.0)\n",
            "Requirement already satisfied: threadpoolctl>=2.0.0 in /usr/local/lib/python3.7/dist-packages (from scikit-learn>=0.21.3->seqeval->tf-models-official->object-detection==0.1) (3.0.0)\n",
            "Requirement already satisfied: typeguard>=2.7 in /usr/local/lib/python3.7/dist-packages (from tensorflow-addons->tf-models-official->object-detection==0.1) (2.7.1)\n",
            "Requirement already satisfied: promise in /usr/local/lib/python3.7/dist-packages (from tensorflow-datasets->tf-models-official->object-detection==0.1) (2.3)\n",
            "Requirement already satisfied: importlib-resources in /usr/local/lib/python3.7/dist-packages (from tensorflow-datasets->tf-models-official->object-detection==0.1) (5.4.0)\n",
            "Requirement already satisfied: tensorflow-metadata in /usr/local/lib/python3.7/dist-packages (from tensorflow-datasets->tf-models-official->object-detection==0.1) (1.5.0)\n",
            "Requirement already satisfied: attrs>=18.1.0 in /usr/local/lib/python3.7/dist-packages (from tensorflow-datasets->tf-models-official->object-detection==0.1) (21.4.0)\n",
            "Requirement already satisfied: future in /usr/local/lib/python3.7/dist-packages (from tensorflow-datasets->tf-models-official->object-detection==0.1) (0.16.0)\n",
            "Building wheels for collected packages: object-detection, dill, avro-python3, py-cpuinfo, seqeval\n",
            "  Building wheel for object-detection (setup.py) ... \u001b[?25l\u001b[?25hdone\n",
            "  Created wheel for object-detection: filename=object_detection-0.1-py3-none-any.whl size=1577698 sha256=d6cc10b8402bc1b5bbd487bfbab53c21d36f041a8d642d479b82dfef9138a9ed\n",
            "  Stored in directory: /tmp/pip-ephem-wheel-cache-nx2im7hd/wheels/60/65/9d/177cb35a86f835a13259660621be696a3727e5f2ba4da602a6\n",
            "  Building wheel for dill (setup.py) ... \u001b[?25l\u001b[?25hdone\n",
            "  Created wheel for dill: filename=dill-0.3.1.1-py3-none-any.whl size=78544 sha256=f6610a093de76fdcb404c7c08af688c0923b44fdec03adf645c36d0d94f1f624\n",
            "  Stored in directory: /root/.cache/pip/wheels/a4/61/fd/c57e374e580aa78a45ed78d5859b3a44436af17e22ca53284f\n",
            "  Building wheel for avro-python3 (setup.py) ... \u001b[?25l\u001b[?25hdone\n",
            "  Created wheel for avro-python3: filename=avro_python3-1.10.2-py3-none-any.whl size=44010 sha256=8205629716a0a08871d733bd7790196223c1b0def055d9f7ed31a309df018278\n",
            "  Stored in directory: /root/.cache/pip/wheels/d6/e5/b1/6b151d9b535ee50aaa6ab27d145a0104b6df02e5636f0376da\n",
            "  Building wheel for py-cpuinfo (setup.py) ... \u001b[?25l\u001b[?25hdone\n",
            "  Created wheel for py-cpuinfo: filename=py_cpuinfo-8.0.0-py3-none-any.whl size=22257 sha256=919250efca33c535d1ce98071ed77de77e027acb107e2309512ebb876c46a66b\n",
            "  Stored in directory: /root/.cache/pip/wheels/d2/f1/1f/041add21dc9c4220157f1bd2bd6afe1f1a49524c3396b94401\n",
            "  Building wheel for seqeval (setup.py) ... \u001b[?25l\u001b[?25hdone\n",
            "  Created wheel for seqeval: filename=seqeval-1.2.2-py3-none-any.whl size=16180 sha256=47908a85493d67ef4ec0c2136230b6288f6e6a676409a8474e3d4650eecbe18e\n",
            "  Stored in directory: /root/.cache/pip/wheels/05/96/ee/7cac4e74f3b19e3158dce26a20a1c86b3533c43ec72a549fd7\n",
            "Successfully built object-detection dill avro-python3 py-cpuinfo seqeval\n",
            "Installing collected packages: requests, protobuf, portalocker, dill, colorama, tensorflow-text, tensorflow-model-optimization, tensorflow-addons, seqeval, sentencepiece, sacrebleu, pyyaml, pymongo, py-cpuinfo, proto-plus, orjson, opencv-python-headless, hdfs, fastavro, tf-models-official, avro-python3, apache-beam, object-detection\n",
            "  Attempting uninstall: requests\n",
            "    Found existing installation: requests 2.23.0\n",
            "    Uninstalling requests-2.23.0:\n",
            "      Successfully uninstalled requests-2.23.0\n",
            "  Attempting uninstall: protobuf\n",
            "    Found existing installation: protobuf 3.17.3\n",
            "    Uninstalling protobuf-3.17.3:\n",
            "      Successfully uninstalled protobuf-3.17.3\n",
            "  Attempting uninstall: dill\n",
            "    Found existing installation: dill 0.3.4\n",
            "    Uninstalling dill-0.3.4:\n",
            "      Successfully uninstalled dill-0.3.4\n",
            "  Attempting uninstall: pyyaml\n",
            "    Found existing installation: PyYAML 3.13\n",
            "    Uninstalling PyYAML-3.13:\n",
            "      Successfully uninstalled PyYAML-3.13\n",
            "  Attempting uninstall: pymongo\n",
            "    Found existing installation: pymongo 4.0.1\n",
            "    Uninstalling pymongo-4.0.1:\n",
            "      Successfully uninstalled pymongo-4.0.1\n",
            "\u001b[31mERROR: pip's dependency resolver does not currently take into account all the packages that are installed. This behaviour is the source of the following dependency conflicts.\n",
            "multiprocess 0.70.12.2 requires dill>=0.3.4, but you have dill 0.3.1.1 which is incompatible.\n",
            "google-colab 1.0.0 requires requests~=2.23.0, but you have requests 2.27.1 which is incompatible.\n",
            "datascience 0.10.6 requires folium==0.2.1, but you have folium 0.8.3 which is incompatible.\u001b[0m\n",
            "Successfully installed apache-beam-2.35.0 avro-python3-1.10.2 colorama-0.4.4 dill-0.3.1.1 fastavro-1.4.9 hdfs-2.6.0 object-detection-0.1 opencv-python-headless-4.5.5.62 orjson-3.6.6 portalocker-2.3.2 proto-plus-1.19.8 protobuf-3.19.3 py-cpuinfo-8.0.0 pymongo-3.12.3 pyyaml-6.0 requests-2.27.1 sacrebleu-2.0.0 sentencepiece-0.1.96 seqeval-1.2.2 tensorflow-addons-0.15.0 tensorflow-model-optimization-0.7.0 tensorflow-text-2.7.3 tf-models-official-2.7.0\n"
          ]
        }
      ]
    },
    {
      "cell_type": "code",
      "source": [
        "# !python setup.py build\n",
        "# !python setup.py install"
      ],
      "metadata": {
        "id": "q0PVcvOGjnov"
      },
      "execution_count": null,
      "outputs": []
    },
    {
      "cell_type": "code",
      "source": [
        "#cd into 'TensorFlow/models/research/object_detection/builders/'\n",
        "%cd '/content/drive/My Drive/SignRecongnition/RealTimeObjectDetection/Tensorflow/models/research/object_detection/builders/'\n",
        "!python model_builder_tf2_test.py\n",
        "from object_detection.utils import label_map_util\n",
        "from object_detection.utils import visualization_utils as viz_utils\n",
        "print('Done')"
      ],
      "metadata": {
        "id": "gKy0gdC-jpcV",
        "colab": {
          "base_uri": "https://localhost:8080/"
        },
        "outputId": "965932ef-58ce-451f-aa1f-731125321cff"
      },
      "execution_count": 8,
      "outputs": [
        {
          "output_type": "stream",
          "name": "stdout",
          "text": [
            "/content/drive/My Drive/SignRecongnition/RealTimeObjectDetection/Tensorflow/models/research/object_detection/builders\n",
            "2022-01-23 04:35:17.149952: E tensorflow/stream_executor/cuda/cuda_driver.cc:271] failed call to cuInit: CUDA_ERROR_NO_DEVICE: no CUDA-capable device is detected\n",
            "Running tests under Python 3.7.12: /usr/bin/python3\n",
            "[ RUN      ] ModelBuilderTF2Test.test_create_center_net_model\n",
            "INFO:tensorflow:time(__main__.ModelBuilderTF2Test.test_create_center_net_model): 4.34s\n",
            "I0123 04:35:21.493016 139876323346304 test_util.py:2309] time(__main__.ModelBuilderTF2Test.test_create_center_net_model): 4.34s\n",
            "[       OK ] ModelBuilderTF2Test.test_create_center_net_model\n",
            "[ RUN      ] ModelBuilderTF2Test.test_create_experimental_model\n",
            "INFO:tensorflow:time(__main__.ModelBuilderTF2Test.test_create_experimental_model): 0.0s\n",
            "I0123 04:35:21.494340 139876323346304 test_util.py:2309] time(__main__.ModelBuilderTF2Test.test_create_experimental_model): 0.0s\n",
            "[       OK ] ModelBuilderTF2Test.test_create_experimental_model\n",
            "[ RUN      ] ModelBuilderTF2Test.test_create_faster_rcnn_from_config_with_crop_feature0 (True)\n",
            "INFO:tensorflow:time(__main__.ModelBuilderTF2Test.test_create_faster_rcnn_from_config_with_crop_feature0 (True)): 0.03s\n",
            "I0123 04:35:21.523528 139876323346304 test_util.py:2309] time(__main__.ModelBuilderTF2Test.test_create_faster_rcnn_from_config_with_crop_feature0 (True)): 0.03s\n",
            "[       OK ] ModelBuilderTF2Test.test_create_faster_rcnn_from_config_with_crop_feature0 (True)\n",
            "[ RUN      ] ModelBuilderTF2Test.test_create_faster_rcnn_from_config_with_crop_feature1 (False)\n",
            "INFO:tensorflow:time(__main__.ModelBuilderTF2Test.test_create_faster_rcnn_from_config_with_crop_feature1 (False)): 0.02s\n",
            "I0123 04:35:21.541708 139876323346304 test_util.py:2309] time(__main__.ModelBuilderTF2Test.test_create_faster_rcnn_from_config_with_crop_feature1 (False)): 0.02s\n",
            "[       OK ] ModelBuilderTF2Test.test_create_faster_rcnn_from_config_with_crop_feature1 (False)\n",
            "[ RUN      ] ModelBuilderTF2Test.test_create_faster_rcnn_model_from_config_with_example_miner\n",
            "INFO:tensorflow:time(__main__.ModelBuilderTF2Test.test_create_faster_rcnn_model_from_config_with_example_miner): 0.02s\n",
            "I0123 04:35:21.560969 139876323346304 test_util.py:2309] time(__main__.ModelBuilderTF2Test.test_create_faster_rcnn_model_from_config_with_example_miner): 0.02s\n",
            "[       OK ] ModelBuilderTF2Test.test_create_faster_rcnn_model_from_config_with_example_miner\n",
            "[ RUN      ] ModelBuilderTF2Test.test_create_faster_rcnn_models_from_config_faster_rcnn_with_matmul\n",
            "INFO:tensorflow:time(__main__.ModelBuilderTF2Test.test_create_faster_rcnn_models_from_config_faster_rcnn_with_matmul): 0.13s\n",
            "I0123 04:35:21.687124 139876323346304 test_util.py:2309] time(__main__.ModelBuilderTF2Test.test_create_faster_rcnn_models_from_config_faster_rcnn_with_matmul): 0.13s\n",
            "[       OK ] ModelBuilderTF2Test.test_create_faster_rcnn_models_from_config_faster_rcnn_with_matmul\n",
            "[ RUN      ] ModelBuilderTF2Test.test_create_faster_rcnn_models_from_config_faster_rcnn_without_matmul\n",
            "INFO:tensorflow:time(__main__.ModelBuilderTF2Test.test_create_faster_rcnn_models_from_config_faster_rcnn_without_matmul): 0.12s\n",
            "I0123 04:35:21.808315 139876323346304 test_util.py:2309] time(__main__.ModelBuilderTF2Test.test_create_faster_rcnn_models_from_config_faster_rcnn_without_matmul): 0.12s\n",
            "[       OK ] ModelBuilderTF2Test.test_create_faster_rcnn_models_from_config_faster_rcnn_without_matmul\n",
            "[ RUN      ] ModelBuilderTF2Test.test_create_faster_rcnn_models_from_config_mask_rcnn_with_matmul\n",
            "INFO:tensorflow:time(__main__.ModelBuilderTF2Test.test_create_faster_rcnn_models_from_config_mask_rcnn_with_matmul): 0.13s\n",
            "I0123 04:35:21.935308 139876323346304 test_util.py:2309] time(__main__.ModelBuilderTF2Test.test_create_faster_rcnn_models_from_config_mask_rcnn_with_matmul): 0.13s\n",
            "[       OK ] ModelBuilderTF2Test.test_create_faster_rcnn_models_from_config_mask_rcnn_with_matmul\n",
            "[ RUN      ] ModelBuilderTF2Test.test_create_faster_rcnn_models_from_config_mask_rcnn_without_matmul\n",
            "INFO:tensorflow:time(__main__.ModelBuilderTF2Test.test_create_faster_rcnn_models_from_config_mask_rcnn_without_matmul): 0.13s\n",
            "I0123 04:35:22.063554 139876323346304 test_util.py:2309] time(__main__.ModelBuilderTF2Test.test_create_faster_rcnn_models_from_config_mask_rcnn_without_matmul): 0.13s\n",
            "[       OK ] ModelBuilderTF2Test.test_create_faster_rcnn_models_from_config_mask_rcnn_without_matmul\n",
            "[ RUN      ] ModelBuilderTF2Test.test_create_rfcn_model_from_config\n",
            "INFO:tensorflow:time(__main__.ModelBuilderTF2Test.test_create_rfcn_model_from_config): 0.11s\n",
            "I0123 04:35:22.178107 139876323346304 test_util.py:2309] time(__main__.ModelBuilderTF2Test.test_create_rfcn_model_from_config): 0.11s\n",
            "[       OK ] ModelBuilderTF2Test.test_create_rfcn_model_from_config\n",
            "[ RUN      ] ModelBuilderTF2Test.test_create_ssd_fpn_model_from_config\n",
            "INFO:tensorflow:time(__main__.ModelBuilderTF2Test.test_create_ssd_fpn_model_from_config): 0.04s\n",
            "I0123 04:35:22.216537 139876323346304 test_util.py:2309] time(__main__.ModelBuilderTF2Test.test_create_ssd_fpn_model_from_config): 0.04s\n",
            "[       OK ] ModelBuilderTF2Test.test_create_ssd_fpn_model_from_config\n",
            "[ RUN      ] ModelBuilderTF2Test.test_create_ssd_models_from_config\n",
            "I0123 04:35:22.665085 139876323346304 ssd_efficientnet_bifpn_feature_extractor.py:144] EfficientDet EfficientNet backbone version: efficientnet-b0\n",
            "I0123 04:35:22.665292 139876323346304 ssd_efficientnet_bifpn_feature_extractor.py:145] EfficientDet BiFPN num filters: 64\n",
            "I0123 04:35:22.665355 139876323346304 ssd_efficientnet_bifpn_feature_extractor.py:147] EfficientDet BiFPN num iterations: 3\n",
            "I0123 04:35:22.668323 139876323346304 efficientnet_model.py:147] round_filter input=32 output=32\n",
            "I0123 04:35:22.690544 139876323346304 efficientnet_model.py:147] round_filter input=32 output=32\n",
            "I0123 04:35:22.690738 139876323346304 efficientnet_model.py:147] round_filter input=16 output=16\n",
            "I0123 04:35:22.767186 139876323346304 efficientnet_model.py:147] round_filter input=16 output=16\n",
            "I0123 04:35:22.767409 139876323346304 efficientnet_model.py:147] round_filter input=24 output=24\n",
            "I0123 04:35:22.957270 139876323346304 efficientnet_model.py:147] round_filter input=24 output=24\n",
            "I0123 04:35:22.957504 139876323346304 efficientnet_model.py:147] round_filter input=40 output=40\n",
            "I0123 04:35:23.145616 139876323346304 efficientnet_model.py:147] round_filter input=40 output=40\n",
            "I0123 04:35:23.145834 139876323346304 efficientnet_model.py:147] round_filter input=80 output=80\n",
            "I0123 04:35:23.437901 139876323346304 efficientnet_model.py:147] round_filter input=80 output=80\n",
            "I0123 04:35:23.438116 139876323346304 efficientnet_model.py:147] round_filter input=112 output=112\n",
            "I0123 04:35:23.751052 139876323346304 efficientnet_model.py:147] round_filter input=112 output=112\n",
            "I0123 04:35:23.751285 139876323346304 efficientnet_model.py:147] round_filter input=192 output=192\n",
            "I0123 04:35:24.188426 139876323346304 efficientnet_model.py:147] round_filter input=192 output=192\n",
            "I0123 04:35:24.188646 139876323346304 efficientnet_model.py:147] round_filter input=320 output=320\n",
            "I0123 04:35:24.295481 139876323346304 efficientnet_model.py:147] round_filter input=1280 output=1280\n",
            "I0123 04:35:24.362679 139876323346304 efficientnet_model.py:458] Building model efficientnet with params ModelConfig(width_coefficient=1.0, depth_coefficient=1.0, resolution=224, dropout_rate=0.2, blocks=(BlockConfig(input_filters=32, output_filters=16, kernel_size=3, num_repeat=1, expand_ratio=1, strides=(1, 1), se_ratio=0.25, id_skip=True, fused_conv=False, conv_type='depthwise'), BlockConfig(input_filters=16, output_filters=24, kernel_size=3, num_repeat=2, expand_ratio=6, strides=(2, 2), se_ratio=0.25, id_skip=True, fused_conv=False, conv_type='depthwise'), BlockConfig(input_filters=24, output_filters=40, kernel_size=5, num_repeat=2, expand_ratio=6, strides=(2, 2), se_ratio=0.25, id_skip=True, fused_conv=False, conv_type='depthwise'), BlockConfig(input_filters=40, output_filters=80, kernel_size=3, num_repeat=3, expand_ratio=6, strides=(2, 2), se_ratio=0.25, id_skip=True, fused_conv=False, conv_type='depthwise'), BlockConfig(input_filters=80, output_filters=112, kernel_size=5, num_repeat=3, expand_ratio=6, strides=(1, 1), se_ratio=0.25, id_skip=True, fused_conv=False, conv_type='depthwise'), BlockConfig(input_filters=112, output_filters=192, kernel_size=5, num_repeat=4, expand_ratio=6, strides=(2, 2), se_ratio=0.25, id_skip=True, fused_conv=False, conv_type='depthwise'), BlockConfig(input_filters=192, output_filters=320, kernel_size=3, num_repeat=1, expand_ratio=6, strides=(1, 1), se_ratio=0.25, id_skip=True, fused_conv=False, conv_type='depthwise')), stem_base_filters=32, top_base_filters=1280, activation='simple_swish', batch_norm='default', bn_momentum=0.99, bn_epsilon=0.001, weight_decay=5e-06, drop_connect_rate=0.2, depth_divisor=8, min_depth=None, use_se=True, input_channels=3, num_classes=1000, model_name='efficientnet', rescale_input=False, data_format='channels_last', dtype='float32')\n",
            "I0123 04:35:24.424776 139876323346304 ssd_efficientnet_bifpn_feature_extractor.py:144] EfficientDet EfficientNet backbone version: efficientnet-b1\n",
            "I0123 04:35:24.425004 139876323346304 ssd_efficientnet_bifpn_feature_extractor.py:145] EfficientDet BiFPN num filters: 88\n",
            "I0123 04:35:24.425106 139876323346304 ssd_efficientnet_bifpn_feature_extractor.py:147] EfficientDet BiFPN num iterations: 4\n",
            "I0123 04:35:24.429144 139876323346304 efficientnet_model.py:147] round_filter input=32 output=32\n",
            "I0123 04:35:24.462230 139876323346304 efficientnet_model.py:147] round_filter input=32 output=32\n",
            "I0123 04:35:24.462433 139876323346304 efficientnet_model.py:147] round_filter input=16 output=16\n",
            "I0123 04:35:24.611162 139876323346304 efficientnet_model.py:147] round_filter input=16 output=16\n",
            "I0123 04:35:24.611380 139876323346304 efficientnet_model.py:147] round_filter input=24 output=24\n",
            "I0123 04:35:24.894204 139876323346304 efficientnet_model.py:147] round_filter input=24 output=24\n",
            "I0123 04:35:24.894409 139876323346304 efficientnet_model.py:147] round_filter input=40 output=40\n",
            "I0123 04:35:25.183967 139876323346304 efficientnet_model.py:147] round_filter input=40 output=40\n",
            "I0123 04:35:25.184170 139876323346304 efficientnet_model.py:147] round_filter input=80 output=80\n",
            "I0123 04:35:25.572862 139876323346304 efficientnet_model.py:147] round_filter input=80 output=80\n",
            "I0123 04:35:25.573071 139876323346304 efficientnet_model.py:147] round_filter input=112 output=112\n",
            "I0123 04:35:25.992129 139876323346304 efficientnet_model.py:147] round_filter input=112 output=112\n",
            "I0123 04:35:25.992358 139876323346304 efficientnet_model.py:147] round_filter input=192 output=192\n",
            "I0123 04:35:26.554034 139876323346304 efficientnet_model.py:147] round_filter input=192 output=192\n",
            "I0123 04:35:26.554245 139876323346304 efficientnet_model.py:147] round_filter input=320 output=320\n",
            "I0123 04:35:26.793967 139876323346304 efficientnet_model.py:147] round_filter input=1280 output=1280\n",
            "I0123 04:35:26.857534 139876323346304 efficientnet_model.py:458] Building model efficientnet with params ModelConfig(width_coefficient=1.0, depth_coefficient=1.1, resolution=240, dropout_rate=0.2, blocks=(BlockConfig(input_filters=32, output_filters=16, kernel_size=3, num_repeat=1, expand_ratio=1, strides=(1, 1), se_ratio=0.25, id_skip=True, fused_conv=False, conv_type='depthwise'), BlockConfig(input_filters=16, output_filters=24, kernel_size=3, num_repeat=2, expand_ratio=6, strides=(2, 2), se_ratio=0.25, id_skip=True, fused_conv=False, conv_type='depthwise'), BlockConfig(input_filters=24, output_filters=40, kernel_size=5, num_repeat=2, expand_ratio=6, strides=(2, 2), se_ratio=0.25, id_skip=True, fused_conv=False, conv_type='depthwise'), BlockConfig(input_filters=40, output_filters=80, kernel_size=3, num_repeat=3, expand_ratio=6, strides=(2, 2), se_ratio=0.25, id_skip=True, fused_conv=False, conv_type='depthwise'), BlockConfig(input_filters=80, output_filters=112, kernel_size=5, num_repeat=3, expand_ratio=6, strides=(1, 1), se_ratio=0.25, id_skip=True, fused_conv=False, conv_type='depthwise'), BlockConfig(input_filters=112, output_filters=192, kernel_size=5, num_repeat=4, expand_ratio=6, strides=(2, 2), se_ratio=0.25, id_skip=True, fused_conv=False, conv_type='depthwise'), BlockConfig(input_filters=192, output_filters=320, kernel_size=3, num_repeat=1, expand_ratio=6, strides=(1, 1), se_ratio=0.25, id_skip=True, fused_conv=False, conv_type='depthwise')), stem_base_filters=32, top_base_filters=1280, activation='simple_swish', batch_norm='default', bn_momentum=0.99, bn_epsilon=0.001, weight_decay=5e-06, drop_connect_rate=0.2, depth_divisor=8, min_depth=None, use_se=True, input_channels=3, num_classes=1000, model_name='efficientnet', rescale_input=False, data_format='channels_last', dtype='float32')\n",
            "I0123 04:35:26.931412 139876323346304 ssd_efficientnet_bifpn_feature_extractor.py:144] EfficientDet EfficientNet backbone version: efficientnet-b2\n",
            "I0123 04:35:26.931632 139876323346304 ssd_efficientnet_bifpn_feature_extractor.py:145] EfficientDet BiFPN num filters: 112\n",
            "I0123 04:35:26.931700 139876323346304 ssd_efficientnet_bifpn_feature_extractor.py:147] EfficientDet BiFPN num iterations: 5\n",
            "I0123 04:35:26.933655 139876323346304 efficientnet_model.py:147] round_filter input=32 output=32\n",
            "I0123 04:35:26.952925 139876323346304 efficientnet_model.py:147] round_filter input=32 output=32\n",
            "I0123 04:35:26.953113 139876323346304 efficientnet_model.py:147] round_filter input=16 output=16\n",
            "I0123 04:35:27.099274 139876323346304 efficientnet_model.py:147] round_filter input=16 output=16\n",
            "I0123 04:35:27.099470 139876323346304 efficientnet_model.py:147] round_filter input=24 output=24\n",
            "I0123 04:35:27.577632 139876323346304 efficientnet_model.py:147] round_filter input=24 output=24\n",
            "I0123 04:35:27.577859 139876323346304 efficientnet_model.py:147] round_filter input=40 output=48\n",
            "I0123 04:35:27.876296 139876323346304 efficientnet_model.py:147] round_filter input=40 output=48\n",
            "I0123 04:35:27.876572 139876323346304 efficientnet_model.py:147] round_filter input=80 output=88\n",
            "I0123 04:35:28.274320 139876323346304 efficientnet_model.py:147] round_filter input=80 output=88\n",
            "I0123 04:35:28.274537 139876323346304 efficientnet_model.py:147] round_filter input=112 output=120\n",
            "I0123 04:35:28.713448 139876323346304 efficientnet_model.py:147] round_filter input=112 output=120\n",
            "I0123 04:35:28.713658 139876323346304 efficientnet_model.py:147] round_filter input=192 output=208\n",
            "I0123 04:35:29.266898 139876323346304 efficientnet_model.py:147] round_filter input=192 output=208\n",
            "I0123 04:35:29.267122 139876323346304 efficientnet_model.py:147] round_filter input=320 output=352\n",
            "I0123 04:35:29.533552 139876323346304 efficientnet_model.py:147] round_filter input=1280 output=1408\n",
            "I0123 04:35:29.599107 139876323346304 efficientnet_model.py:458] Building model efficientnet with params ModelConfig(width_coefficient=1.1, depth_coefficient=1.2, resolution=260, dropout_rate=0.3, blocks=(BlockConfig(input_filters=32, output_filters=16, kernel_size=3, num_repeat=1, expand_ratio=1, strides=(1, 1), se_ratio=0.25, id_skip=True, fused_conv=False, conv_type='depthwise'), BlockConfig(input_filters=16, output_filters=24, kernel_size=3, num_repeat=2, expand_ratio=6, strides=(2, 2), se_ratio=0.25, id_skip=True, fused_conv=False, conv_type='depthwise'), BlockConfig(input_filters=24, output_filters=40, kernel_size=5, num_repeat=2, expand_ratio=6, strides=(2, 2), se_ratio=0.25, id_skip=True, fused_conv=False, conv_type='depthwise'), BlockConfig(input_filters=40, output_filters=80, kernel_size=3, num_repeat=3, expand_ratio=6, strides=(2, 2), se_ratio=0.25, id_skip=True, fused_conv=False, conv_type='depthwise'), BlockConfig(input_filters=80, output_filters=112, kernel_size=5, num_repeat=3, expand_ratio=6, strides=(1, 1), se_ratio=0.25, id_skip=True, fused_conv=False, conv_type='depthwise'), BlockConfig(input_filters=112, output_filters=192, kernel_size=5, num_repeat=4, expand_ratio=6, strides=(2, 2), se_ratio=0.25, id_skip=True, fused_conv=False, conv_type='depthwise'), BlockConfig(input_filters=192, output_filters=320, kernel_size=3, num_repeat=1, expand_ratio=6, strides=(1, 1), se_ratio=0.25, id_skip=True, fused_conv=False, conv_type='depthwise')), stem_base_filters=32, top_base_filters=1280, activation='simple_swish', batch_norm='default', bn_momentum=0.99, bn_epsilon=0.001, weight_decay=5e-06, drop_connect_rate=0.2, depth_divisor=8, min_depth=None, use_se=True, input_channels=3, num_classes=1000, model_name='efficientnet', rescale_input=False, data_format='channels_last', dtype='float32')\n",
            "I0123 04:35:29.673179 139876323346304 ssd_efficientnet_bifpn_feature_extractor.py:144] EfficientDet EfficientNet backbone version: efficientnet-b3\n",
            "I0123 04:35:29.673393 139876323346304 ssd_efficientnet_bifpn_feature_extractor.py:145] EfficientDet BiFPN num filters: 160\n",
            "I0123 04:35:29.673457 139876323346304 ssd_efficientnet_bifpn_feature_extractor.py:147] EfficientDet BiFPN num iterations: 6\n",
            "I0123 04:35:29.675415 139876323346304 efficientnet_model.py:147] round_filter input=32 output=40\n",
            "I0123 04:35:29.694897 139876323346304 efficientnet_model.py:147] round_filter input=32 output=40\n",
            "I0123 04:35:29.695086 139876323346304 efficientnet_model.py:147] round_filter input=16 output=24\n",
            "I0123 04:35:29.852128 139876323346304 efficientnet_model.py:147] round_filter input=16 output=24\n",
            "I0123 04:35:29.852338 139876323346304 efficientnet_model.py:147] round_filter input=24 output=32\n",
            "I0123 04:35:30.155300 139876323346304 efficientnet_model.py:147] round_filter input=24 output=32\n",
            "I0123 04:35:30.155533 139876323346304 efficientnet_model.py:147] round_filter input=40 output=48\n",
            "I0123 04:35:30.434974 139876323346304 efficientnet_model.py:147] round_filter input=40 output=48\n",
            "I0123 04:35:30.435179 139876323346304 efficientnet_model.py:147] round_filter input=80 output=96\n",
            "I0123 04:35:30.951925 139876323346304 efficientnet_model.py:147] round_filter input=80 output=96\n",
            "I0123 04:35:30.952159 139876323346304 efficientnet_model.py:147] round_filter input=112 output=136\n",
            "I0123 04:35:31.473233 139876323346304 efficientnet_model.py:147] round_filter input=112 output=136\n",
            "I0123 04:35:31.473458 139876323346304 efficientnet_model.py:147] round_filter input=192 output=232\n",
            "I0123 04:35:32.194720 139876323346304 efficientnet_model.py:147] round_filter input=192 output=232\n",
            "I0123 04:35:32.194948 139876323346304 efficientnet_model.py:147] round_filter input=320 output=384\n",
            "I0123 04:35:32.481238 139876323346304 efficientnet_model.py:147] round_filter input=1280 output=1536\n",
            "I0123 04:35:32.556870 139876323346304 efficientnet_model.py:458] Building model efficientnet with params ModelConfig(width_coefficient=1.2, depth_coefficient=1.4, resolution=300, dropout_rate=0.3, blocks=(BlockConfig(input_filters=32, output_filters=16, kernel_size=3, num_repeat=1, expand_ratio=1, strides=(1, 1), se_ratio=0.25, id_skip=True, fused_conv=False, conv_type='depthwise'), BlockConfig(input_filters=16, output_filters=24, kernel_size=3, num_repeat=2, expand_ratio=6, strides=(2, 2), se_ratio=0.25, id_skip=True, fused_conv=False, conv_type='depthwise'), BlockConfig(input_filters=24, output_filters=40, kernel_size=5, num_repeat=2, expand_ratio=6, strides=(2, 2), se_ratio=0.25, id_skip=True, fused_conv=False, conv_type='depthwise'), BlockConfig(input_filters=40, output_filters=80, kernel_size=3, num_repeat=3, expand_ratio=6, strides=(2, 2), se_ratio=0.25, id_skip=True, fused_conv=False, conv_type='depthwise'), BlockConfig(input_filters=80, output_filters=112, kernel_size=5, num_repeat=3, expand_ratio=6, strides=(1, 1), se_ratio=0.25, id_skip=True, fused_conv=False, conv_type='depthwise'), BlockConfig(input_filters=112, output_filters=192, kernel_size=5, num_repeat=4, expand_ratio=6, strides=(2, 2), se_ratio=0.25, id_skip=True, fused_conv=False, conv_type='depthwise'), BlockConfig(input_filters=192, output_filters=320, kernel_size=3, num_repeat=1, expand_ratio=6, strides=(1, 1), se_ratio=0.25, id_skip=True, fused_conv=False, conv_type='depthwise')), stem_base_filters=32, top_base_filters=1280, activation='simple_swish', batch_norm='default', bn_momentum=0.99, bn_epsilon=0.001, weight_decay=5e-06, drop_connect_rate=0.2, depth_divisor=8, min_depth=None, use_se=True, input_channels=3, num_classes=1000, model_name='efficientnet', rescale_input=False, data_format='channels_last', dtype='float32')\n",
            "I0123 04:35:32.647060 139876323346304 ssd_efficientnet_bifpn_feature_extractor.py:144] EfficientDet EfficientNet backbone version: efficientnet-b4\n",
            "I0123 04:35:32.647301 139876323346304 ssd_efficientnet_bifpn_feature_extractor.py:145] EfficientDet BiFPN num filters: 224\n",
            "I0123 04:35:32.647405 139876323346304 ssd_efficientnet_bifpn_feature_extractor.py:147] EfficientDet BiFPN num iterations: 7\n",
            "I0123 04:35:32.649535 139876323346304 efficientnet_model.py:147] round_filter input=32 output=48\n",
            "I0123 04:35:32.670933 139876323346304 efficientnet_model.py:147] round_filter input=32 output=48\n",
            "I0123 04:35:32.671151 139876323346304 efficientnet_model.py:147] round_filter input=16 output=24\n",
            "I0123 04:35:32.831957 139876323346304 efficientnet_model.py:147] round_filter input=16 output=24\n",
            "I0123 04:35:32.832163 139876323346304 efficientnet_model.py:147] round_filter input=24 output=32\n",
            "I0123 04:35:33.218619 139876323346304 efficientnet_model.py:147] round_filter input=24 output=32\n",
            "I0123 04:35:33.218824 139876323346304 efficientnet_model.py:147] round_filter input=40 output=56\n",
            "I0123 04:35:33.604642 139876323346304 efficientnet_model.py:147] round_filter input=40 output=56\n",
            "I0123 04:35:33.604884 139876323346304 efficientnet_model.py:147] round_filter input=80 output=112\n",
            "I0123 04:35:34.490373 139876323346304 efficientnet_model.py:147] round_filter input=80 output=112\n",
            "I0123 04:35:34.490603 139876323346304 efficientnet_model.py:147] round_filter input=112 output=160\n",
            "I0123 04:35:35.149360 139876323346304 efficientnet_model.py:147] round_filter input=112 output=160\n",
            "I0123 04:35:35.149586 139876323346304 efficientnet_model.py:147] round_filter input=192 output=272\n",
            "I0123 04:35:36.151362 139876323346304 efficientnet_model.py:147] round_filter input=192 output=272\n",
            "I0123 04:35:36.151579 139876323346304 efficientnet_model.py:147] round_filter input=320 output=448\n",
            "I0123 04:35:36.446237 139876323346304 efficientnet_model.py:147] round_filter input=1280 output=1792\n",
            "I0123 04:35:36.515955 139876323346304 efficientnet_model.py:458] Building model efficientnet with params ModelConfig(width_coefficient=1.4, depth_coefficient=1.8, resolution=380, dropout_rate=0.4, blocks=(BlockConfig(input_filters=32, output_filters=16, kernel_size=3, num_repeat=1, expand_ratio=1, strides=(1, 1), se_ratio=0.25, id_skip=True, fused_conv=False, conv_type='depthwise'), BlockConfig(input_filters=16, output_filters=24, kernel_size=3, num_repeat=2, expand_ratio=6, strides=(2, 2), se_ratio=0.25, id_skip=True, fused_conv=False, conv_type='depthwise'), BlockConfig(input_filters=24, output_filters=40, kernel_size=5, num_repeat=2, expand_ratio=6, strides=(2, 2), se_ratio=0.25, id_skip=True, fused_conv=False, conv_type='depthwise'), BlockConfig(input_filters=40, output_filters=80, kernel_size=3, num_repeat=3, expand_ratio=6, strides=(2, 2), se_ratio=0.25, id_skip=True, fused_conv=False, conv_type='depthwise'), BlockConfig(input_filters=80, output_filters=112, kernel_size=5, num_repeat=3, expand_ratio=6, strides=(1, 1), se_ratio=0.25, id_skip=True, fused_conv=False, conv_type='depthwise'), BlockConfig(input_filters=112, output_filters=192, kernel_size=5, num_repeat=4, expand_ratio=6, strides=(2, 2), se_ratio=0.25, id_skip=True, fused_conv=False, conv_type='depthwise'), BlockConfig(input_filters=192, output_filters=320, kernel_size=3, num_repeat=1, expand_ratio=6, strides=(1, 1), se_ratio=0.25, id_skip=True, fused_conv=False, conv_type='depthwise')), stem_base_filters=32, top_base_filters=1280, activation='simple_swish', batch_norm='default', bn_momentum=0.99, bn_epsilon=0.001, weight_decay=5e-06, drop_connect_rate=0.2, depth_divisor=8, min_depth=None, use_se=True, input_channels=3, num_classes=1000, model_name='efficientnet', rescale_input=False, data_format='channels_last', dtype='float32')\n",
            "I0123 04:35:36.617906 139876323346304 ssd_efficientnet_bifpn_feature_extractor.py:144] EfficientDet EfficientNet backbone version: efficientnet-b5\n",
            "I0123 04:35:36.618131 139876323346304 ssd_efficientnet_bifpn_feature_extractor.py:145] EfficientDet BiFPN num filters: 288\n",
            "I0123 04:35:36.618232 139876323346304 ssd_efficientnet_bifpn_feature_extractor.py:147] EfficientDet BiFPN num iterations: 7\n",
            "I0123 04:35:36.620543 139876323346304 efficientnet_model.py:147] round_filter input=32 output=48\n",
            "I0123 04:35:36.639858 139876323346304 efficientnet_model.py:147] round_filter input=32 output=48\n",
            "I0123 04:35:36.640062 139876323346304 efficientnet_model.py:147] round_filter input=16 output=24\n",
            "I0123 04:35:36.872733 139876323346304 efficientnet_model.py:147] round_filter input=16 output=24\n",
            "I0123 04:35:36.872961 139876323346304 efficientnet_model.py:147] round_filter input=24 output=40\n",
            "I0123 04:35:37.341231 139876323346304 efficientnet_model.py:147] round_filter input=24 output=40\n",
            "I0123 04:35:37.341453 139876323346304 efficientnet_model.py:147] round_filter input=40 output=64\n",
            "I0123 04:35:37.842513 139876323346304 efficientnet_model.py:147] round_filter input=40 output=64\n",
            "I0123 04:35:37.842734 139876323346304 efficientnet_model.py:147] round_filter input=80 output=128\n",
            "I0123 04:35:38.562773 139876323346304 efficientnet_model.py:147] round_filter input=80 output=128\n",
            "I0123 04:35:38.563005 139876323346304 efficientnet_model.py:147] round_filter input=112 output=176\n",
            "I0123 04:35:39.326453 139876323346304 efficientnet_model.py:147] round_filter input=112 output=176\n",
            "I0123 04:35:39.326658 139876323346304 efficientnet_model.py:147] round_filter input=192 output=304\n",
            "I0123 04:35:40.468673 139876323346304 efficientnet_model.py:147] round_filter input=192 output=304\n",
            "I0123 04:35:40.468919 139876323346304 efficientnet_model.py:147] round_filter input=320 output=512\n",
            "I0123 04:35:40.999403 139876323346304 efficientnet_model.py:147] round_filter input=1280 output=2048\n",
            "I0123 04:35:41.341573 139876323346304 efficientnet_model.py:458] Building model efficientnet with params ModelConfig(width_coefficient=1.6, depth_coefficient=2.2, resolution=456, dropout_rate=0.4, blocks=(BlockConfig(input_filters=32, output_filters=16, kernel_size=3, num_repeat=1, expand_ratio=1, strides=(1, 1), se_ratio=0.25, id_skip=True, fused_conv=False, conv_type='depthwise'), BlockConfig(input_filters=16, output_filters=24, kernel_size=3, num_repeat=2, expand_ratio=6, strides=(2, 2), se_ratio=0.25, id_skip=True, fused_conv=False, conv_type='depthwise'), BlockConfig(input_filters=24, output_filters=40, kernel_size=5, num_repeat=2, expand_ratio=6, strides=(2, 2), se_ratio=0.25, id_skip=True, fused_conv=False, conv_type='depthwise'), BlockConfig(input_filters=40, output_filters=80, kernel_size=3, num_repeat=3, expand_ratio=6, strides=(2, 2), se_ratio=0.25, id_skip=True, fused_conv=False, conv_type='depthwise'), BlockConfig(input_filters=80, output_filters=112, kernel_size=5, num_repeat=3, expand_ratio=6, strides=(1, 1), se_ratio=0.25, id_skip=True, fused_conv=False, conv_type='depthwise'), BlockConfig(input_filters=112, output_filters=192, kernel_size=5, num_repeat=4, expand_ratio=6, strides=(2, 2), se_ratio=0.25, id_skip=True, fused_conv=False, conv_type='depthwise'), BlockConfig(input_filters=192, output_filters=320, kernel_size=3, num_repeat=1, expand_ratio=6, strides=(1, 1), se_ratio=0.25, id_skip=True, fused_conv=False, conv_type='depthwise')), stem_base_filters=32, top_base_filters=1280, activation='simple_swish', batch_norm='default', bn_momentum=0.99, bn_epsilon=0.001, weight_decay=5e-06, drop_connect_rate=0.2, depth_divisor=8, min_depth=None, use_se=True, input_channels=3, num_classes=1000, model_name='efficientnet', rescale_input=False, data_format='channels_last', dtype='float32')\n",
            "I0123 04:35:41.447891 139876323346304 ssd_efficientnet_bifpn_feature_extractor.py:144] EfficientDet EfficientNet backbone version: efficientnet-b6\n",
            "I0123 04:35:41.448108 139876323346304 ssd_efficientnet_bifpn_feature_extractor.py:145] EfficientDet BiFPN num filters: 384\n",
            "I0123 04:35:41.448200 139876323346304 ssd_efficientnet_bifpn_feature_extractor.py:147] EfficientDet BiFPN num iterations: 8\n",
            "I0123 04:35:41.450165 139876323346304 efficientnet_model.py:147] round_filter input=32 output=56\n",
            "I0123 04:35:41.468549 139876323346304 efficientnet_model.py:147] round_filter input=32 output=56\n",
            "I0123 04:35:41.468768 139876323346304 efficientnet_model.py:147] round_filter input=16 output=32\n",
            "I0123 04:35:41.699002 139876323346304 efficientnet_model.py:147] round_filter input=16 output=32\n",
            "I0123 04:35:41.699263 139876323346304 efficientnet_model.py:147] round_filter input=24 output=40\n",
            "I0123 04:35:42.279258 139876323346304 efficientnet_model.py:147] round_filter input=24 output=40\n",
            "I0123 04:35:42.279482 139876323346304 efficientnet_model.py:147] round_filter input=40 output=72\n",
            "I0123 04:35:42.873470 139876323346304 efficientnet_model.py:147] round_filter input=40 output=72\n",
            "I0123 04:35:42.873689 139876323346304 efficientnet_model.py:147] round_filter input=80 output=144\n",
            "I0123 04:35:43.693029 139876323346304 efficientnet_model.py:147] round_filter input=80 output=144\n",
            "I0123 04:35:43.693252 139876323346304 efficientnet_model.py:147] round_filter input=112 output=200\n",
            "I0123 04:35:44.604243 139876323346304 efficientnet_model.py:147] round_filter input=112 output=200\n",
            "I0123 04:35:44.604447 139876323346304 efficientnet_model.py:147] round_filter input=192 output=344\n",
            "I0123 04:35:46.188937 139876323346304 efficientnet_model.py:147] round_filter input=192 output=344\n",
            "I0123 04:35:46.189142 139876323346304 efficientnet_model.py:147] round_filter input=320 output=576\n",
            "I0123 04:35:46.778575 139876323346304 efficientnet_model.py:147] round_filter input=1280 output=2304\n",
            "I0123 04:35:46.880819 139876323346304 efficientnet_model.py:458] Building model efficientnet with params ModelConfig(width_coefficient=1.8, depth_coefficient=2.6, resolution=528, dropout_rate=0.5, blocks=(BlockConfig(input_filters=32, output_filters=16, kernel_size=3, num_repeat=1, expand_ratio=1, strides=(1, 1), se_ratio=0.25, id_skip=True, fused_conv=False, conv_type='depthwise'), BlockConfig(input_filters=16, output_filters=24, kernel_size=3, num_repeat=2, expand_ratio=6, strides=(2, 2), se_ratio=0.25, id_skip=True, fused_conv=False, conv_type='depthwise'), BlockConfig(input_filters=24, output_filters=40, kernel_size=5, num_repeat=2, expand_ratio=6, strides=(2, 2), se_ratio=0.25, id_skip=True, fused_conv=False, conv_type='depthwise'), BlockConfig(input_filters=40, output_filters=80, kernel_size=3, num_repeat=3, expand_ratio=6, strides=(2, 2), se_ratio=0.25, id_skip=True, fused_conv=False, conv_type='depthwise'), BlockConfig(input_filters=80, output_filters=112, kernel_size=5, num_repeat=3, expand_ratio=6, strides=(1, 1), se_ratio=0.25, id_skip=True, fused_conv=False, conv_type='depthwise'), BlockConfig(input_filters=112, output_filters=192, kernel_size=5, num_repeat=4, expand_ratio=6, strides=(2, 2), se_ratio=0.25, id_skip=True, fused_conv=False, conv_type='depthwise'), BlockConfig(input_filters=192, output_filters=320, kernel_size=3, num_repeat=1, expand_ratio=6, strides=(1, 1), se_ratio=0.25, id_skip=True, fused_conv=False, conv_type='depthwise')), stem_base_filters=32, top_base_filters=1280, activation='simple_swish', batch_norm='default', bn_momentum=0.99, bn_epsilon=0.001, weight_decay=5e-06, drop_connect_rate=0.2, depth_divisor=8, min_depth=None, use_se=True, input_channels=3, num_classes=1000, model_name='efficientnet', rescale_input=False, data_format='channels_last', dtype='float32')\n",
            "I0123 04:35:47.005121 139876323346304 ssd_efficientnet_bifpn_feature_extractor.py:144] EfficientDet EfficientNet backbone version: efficientnet-b7\n",
            "I0123 04:35:47.005336 139876323346304 ssd_efficientnet_bifpn_feature_extractor.py:145] EfficientDet BiFPN num filters: 384\n",
            "I0123 04:35:47.005404 139876323346304 ssd_efficientnet_bifpn_feature_extractor.py:147] EfficientDet BiFPN num iterations: 8\n",
            "I0123 04:35:47.007506 139876323346304 efficientnet_model.py:147] round_filter input=32 output=64\n",
            "I0123 04:35:47.026970 139876323346304 efficientnet_model.py:147] round_filter input=32 output=64\n",
            "I0123 04:35:47.027191 139876323346304 efficientnet_model.py:147] round_filter input=16 output=32\n",
            "I0123 04:35:47.322606 139876323346304 efficientnet_model.py:147] round_filter input=16 output=32\n",
            "I0123 04:35:47.322806 139876323346304 efficientnet_model.py:147] round_filter input=24 output=48\n",
            "I0123 04:35:48.002360 139876323346304 efficientnet_model.py:147] round_filter input=24 output=48\n",
            "I0123 04:35:48.002593 139876323346304 efficientnet_model.py:147] round_filter input=40 output=80\n",
            "I0123 04:35:49.068277 139876323346304 efficientnet_model.py:147] round_filter input=40 output=80\n",
            "I0123 04:35:49.068489 139876323346304 efficientnet_model.py:147] round_filter input=80 output=160\n",
            "I0123 04:35:50.120206 139876323346304 efficientnet_model.py:147] round_filter input=80 output=160\n",
            "I0123 04:35:50.120413 139876323346304 efficientnet_model.py:147] round_filter input=112 output=224\n",
            "I0123 04:35:51.281464 139876323346304 efficientnet_model.py:147] round_filter input=112 output=224\n",
            "I0123 04:35:51.281702 139876323346304 efficientnet_model.py:147] round_filter input=192 output=384\n",
            "I0123 04:35:53.316560 139876323346304 efficientnet_model.py:147] round_filter input=192 output=384\n",
            "I0123 04:35:53.316794 139876323346304 efficientnet_model.py:147] round_filter input=320 output=640\n",
            "I0123 04:35:54.236617 139876323346304 efficientnet_model.py:147] round_filter input=1280 output=2560\n",
            "I0123 04:35:54.334930 139876323346304 efficientnet_model.py:458] Building model efficientnet with params ModelConfig(width_coefficient=2.0, depth_coefficient=3.1, resolution=600, dropout_rate=0.5, blocks=(BlockConfig(input_filters=32, output_filters=16, kernel_size=3, num_repeat=1, expand_ratio=1, strides=(1, 1), se_ratio=0.25, id_skip=True, fused_conv=False, conv_type='depthwise'), BlockConfig(input_filters=16, output_filters=24, kernel_size=3, num_repeat=2, expand_ratio=6, strides=(2, 2), se_ratio=0.25, id_skip=True, fused_conv=False, conv_type='depthwise'), BlockConfig(input_filters=24, output_filters=40, kernel_size=5, num_repeat=2, expand_ratio=6, strides=(2, 2), se_ratio=0.25, id_skip=True, fused_conv=False, conv_type='depthwise'), BlockConfig(input_filters=40, output_filters=80, kernel_size=3, num_repeat=3, expand_ratio=6, strides=(2, 2), se_ratio=0.25, id_skip=True, fused_conv=False, conv_type='depthwise'), BlockConfig(input_filters=80, output_filters=112, kernel_size=5, num_repeat=3, expand_ratio=6, strides=(1, 1), se_ratio=0.25, id_skip=True, fused_conv=False, conv_type='depthwise'), BlockConfig(input_filters=112, output_filters=192, kernel_size=5, num_repeat=4, expand_ratio=6, strides=(2, 2), se_ratio=0.25, id_skip=True, fused_conv=False, conv_type='depthwise'), BlockConfig(input_filters=192, output_filters=320, kernel_size=3, num_repeat=1, expand_ratio=6, strides=(1, 1), se_ratio=0.25, id_skip=True, fused_conv=False, conv_type='depthwise')), stem_base_filters=32, top_base_filters=1280, activation='simple_swish', batch_norm='default', bn_momentum=0.99, bn_epsilon=0.001, weight_decay=5e-06, drop_connect_rate=0.2, depth_divisor=8, min_depth=None, use_se=True, input_channels=3, num_classes=1000, model_name='efficientnet', rescale_input=False, data_format='channels_last', dtype='float32')\n",
            "INFO:tensorflow:time(__main__.ModelBuilderTF2Test.test_create_ssd_models_from_config): 32.28s\n",
            "I0123 04:35:54.494567 139876323346304 test_util.py:2309] time(__main__.ModelBuilderTF2Test.test_create_ssd_models_from_config): 32.28s\n",
            "[       OK ] ModelBuilderTF2Test.test_create_ssd_models_from_config\n",
            "[ RUN      ] ModelBuilderTF2Test.test_invalid_faster_rcnn_batchnorm_update\n",
            "INFO:tensorflow:time(__main__.ModelBuilderTF2Test.test_invalid_faster_rcnn_batchnorm_update): 0.0s\n",
            "I0123 04:35:54.503473 139876323346304 test_util.py:2309] time(__main__.ModelBuilderTF2Test.test_invalid_faster_rcnn_batchnorm_update): 0.0s\n",
            "[       OK ] ModelBuilderTF2Test.test_invalid_faster_rcnn_batchnorm_update\n",
            "[ RUN      ] ModelBuilderTF2Test.test_invalid_first_stage_nms_iou_threshold\n",
            "INFO:tensorflow:time(__main__.ModelBuilderTF2Test.test_invalid_first_stage_nms_iou_threshold): 0.0s\n",
            "I0123 04:35:54.505668 139876323346304 test_util.py:2309] time(__main__.ModelBuilderTF2Test.test_invalid_first_stage_nms_iou_threshold): 0.0s\n",
            "[       OK ] ModelBuilderTF2Test.test_invalid_first_stage_nms_iou_threshold\n",
            "[ RUN      ] ModelBuilderTF2Test.test_invalid_model_config_proto\n",
            "INFO:tensorflow:time(__main__.ModelBuilderTF2Test.test_invalid_model_config_proto): 0.0s\n",
            "I0123 04:35:54.506345 139876323346304 test_util.py:2309] time(__main__.ModelBuilderTF2Test.test_invalid_model_config_proto): 0.0s\n",
            "[       OK ] ModelBuilderTF2Test.test_invalid_model_config_proto\n",
            "[ RUN      ] ModelBuilderTF2Test.test_invalid_second_stage_batch_size\n",
            "INFO:tensorflow:time(__main__.ModelBuilderTF2Test.test_invalid_second_stage_batch_size): 0.0s\n",
            "I0123 04:35:54.508195 139876323346304 test_util.py:2309] time(__main__.ModelBuilderTF2Test.test_invalid_second_stage_batch_size): 0.0s\n",
            "[       OK ] ModelBuilderTF2Test.test_invalid_second_stage_batch_size\n",
            "[ RUN      ] ModelBuilderTF2Test.test_session\n",
            "[  SKIPPED ] ModelBuilderTF2Test.test_session\n",
            "[ RUN      ] ModelBuilderTF2Test.test_unknown_faster_rcnn_feature_extractor\n",
            "INFO:tensorflow:time(__main__.ModelBuilderTF2Test.test_unknown_faster_rcnn_feature_extractor): 0.0s\n",
            "I0123 04:35:54.509787 139876323346304 test_util.py:2309] time(__main__.ModelBuilderTF2Test.test_unknown_faster_rcnn_feature_extractor): 0.0s\n",
            "[       OK ] ModelBuilderTF2Test.test_unknown_faster_rcnn_feature_extractor\n",
            "[ RUN      ] ModelBuilderTF2Test.test_unknown_meta_architecture\n",
            "INFO:tensorflow:time(__main__.ModelBuilderTF2Test.test_unknown_meta_architecture): 0.0s\n",
            "I0123 04:35:54.510308 139876323346304 test_util.py:2309] time(__main__.ModelBuilderTF2Test.test_unknown_meta_architecture): 0.0s\n",
            "[       OK ] ModelBuilderTF2Test.test_unknown_meta_architecture\n",
            "[ RUN      ] ModelBuilderTF2Test.test_unknown_ssd_feature_extractor\n",
            "INFO:tensorflow:time(__main__.ModelBuilderTF2Test.test_unknown_ssd_feature_extractor): 0.0s\n",
            "I0123 04:35:54.511438 139876323346304 test_util.py:2309] time(__main__.ModelBuilderTF2Test.test_unknown_ssd_feature_extractor): 0.0s\n",
            "[       OK ] ModelBuilderTF2Test.test_unknown_ssd_feature_extractor\n",
            "----------------------------------------------------------------------\n",
            "Ran 20 tests in 37.358s\n",
            "\n",
            "OK (skipped=1)\n",
            "Done\n"
          ]
        }
      ]
    },
    {
      "cell_type": "markdown",
      "metadata": {
        "id": "1Y5ma8PIuFt_"
      },
      "source": [
        "Resources Used\n",
        "- wget.download('https://tensorflow-object-detection-api-tutorial.readthedocs.io/en/latest/_downloads/da4babe668a8afb093cc7776d7e630f3/generate_tfrecord.py')\n",
        "- Setup https://tensorflow-object-detection-api-tutorial.readthedocs.io/en/latest/install.html"
      ]
    },
    {
      "cell_type": "markdown",
      "metadata": {
        "id": "KHiVnr2KuFuD"
      },
      "source": [
        "# 0. Setup Paths"
      ]
    },
    {
      "cell_type": "code",
      "source": [
        "%cd '/content/drive/My Drive/SignRecongnition/RealTimeObjectDetection/'"
      ],
      "metadata": {
        "colab": {
          "base_uri": "https://localhost:8080/"
        },
        "id": "RHP7o5QgubNk",
        "outputId": "89ab6a60-b29f-43c8-e384-d71458c6a10b"
      },
      "execution_count": 9,
      "outputs": [
        {
          "output_type": "stream",
          "name": "stdout",
          "text": [
            "/content/drive/My Drive/SignRecongnition/RealTimeObjectDetection\n"
          ]
        }
      ]
    },
    {
      "cell_type": "code",
      "source": [
        "!pwd"
      ],
      "metadata": {
        "colab": {
          "base_uri": "https://localhost:8080/"
        },
        "id": "OFokG7D3uokE",
        "outputId": "c7694610-5efb-4066-9ee9-66067ef43ac8"
      },
      "execution_count": 14,
      "outputs": [
        {
          "output_type": "stream",
          "name": "stdout",
          "text": [
            "/content/drive/My Drive/SignRecongnition/RealTimeObjectDetection\n"
          ]
        }
      ]
    },
    {
      "cell_type": "code",
      "execution_count": 10,
      "metadata": {
        "id": "R4pppjwMuFuF"
      },
      "outputs": [],
      "source": [
        "WORKSPACE_PATH = 'Tensorflow/workspace'\n",
        "SCRIPTS_PATH = 'Tensorflow/scripts'\n",
        "APIMODEL_PATH = 'Tensorflow/models'\n",
        "ANNOTATION_PATH = WORKSPACE_PATH+'/annotations'\n",
        "IMAGE_PATH = WORKSPACE_PATH+'/images'\n",
        "MODEL_PATH = WORKSPACE_PATH+'/models'\n",
        "PRETRAINED_MODEL_PATH = WORKSPACE_PATH+'/pre-trained-models'\n",
        "CONFIG_PATH = MODEL_PATH+'/my_ssd_mobnet/pipeline.config'\n",
        "CHECKPOINT_PATH = MODEL_PATH+'/my_ssd_mobnet/'"
      ]
    },
    {
      "cell_type": "code",
      "source": [
        "!ls Tensorflow/workspace"
      ],
      "metadata": {
        "colab": {
          "base_uri": "https://localhost:8080/"
        },
        "id": "JmpHjt4WvZL-",
        "outputId": "439fab0e-eb69-4e1a-8a80-8f21a7cc716b"
      },
      "execution_count": 16,
      "outputs": [
        {
          "output_type": "stream",
          "name": "stdout",
          "text": [
            "annotations  images  models  pre-trained-models\n"
          ]
        }
      ]
    },
    {
      "cell_type": "code",
      "source": [
        "!pwd"
      ],
      "metadata": {
        "colab": {
          "base_uri": "https://localhost:8080/"
        },
        "id": "CUR484MlvXx-",
        "outputId": "38dc1093-b44d-4169-a7a6-85152c8924d5"
      },
      "execution_count": null,
      "outputs": [
        {
          "output_type": "stream",
          "name": "stdout",
          "text": [
            "/content/drive/My Drive/SignRecongnition/RealTimeObjectDetection\n"
          ]
        }
      ]
    },
    {
      "cell_type": "code",
      "source": [
        "ANNOTATION_PATH + '/label_map.pbtxt'"
      ],
      "metadata": {
        "colab": {
          "base_uri": "https://localhost:8080/",
          "height": 35
        },
        "id": "WnRXMkCYvw4g",
        "outputId": "7cb39128-909c-440a-d321-e04a9448e9ce"
      },
      "execution_count": 11,
      "outputs": [
        {
          "output_type": "execute_result",
          "data": {
            "application/vnd.google.colaboratory.intrinsic+json": {
              "type": "string"
            },
            "text/plain": [
              "'Tensorflow/workspace/annotations/label_map.pbtxt'"
            ]
          },
          "metadata": {},
          "execution_count": 11
        }
      ]
    },
    {
      "cell_type": "markdown",
      "metadata": {
        "id": "Vs3oJdGNuFuH"
      },
      "source": [
        "# 1. Create Label Map"
      ]
    },
    {
      "cell_type": "code",
      "execution_count": 20,
      "metadata": {
        "id": "Z3nEJy6_uFuI"
      },
      "outputs": [],
      "source": [
        "labels = [\n",
        "     {'name':'A', 'id':1},\n",
        "     {'name':'B', 'id':2}\n",
        "]\n",
        "\n",
        "with open(ANNOTATION_PATH + '/label_map.pbtxt', 'w') as f:\n",
        "    for label in labels:\n",
        "        f.write('item { \\n')\n",
        "        f.write('\\tname:\\'{}\\'\\n'.format(label['name']))\n",
        "        f.write('\\tid:{}\\n'.format(label['id']))\n",
        "        f.write('}\\n')"
      ]
    },
    {
      "cell_type": "markdown",
      "metadata": {
        "id": "A0_Xx-OOuFuM"
      },
      "source": [
        "# 2. Create TF records"
      ]
    },
    {
      "cell_type": "code",
      "source": [
        "!python {SCRIPTS_PATH + '/generate_tfrecord.py'} -x '/content/drive/My Drive/SignRecongnition/RealTimeObjectDetection/Tensorflow/workspace/images/train' -l '/content/drive/My Drive/SignRecongnition/RealTimeObjectDetection/Tensorflow/workspace/annotations/label_map.pbtxt' -o '/content/drive/My Drive/SignRecongnition/RealTimeObjectDetection/Tensorflow/workspace/annotations/train.record'\n",
        "!python {SCRIPTS_PATH + '/generate_tfrecord.py'} -x '/content/drive/My Drive/SignRecongnition/RealTimeObjectDetection/Tensorflow/workspace/images/test' -l '/content/drive/My Drive/SignRecongnition/RealTimeObjectDetection/Tensorflow/workspace/annotations/label_map.pbtxt' -o '/content/drive/My Drive/SignRecongnition/RealTimeObjectDetection/Tensorflow/workspace/annotations/test.record'"
      ],
      "metadata": {
        "colab": {
          "base_uri": "https://localhost:8080/"
        },
        "id": "GAGwTGtExO52",
        "outputId": "ccfe50e1-6b77-4dd5-c8a9-ac9e5c87d1a7"
      },
      "execution_count": 12,
      "outputs": [
        {
          "output_type": "stream",
          "name": "stdout",
          "text": [
            "Traceback (most recent call last):\n",
            "  File \"Tensorflow/scripts/generate_tfrecord.py\", line 21, in <module>\n",
            "  File \"/usr/local/lib/python3.7/dist-packages/pandas/__init__.py\", line 52, in <module>\n",
            "    from pandas.core.api import (\n",
            "  File \"/usr/local/lib/python3.7/dist-packages/pandas/core/api.py\", line 29, in <module>\n",
            "    from pandas.core.groupby import Grouper, NamedAgg\n",
            "  File \"/usr/local/lib/python3.7/dist-packages/pandas/core/groupby/__init__.py\", line 1, in <module>\n",
            "    from pandas.core.groupby.generic import DataFrameGroupBy, NamedAgg, SeriesGroupBy\n",
            "  File \"/usr/local/lib/python3.7/dist-packages/pandas/core/groupby/generic.py\", line 57, in <module>\n",
            "    from pandas.core.aggregation import (\n",
            "  File \"/usr/local/lib/python3.7/dist-packages/pandas/core/aggregation.py\", line 26, in <module>\n",
            "    from pandas.core.indexes.api import Index\n",
            "  File \"/usr/local/lib/python3.7/dist-packages/pandas/core/indexes/api.py\", line 16, in <module>\n",
            "    from pandas.core.indexes.interval import IntervalIndex\n",
            "  File \"/usr/local/lib/python3.7/dist-packages/pandas/core/indexes/interval.py\", line 55, in <module>\n",
            "    from pandas.core.indexes.multi import MultiIndex\n",
            "  File \"/usr/local/lib/python3.7/dist-packages/pandas/core/indexes/multi.py\", line 154, in <module>\n",
            "    class MultiIndex(Index):\n",
            "  File \"/usr/local/lib/python3.7/dist-packages/pandas/core/indexes/multi.py\", line 1132, in MultiIndex\n",
            "    def dtype(self) -> np.dtype:\n",
            "KeyboardInterrupt\n",
            "2022-01-23 04:36:47.523667: E tensorflow/stream_executor/cuda/cuda_driver.cc:271] failed call to cuInit: CUDA_ERROR_NO_DEVICE: no CUDA-capable device is detected\n",
            "Successfully created the TFRecord file: /content/drive/My Drive/SignRecongnition/RealTimeObjectDetection/Tensorflow/workspace/annotations/test.record\n"
          ]
        }
      ]
    },
    {
      "cell_type": "markdown",
      "metadata": {
        "id": "mr-4HrF4uFuc"
      },
      "source": [
        "# 4. Copy Model Config to Training Folder"
      ]
    },
    {
      "cell_type": "code",
      "execution_count": 13,
      "metadata": {
        "id": "XMkf87squFud"
      },
      "outputs": [],
      "source": [
        "CUSTOM_MODEL_NAME = 'my_ssd_mobnet' "
      ]
    },
    {
      "cell_type": "code",
      "execution_count": null,
      "metadata": {
        "id": "Uy-h_pk_uFue"
      },
      "outputs": [],
      "source": [
        "# !mkdir {'Tensorflow/workspace/models/'+CUSTOM_MODEL_NAME}\n",
        "!cp {PRETRAINED_MODEL_PATH+'/ssd_mobilenet_v2_fpnlite_320x320_coco17_tpu-8/pipeline.config'} {MODEL_PATH+'/'+CUSTOM_MODEL_NAME}"
      ]
    },
    {
      "cell_type": "code",
      "source": [
        "!ls Tensorflow/workspace/models/my_ssd_mobnet"
      ],
      "metadata": {
        "colab": {
          "base_uri": "https://localhost:8080/"
        },
        "id": "z3OH6djp3BHs",
        "outputId": "d7d5d0d3-b079-423b-ca8a-74c641932b4c"
      },
      "execution_count": 14,
      "outputs": [
        {
          "output_type": "stream",
          "name": "stdout",
          "text": [
            "checkpoint\t\t     ckpt-7.data-00000-of-00001\n",
            "ckpt-10.data-00000-of-00001  ckpt-7.index\n",
            "ckpt-10.index\t\t     ckpt-8.data-00000-of-00001\n",
            "ckpt-11.data-00000-of-00001  ckpt-8.index\n",
            "ckpt-11.index\t\t     ckpt-9.data-00000-of-00001\n",
            "ckpt-5.data-00000-of-00001   ckpt-9.index\n",
            "ckpt-5.index\t\t     pipeline.config\n",
            "ckpt-6.data-00000-of-00001   train\n",
            "ckpt-6.index\n"
          ]
        }
      ]
    },
    {
      "cell_type": "markdown",
      "metadata": {
        "id": "CwUNvv1YuFuf"
      },
      "source": [
        "# 5. Update Config For Transfer Learning"
      ]
    },
    {
      "cell_type": "code",
      "execution_count": 15,
      "metadata": {
        "id": "2oFzePBouFug"
      },
      "outputs": [],
      "source": [
        "import tensorflow as tf\n",
        "from object_detection.utils import config_util\n",
        "from object_detection.protos import pipeline_pb2\n",
        "from google.protobuf import text_format"
      ]
    },
    {
      "cell_type": "code",
      "execution_count": 16,
      "metadata": {
        "id": "auc7dA7auFuh",
        "colab": {
          "base_uri": "https://localhost:8080/",
          "height": 35
        },
        "outputId": "cd6d8350-b2a1-44dc-9cfa-d895fa26384c"
      },
      "outputs": [
        {
          "output_type": "execute_result",
          "data": {
            "application/vnd.google.colaboratory.intrinsic+json": {
              "type": "string"
            },
            "text/plain": [
              "'Tensorflow/workspace/models/my_ssd_mobnet/pipeline.config'"
            ]
          },
          "metadata": {},
          "execution_count": 16
        }
      ],
      "source": [
        "CONFIG_PATH = MODEL_PATH+'/'+CUSTOM_MODEL_NAME+'/pipeline.config'\n",
        "CONFIG_PATH"
      ]
    },
    {
      "cell_type": "code",
      "execution_count": 17,
      "metadata": {
        "id": "06h25XQZuFui"
      },
      "outputs": [],
      "source": [
        "config = config_util.get_configs_from_pipeline_file(CONFIG_PATH)"
      ]
    },
    {
      "cell_type": "code",
      "execution_count": 18,
      "metadata": {
        "id": "WqcVeA9NuFuk",
        "colab": {
          "base_uri": "https://localhost:8080/"
        },
        "outputId": "66f96c52-8896-426b-f06e-7bf1496ae955"
      },
      "outputs": [
        {
          "output_type": "execute_result",
          "data": {
            "text/plain": [
              "{'eval_config': metrics_set: \"coco_detection_metrics\"\n",
              " use_moving_averages: false,\n",
              " 'eval_input_config': label_map_path: \"Tensorflow/workspace/annotations/label_map.pbtxt\"\n",
              " shuffle: false\n",
              " num_epochs: 1\n",
              " tf_record_input_reader {\n",
              "   input_path: \"Tensorflow/workspace/annotations/test.record\"\n",
              " },\n",
              " 'eval_input_configs': [label_map_path: \"Tensorflow/workspace/annotations/label_map.pbtxt\"\n",
              " shuffle: false\n",
              " num_epochs: 1\n",
              " tf_record_input_reader {\n",
              "   input_path: \"Tensorflow/workspace/annotations/test.record\"\n",
              " }\n",
              " ],\n",
              " 'model': ssd {\n",
              "   num_classes: 2\n",
              "   image_resizer {\n",
              "     fixed_shape_resizer {\n",
              "       height: 320\n",
              "       width: 320\n",
              "     }\n",
              "   }\n",
              "   feature_extractor {\n",
              "     type: \"ssd_mobilenet_v2_fpn_keras\"\n",
              "     depth_multiplier: 1.0\n",
              "     min_depth: 16\n",
              "     conv_hyperparams {\n",
              "       regularizer {\n",
              "         l2_regularizer {\n",
              "           weight: 3.9999998989515007e-05\n",
              "         }\n",
              "       }\n",
              "       initializer {\n",
              "         random_normal_initializer {\n",
              "           mean: 0.0\n",
              "           stddev: 0.009999999776482582\n",
              "         }\n",
              "       }\n",
              "       activation: RELU_6\n",
              "       batch_norm {\n",
              "         decay: 0.996999979019165\n",
              "         scale: true\n",
              "         epsilon: 0.0010000000474974513\n",
              "       }\n",
              "     }\n",
              "     use_depthwise: true\n",
              "     override_base_feature_extractor_hyperparams: true\n",
              "     fpn {\n",
              "       min_level: 3\n",
              "       max_level: 7\n",
              "       additional_layer_depth: 128\n",
              "     }\n",
              "   }\n",
              "   box_coder {\n",
              "     faster_rcnn_box_coder {\n",
              "       y_scale: 10.0\n",
              "       x_scale: 10.0\n",
              "       height_scale: 5.0\n",
              "       width_scale: 5.0\n",
              "     }\n",
              "   }\n",
              "   matcher {\n",
              "     argmax_matcher {\n",
              "       matched_threshold: 0.5\n",
              "       unmatched_threshold: 0.5\n",
              "       ignore_thresholds: false\n",
              "       negatives_lower_than_unmatched: true\n",
              "       force_match_for_each_row: true\n",
              "       use_matmul_gather: true\n",
              "     }\n",
              "   }\n",
              "   similarity_calculator {\n",
              "     iou_similarity {\n",
              "     }\n",
              "   }\n",
              "   box_predictor {\n",
              "     weight_shared_convolutional_box_predictor {\n",
              "       conv_hyperparams {\n",
              "         regularizer {\n",
              "           l2_regularizer {\n",
              "             weight: 3.9999998989515007e-05\n",
              "           }\n",
              "         }\n",
              "         initializer {\n",
              "           random_normal_initializer {\n",
              "             mean: 0.0\n",
              "             stddev: 0.009999999776482582\n",
              "           }\n",
              "         }\n",
              "         activation: RELU_6\n",
              "         batch_norm {\n",
              "           decay: 0.996999979019165\n",
              "           scale: true\n",
              "           epsilon: 0.0010000000474974513\n",
              "         }\n",
              "       }\n",
              "       depth: 128\n",
              "       num_layers_before_predictor: 4\n",
              "       kernel_size: 3\n",
              "       class_prediction_bias_init: -4.599999904632568\n",
              "       share_prediction_tower: true\n",
              "       use_depthwise: true\n",
              "     }\n",
              "   }\n",
              "   anchor_generator {\n",
              "     multiscale_anchor_generator {\n",
              "       min_level: 3\n",
              "       max_level: 7\n",
              "       anchor_scale: 4.0\n",
              "       aspect_ratios: 1.0\n",
              "       aspect_ratios: 2.0\n",
              "       aspect_ratios: 0.5\n",
              "       scales_per_octave: 2\n",
              "     }\n",
              "   }\n",
              "   post_processing {\n",
              "     batch_non_max_suppression {\n",
              "       score_threshold: 9.99999993922529e-09\n",
              "       iou_threshold: 0.6000000238418579\n",
              "       max_detections_per_class: 100\n",
              "       max_total_detections: 100\n",
              "       use_static_shapes: false\n",
              "     }\n",
              "     score_converter: SIGMOID\n",
              "   }\n",
              "   normalize_loss_by_num_matches: true\n",
              "   loss {\n",
              "     localization_loss {\n",
              "       weighted_smooth_l1 {\n",
              "       }\n",
              "     }\n",
              "     classification_loss {\n",
              "       weighted_sigmoid_focal {\n",
              "         gamma: 2.0\n",
              "         alpha: 0.25\n",
              "       }\n",
              "     }\n",
              "     classification_weight: 1.0\n",
              "     localization_weight: 1.0\n",
              "   }\n",
              "   encode_background_as_zeros: true\n",
              "   normalize_loc_loss_by_codesize: true\n",
              "   inplace_batchnorm_update: true\n",
              "   freeze_batchnorm: false\n",
              " },\n",
              " 'train_config': batch_size: 4\n",
              " data_augmentation_options {\n",
              "   random_horizontal_flip {\n",
              "   }\n",
              " }\n",
              " data_augmentation_options {\n",
              "   random_crop_image {\n",
              "     min_object_covered: 0.0\n",
              "     min_aspect_ratio: 0.75\n",
              "     max_aspect_ratio: 3.0\n",
              "     min_area: 0.75\n",
              "     max_area: 1.0\n",
              "     overlap_thresh: 0.0\n",
              "   }\n",
              " }\n",
              " sync_replicas: true\n",
              " optimizer {\n",
              "   momentum_optimizer {\n",
              "     learning_rate {\n",
              "       cosine_decay_learning_rate {\n",
              "         learning_rate_base: 0.07999999821186066\n",
              "         total_steps: 50000\n",
              "         warmup_learning_rate: 0.026666000485420227\n",
              "         warmup_steps: 1000\n",
              "       }\n",
              "     }\n",
              "     momentum_optimizer_value: 0.8999999761581421\n",
              "   }\n",
              "   use_moving_average: false\n",
              " }\n",
              " fine_tune_checkpoint: \"Tensorflow/workspace/pre-trained-models/ssd_mobilenet_v2_fpnlite_320x320_coco17_tpu-8/checkpoint/ckpt-0\"\n",
              " num_steps: 50000\n",
              " startup_delay_steps: 0.0\n",
              " replicas_to_aggregate: 8\n",
              " max_number_of_boxes: 100\n",
              " unpad_groundtruth_tensors: false\n",
              " fine_tune_checkpoint_type: \"detection\"\n",
              " fine_tune_checkpoint_version: V2,\n",
              " 'train_input_config': label_map_path: \"Tensorflow/workspace/annotations/label_map.pbtxt\"\n",
              " tf_record_input_reader {\n",
              "   input_path: \"Tensorflow/workspace/annotations/train.record\"\n",
              " }}"
            ]
          },
          "metadata": {},
          "execution_count": 18
        }
      ],
      "source": [
        "config"
      ]
    },
    {
      "cell_type": "code",
      "execution_count": null,
      "metadata": {
        "id": "mCJOlK0_uFul"
      },
      "outputs": [],
      "source": [
        "  pipeline_config = pipeline_pb2.TrainEvalPipelineConfig()\n",
        "with tf.io.gfile.GFile(CONFIG_PATH, \"r\") as f:                                                                                                                                                                                                                     \n",
        "    proto_str = f.read()                                                                                                                                                                                                                                          \n",
        "    text_format.Merge(proto_str, pipeline_config)  "
      ]
    },
    {
      "cell_type": "code",
      "execution_count": null,
      "metadata": {
        "id": "PQQNmyQKuFul"
      },
      "outputs": [],
      "source": [
        "pipeline_config.model.ssd.num_classes = 2\n",
        "pipeline_config.train_config.batch_size = 4\n",
        "pipeline_config.train_config.fine_tune_checkpoint = PRETRAINED_MODEL_PATH+'/ssd_mobilenet_v2_fpnlite_320x320_coco17_tpu-8/checkpoint/ckpt-0'\n",
        "pipeline_config.train_config.fine_tune_checkpoint_type = \"detection\"\n",
        "pipeline_config.train_input_reader.label_map_path= ANNOTATION_PATH + '/label_map.pbtxt'\n",
        "pipeline_config.train_input_reader.tf_record_input_reader.input_path[:] = [ANNOTATION_PATH + '/train.record']\n",
        "pipeline_config.eval_input_reader[0].label_map_path = ANNOTATION_PATH + '/label_map.pbtxt'\n",
        "pipeline_config.eval_input_reader[0].tf_record_input_reader.input_path[:] = [ANNOTATION_PATH + '/test.record']"
      ]
    },
    {
      "cell_type": "code",
      "execution_count": null,
      "metadata": {
        "id": "JF0Zkn_LuFun"
      },
      "outputs": [],
      "source": [
        "config_text = text_format.MessageToString(pipeline_config)                                                                                                                                                                                                        \n",
        "with tf.io.gfile.GFile(CONFIG_PATH, \"wb\") as f:                                                                                                                                                                                                                     \n",
        "    f.write(config_text)   "
      ]
    },
    {
      "cell_type": "markdown",
      "metadata": {
        "id": "-SZFolO9uFuo"
      },
      "source": [
        "# 6. Train the model"
      ]
    },
    {
      "cell_type": "code",
      "execution_count": null,
      "metadata": {
        "id": "mVai6ugIuFup",
        "colab": {
          "base_uri": "https://localhost:8080/"
        },
        "outputId": "3f5b1100-5579-4f99-c76a-1520f65b7055"
      },
      "outputs": [
        {
          "output_type": "stream",
          "name": "stdout",
          "text": [
            "python Tensorflow/models/research/object_detection/model_main_tf2.py --model_dir=Tensorflow/workspace/models/my_ssd_mobnet --pipeline_config_path=Tensorflow/workspace/models/my_ssd_mobnet/pipeline.config --num_train_steps=10000\n"
          ]
        }
      ],
      "source": [
        "print(\"\"\"python {}/research/object_detection/model_main_tf2.py --model_dir={}/{} --pipeline_config_path={}/{}/pipeline.config --num_train_steps=10000\"\"\".format(APIMODEL_PATH, MODEL_PATH,CUSTOM_MODEL_NAME,MODEL_PATH,CUSTOM_MODEL_NAME))"
      ]
    },
    {
      "cell_type": "code",
      "source": [
        " # Pasted from output in above cell\n",
        "!python Tensorflow/models/research/object_detection/\n",
        " --model_dir=Tensorflow/workspace/models/my_ssd_mobnet --pipeline_config_path=Tensorflow/workspace/models/my_ssd_mobnet/pipeline.config --num_train_steps=10000\n"
      ],
      "metadata": {
        "colab": {
          "base_uri": "https://localhost:8080/"
        },
        "id": "quSmyAWPcY51",
        "outputId": "40831108-d137-49cd-d1b2-4345b6fa54d6"
      },
      "execution_count": null,
      "outputs": [
        {
          "output_type": "stream",
          "name": "stdout",
          "text": [
            "2022-01-21 02:22:58.692301: E tensorflow/stream_executor/cuda/cuda_driver.cc:271] failed call to cuInit: CUDA_ERROR_NO_DEVICE: no CUDA-capable device is detected\n",
            "WARNING:tensorflow:There are non-GPU devices in `tf.distribute.Strategy`, not using nccl allreduce.\n",
            "W0121 02:22:58.694160 139924622305152 cross_device_ops.py:1387] There are non-GPU devices in `tf.distribute.Strategy`, not using nccl allreduce.\n",
            "INFO:tensorflow:Using MirroredStrategy with devices ('/job:localhost/replica:0/task:0/device:CPU:0',)\n",
            "I0121 02:22:58.695543 139924622305152 mirrored_strategy.py:376] Using MirroredStrategy with devices ('/job:localhost/replica:0/task:0/device:CPU:0',)\n",
            "INFO:tensorflow:Maybe overwriting train_steps: 10000\n",
            "I0121 02:22:58.704054 139924622305152 config_util.py:552] Maybe overwriting train_steps: 10000\n",
            "INFO:tensorflow:Maybe overwriting use_bfloat16: False\n",
            "I0121 02:22:58.704280 139924622305152 config_util.py:552] Maybe overwriting use_bfloat16: False\n",
            "WARNING:tensorflow:From /usr/local/lib/python3.7/dist-packages/object_detection/model_lib_v2.py:526: StrategyBase.experimental_distribute_datasets_from_function (from tensorflow.python.distribute.distribute_lib) is deprecated and will be removed in a future version.\n",
            "Instructions for updating:\n",
            "rename to distribute_datasets_from_function\n",
            "W0121 02:22:58.740756 139924622305152 deprecation.py:347] From /usr/local/lib/python3.7/dist-packages/object_detection/model_lib_v2.py:526: StrategyBase.experimental_distribute_datasets_from_function (from tensorflow.python.distribute.distribute_lib) is deprecated and will be removed in a future version.\n",
            "Instructions for updating:\n",
            "rename to distribute_datasets_from_function\n",
            "WARNING:tensorflow:num_readers has been reduced to 1 to match input file shards.\n",
            "W0121 02:22:58.766597 139924622305152 dataset_builder.py:83] num_readers has been reduced to 1 to match input file shards.\n",
            "WARNING:tensorflow:From /usr/local/lib/python3.7/dist-packages/object_detection/builders/dataset_builder.py:100: parallel_interleave (from tensorflow.python.data.experimental.ops.interleave_ops) is deprecated and will be removed in a future version.\n",
            "Instructions for updating:\n",
            "Use `tf.data.Dataset.interleave(map_func, cycle_length, block_length, num_parallel_calls=tf.data.AUTOTUNE)` instead. If sloppy execution is desired, use `tf.data.Options.deterministic`.\n",
            "W0121 02:22:58.787410 139924622305152 deprecation.py:347] From /usr/local/lib/python3.7/dist-packages/object_detection/builders/dataset_builder.py:100: parallel_interleave (from tensorflow.python.data.experimental.ops.interleave_ops) is deprecated and will be removed in a future version.\n",
            "Instructions for updating:\n",
            "Use `tf.data.Dataset.interleave(map_func, cycle_length, block_length, num_parallel_calls=tf.data.AUTOTUNE)` instead. If sloppy execution is desired, use `tf.data.Options.deterministic`.\n",
            "WARNING:tensorflow:From /usr/local/lib/python3.7/dist-packages/object_detection/builders/dataset_builder.py:175: DatasetV1.map_with_legacy_function (from tensorflow.python.data.ops.dataset_ops) is deprecated and will be removed in a future version.\n",
            "Instructions for updating:\n",
            "Use `tf.data.Dataset.map()\n",
            "W0121 02:22:58.843655 139924622305152 deprecation.py:347] From /usr/local/lib/python3.7/dist-packages/object_detection/builders/dataset_builder.py:175: DatasetV1.map_with_legacy_function (from tensorflow.python.data.ops.dataset_ops) is deprecated and will be removed in a future version.\n",
            "Instructions for updating:\n",
            "Use `tf.data.Dataset.map()\n",
            "WARNING:tensorflow:From /usr/local/lib/python3.7/dist-packages/tensorflow/python/util/dispatch.py:1096: sparse_to_dense (from tensorflow.python.ops.sparse_ops) is deprecated and will be removed in a future version.\n",
            "Instructions for updating:\n",
            "Create a `tf.sparse.SparseTensor` and use `tf.sparse.to_dense` instead.\n",
            "W0121 02:23:06.869234 139924622305152 deprecation.py:347] From /usr/local/lib/python3.7/dist-packages/tensorflow/python/util/dispatch.py:1096: sparse_to_dense (from tensorflow.python.ops.sparse_ops) is deprecated and will be removed in a future version.\n",
            "Instructions for updating:\n",
            "Create a `tf.sparse.SparseTensor` and use `tf.sparse.to_dense` instead.\n",
            "WARNING:tensorflow:From /usr/local/lib/python3.7/dist-packages/tensorflow/python/util/dispatch.py:1096: sample_distorted_bounding_box (from tensorflow.python.ops.image_ops_impl) is deprecated and will be removed in a future version.\n",
            "Instructions for updating:\n",
            "`seed2` arg is deprecated.Use sample_distorted_bounding_box_v2 instead.\n",
            "W0121 02:23:10.231599 139924622305152 deprecation.py:347] From /usr/local/lib/python3.7/dist-packages/tensorflow/python/util/dispatch.py:1096: sample_distorted_bounding_box (from tensorflow.python.ops.image_ops_impl) is deprecated and will be removed in a future version.\n",
            "Instructions for updating:\n",
            "`seed2` arg is deprecated.Use sample_distorted_bounding_box_v2 instead.\n",
            "WARNING:tensorflow:From /usr/local/lib/python3.7/dist-packages/tensorflow/python/autograph/impl/api.py:465: to_float (from tensorflow.python.ops.math_ops) is deprecated and will be removed in a future version.\n",
            "Instructions for updating:\n",
            "Use `tf.cast` instead.\n",
            "W0121 02:23:12.253578 139924622305152 deprecation.py:347] From /usr/local/lib/python3.7/dist-packages/tensorflow/python/autograph/impl/api.py:465: to_float (from tensorflow.python.ops.math_ops) is deprecated and will be removed in a future version.\n",
            "Instructions for updating:\n",
            "Use `tf.cast` instead.\n",
            "2022-01-21 02:23:15.673850: W tensorflow/core/framework/dataset.cc:744] Input of GeneratorDatasetOp::Dataset will not be optimized because the dataset does not implement the AsGraphDefInternal() method needed to apply optimizations.\n",
            "2022-01-21 02:23:17.380037: W tensorflow/core/framework/op_kernel.cc:1745] OP_REQUIRES failed at multi_device_iterator_ops.cc:789 : NOT_FOUND: Resource AnonymousMultiDeviceIterator/AnonymousMultiDeviceIterator0/N10tensorflow4data12_GLOBAL__N_119MultiDeviceIteratorE does not exist.\n",
            "/usr/local/lib/python3.7/dist-packages/keras/backend.py:414: UserWarning: `tf.keras.backend.set_learning_phase` is deprecated and will be removed after 2020-10-11. To update it, simply pass a True/False value to the `training` argument of the `__call__` method of your layer or model.\n",
            "  warnings.warn('`tf.keras.backend.set_learning_phase` is deprecated and '\n",
            "WARNING:tensorflow:Unresolved object in checkpoint: (root).model._groundtruth_lists\n",
            "W0121 02:23:41.543974 139924622305152 util.py:182] Unresolved object in checkpoint: (root).model._groundtruth_lists\n",
            "WARNING:tensorflow:Unresolved object in checkpoint: (root).model._box_predictor\n",
            "W0121 02:23:41.544323 139924622305152 util.py:182] Unresolved object in checkpoint: (root).model._box_predictor\n",
            "WARNING:tensorflow:Unresolved object in checkpoint: (root).model._batched_prediction_tensor_names\n",
            "W0121 02:23:41.544437 139924622305152 util.py:182] Unresolved object in checkpoint: (root).model._batched_prediction_tensor_names\n",
            "WARNING:tensorflow:Unresolved object in checkpoint: (root).model._box_predictor._box_prediction_head\n",
            "W0121 02:23:41.544523 139924622305152 util.py:182] Unresolved object in checkpoint: (root).model._box_predictor._box_prediction_head\n",
            "WARNING:tensorflow:Unresolved object in checkpoint: (root).model._box_predictor._prediction_heads\n",
            "W0121 02:23:41.544602 139924622305152 util.py:182] Unresolved object in checkpoint: (root).model._box_predictor._prediction_heads\n",
            "WARNING:tensorflow:Unresolved object in checkpoint: (root).model._box_predictor._sorted_head_names\n",
            "W0121 02:23:41.544676 139924622305152 util.py:182] Unresolved object in checkpoint: (root).model._box_predictor._sorted_head_names\n",
            "WARNING:tensorflow:Unresolved object in checkpoint: (root).model._box_predictor._additional_projection_layers\n",
            "W0121 02:23:41.544750 139924622305152 util.py:182] Unresolved object in checkpoint: (root).model._box_predictor._additional_projection_layers\n",
            "WARNING:tensorflow:Unresolved object in checkpoint: (root).model._box_predictor._base_tower_layers_for_heads\n",
            "W0121 02:23:41.544837 139924622305152 util.py:182] Unresolved object in checkpoint: (root).model._box_predictor._base_tower_layers_for_heads\n",
            "WARNING:tensorflow:Unresolved object in checkpoint: (root).model._box_predictor._head_scope_conv_layers\n",
            "W0121 02:23:41.544911 139924622305152 util.py:182] Unresolved object in checkpoint: (root).model._box_predictor._head_scope_conv_layers\n",
            "WARNING:tensorflow:Unresolved object in checkpoint: (root).model._box_predictor._box_prediction_head._box_encoder_layers\n",
            "W0121 02:23:41.544985 139924622305152 util.py:182] Unresolved object in checkpoint: (root).model._box_predictor._box_prediction_head._box_encoder_layers\n",
            "WARNING:tensorflow:Unresolved object in checkpoint: (root).model._box_predictor._prediction_heads.class_predictions_with_background\n",
            "W0121 02:23:41.545058 139924622305152 util.py:182] Unresolved object in checkpoint: (root).model._box_predictor._prediction_heads.class_predictions_with_background\n",
            "WARNING:tensorflow:Unresolved object in checkpoint: (root).model._box_predictor._additional_projection_layers.0\n",
            "W0121 02:23:41.545132 139924622305152 util.py:182] Unresolved object in checkpoint: (root).model._box_predictor._additional_projection_layers.0\n",
            "WARNING:tensorflow:Unresolved object in checkpoint: (root).model._box_predictor._additional_projection_layers.1\n",
            "W0121 02:23:41.545204 139924622305152 util.py:182] Unresolved object in checkpoint: (root).model._box_predictor._additional_projection_layers.1\n",
            "WARNING:tensorflow:Unresolved object in checkpoint: (root).model._box_predictor._additional_projection_layers.2\n",
            "W0121 02:23:41.545276 139924622305152 util.py:182] Unresolved object in checkpoint: (root).model._box_predictor._additional_projection_layers.2\n",
            "WARNING:tensorflow:Unresolved object in checkpoint: (root).model._box_predictor._additional_projection_layers.3\n",
            "W0121 02:23:41.545356 139924622305152 util.py:182] Unresolved object in checkpoint: (root).model._box_predictor._additional_projection_layers.3\n",
            "WARNING:tensorflow:Unresolved object in checkpoint: (root).model._box_predictor._additional_projection_layers.4\n",
            "W0121 02:23:41.545428 139924622305152 util.py:182] Unresolved object in checkpoint: (root).model._box_predictor._additional_projection_layers.4\n",
            "WARNING:tensorflow:Unresolved object in checkpoint: (root).model._box_predictor._base_tower_layers_for_heads.box_encodings\n",
            "W0121 02:23:41.545499 139924622305152 util.py:182] Unresolved object in checkpoint: (root).model._box_predictor._base_tower_layers_for_heads.box_encodings\n",
            "WARNING:tensorflow:Unresolved object in checkpoint: (root).model._box_predictor._base_tower_layers_for_heads.class_predictions_with_background\n",
            "W0121 02:23:41.545571 139924622305152 util.py:182] Unresolved object in checkpoint: (root).model._box_predictor._base_tower_layers_for_heads.class_predictions_with_background\n",
            "WARNING:tensorflow:Unresolved object in checkpoint: (root).model._box_predictor._head_scope_conv_layers.PredictionTower\n",
            "W0121 02:23:41.545643 139924622305152 util.py:182] Unresolved object in checkpoint: (root).model._box_predictor._head_scope_conv_layers.PredictionTower\n",
            "WARNING:tensorflow:Unresolved object in checkpoint: (root).model._box_predictor._head_scope_conv_layers.ClassPredictionTower\n",
            "W0121 02:23:41.545715 139924622305152 util.py:182] Unresolved object in checkpoint: (root).model._box_predictor._head_scope_conv_layers.ClassPredictionTower\n",
            "WARNING:tensorflow:Unresolved object in checkpoint: (root).model._box_predictor._box_prediction_head._box_encoder_layers.0\n",
            "W0121 02:23:41.545811 139924622305152 util.py:182] Unresolved object in checkpoint: (root).model._box_predictor._box_prediction_head._box_encoder_layers.0\n",
            "WARNING:tensorflow:Unresolved object in checkpoint: (root).model._box_predictor._prediction_heads.class_predictions_with_background._class_predictor_layers\n",
            "W0121 02:23:41.545893 139924622305152 util.py:182] Unresolved object in checkpoint: (root).model._box_predictor._prediction_heads.class_predictions_with_background._class_predictor_layers\n",
            "WARNING:tensorflow:Unresolved object in checkpoint: (root).model._box_predictor._base_tower_layers_for_heads.box_encodings.0\n",
            "W0121 02:23:41.545970 139924622305152 util.py:182] Unresolved object in checkpoint: (root).model._box_predictor._base_tower_layers_for_heads.box_encodings.0\n",
            "WARNING:tensorflow:Unresolved object in checkpoint: (root).model._box_predictor._base_tower_layers_for_heads.box_encodings.1\n",
            "W0121 02:23:41.546042 139924622305152 util.py:182] Unresolved object in checkpoint: (root).model._box_predictor._base_tower_layers_for_heads.box_encodings.1\n",
            "WARNING:tensorflow:Unresolved object in checkpoint: (root).model._box_predictor._base_tower_layers_for_heads.box_encodings.2\n",
            "W0121 02:23:41.546114 139924622305152 util.py:182] Unresolved object in checkpoint: (root).model._box_predictor._base_tower_layers_for_heads.box_encodings.2\n",
            "WARNING:tensorflow:Unresolved object in checkpoint: (root).model._box_predictor._base_tower_layers_for_heads.box_encodings.3\n",
            "W0121 02:23:41.546187 139924622305152 util.py:182] Unresolved object in checkpoint: (root).model._box_predictor._base_tower_layers_for_heads.box_encodings.3\n",
            "WARNING:tensorflow:Unresolved object in checkpoint: (root).model._box_predictor._base_tower_layers_for_heads.box_encodings.4\n",
            "W0121 02:23:41.546260 139924622305152 util.py:182] Unresolved object in checkpoint: (root).model._box_predictor._base_tower_layers_for_heads.box_encodings.4\n",
            "WARNING:tensorflow:Unresolved object in checkpoint: (root).model._box_predictor._base_tower_layers_for_heads.class_predictions_with_background.0\n",
            "W0121 02:23:41.546337 139924622305152 util.py:182] Unresolved object in checkpoint: (root).model._box_predictor._base_tower_layers_for_heads.class_predictions_with_background.0\n",
            "WARNING:tensorflow:Unresolved object in checkpoint: (root).model._box_predictor._base_tower_layers_for_heads.class_predictions_with_background.1\n",
            "W0121 02:23:41.546411 139924622305152 util.py:182] Unresolved object in checkpoint: (root).model._box_predictor._base_tower_layers_for_heads.class_predictions_with_background.1\n",
            "WARNING:tensorflow:Unresolved object in checkpoint: (root).model._box_predictor._base_tower_layers_for_heads.class_predictions_with_background.2\n",
            "W0121 02:23:41.546483 139924622305152 util.py:182] Unresolved object in checkpoint: (root).model._box_predictor._base_tower_layers_for_heads.class_predictions_with_background.2\n",
            "WARNING:tensorflow:Unresolved object in checkpoint: (root).model._box_predictor._base_tower_layers_for_heads.class_predictions_with_background.3\n",
            "W0121 02:23:41.546556 139924622305152 util.py:182] Unresolved object in checkpoint: (root).model._box_predictor._base_tower_layers_for_heads.class_predictions_with_background.3\n",
            "WARNING:tensorflow:Unresolved object in checkpoint: (root).model._box_predictor._base_tower_layers_for_heads.class_predictions_with_background.4\n",
            "W0121 02:23:41.546629 139924622305152 util.py:182] Unresolved object in checkpoint: (root).model._box_predictor._base_tower_layers_for_heads.class_predictions_with_background.4\n",
            "WARNING:tensorflow:Unresolved object in checkpoint: (root).model._box_predictor._head_scope_conv_layers.PredictionTower.0\n",
            "W0121 02:23:41.546702 139924622305152 util.py:182] Unresolved object in checkpoint: (root).model._box_predictor._head_scope_conv_layers.PredictionTower.0\n",
            "WARNING:tensorflow:Unresolved object in checkpoint: (root).model._box_predictor._head_scope_conv_layers.PredictionTower.1\n",
            "W0121 02:23:41.546773 139924622305152 util.py:182] Unresolved object in checkpoint: (root).model._box_predictor._head_scope_conv_layers.PredictionTower.1\n",
            "WARNING:tensorflow:Unresolved object in checkpoint: (root).model._box_predictor._head_scope_conv_layers.PredictionTower.2\n",
            "W0121 02:23:41.546858 139924622305152 util.py:182] Unresolved object in checkpoint: (root).model._box_predictor._head_scope_conv_layers.PredictionTower.2\n",
            "WARNING:tensorflow:Unresolved object in checkpoint: (root).model._box_predictor._head_scope_conv_layers.PredictionTower.3\n",
            "W0121 02:23:41.546932 139924622305152 util.py:182] Unresolved object in checkpoint: (root).model._box_predictor._head_scope_conv_layers.PredictionTower.3\n",
            "WARNING:tensorflow:Unresolved object in checkpoint: (root).model._box_predictor._head_scope_conv_layers.ClassPredictionTower.0\n",
            "W0121 02:23:41.547004 139924622305152 util.py:182] Unresolved object in checkpoint: (root).model._box_predictor._head_scope_conv_layers.ClassPredictionTower.0\n",
            "WARNING:tensorflow:Unresolved object in checkpoint: (root).model._box_predictor._head_scope_conv_layers.ClassPredictionTower.1\n",
            "W0121 02:23:41.547077 139924622305152 util.py:182] Unresolved object in checkpoint: (root).model._box_predictor._head_scope_conv_layers.ClassPredictionTower.1\n",
            "WARNING:tensorflow:Unresolved object in checkpoint: (root).model._box_predictor._head_scope_conv_layers.ClassPredictionTower.2\n",
            "W0121 02:23:41.547149 139924622305152 util.py:182] Unresolved object in checkpoint: (root).model._box_predictor._head_scope_conv_layers.ClassPredictionTower.2\n",
            "WARNING:tensorflow:Unresolved object in checkpoint: (root).model._box_predictor._head_scope_conv_layers.ClassPredictionTower.3\n",
            "W0121 02:23:41.547221 139924622305152 util.py:182] Unresolved object in checkpoint: (root).model._box_predictor._head_scope_conv_layers.ClassPredictionTower.3\n",
            "WARNING:tensorflow:Unresolved object in checkpoint: (root).model._box_predictor._box_prediction_head._box_encoder_layers.0.depthwise_kernel\n",
            "W0121 02:23:41.547357 139924622305152 util.py:182] Unresolved object in checkpoint: (root).model._box_predictor._box_prediction_head._box_encoder_layers.0.depthwise_kernel\n",
            "WARNING:tensorflow:Unresolved object in checkpoint: (root).model._box_predictor._box_prediction_head._box_encoder_layers.0.pointwise_kernel\n",
            "W0121 02:23:41.547434 139924622305152 util.py:182] Unresolved object in checkpoint: (root).model._box_predictor._box_prediction_head._box_encoder_layers.0.pointwise_kernel\n",
            "WARNING:tensorflow:Unresolved object in checkpoint: (root).model._box_predictor._box_prediction_head._box_encoder_layers.0.bias\n",
            "W0121 02:23:41.547509 139924622305152 util.py:182] Unresolved object in checkpoint: (root).model._box_predictor._box_prediction_head._box_encoder_layers.0.bias\n",
            "WARNING:tensorflow:Unresolved object in checkpoint: (root).model._box_predictor._prediction_heads.class_predictions_with_background._class_predictor_layers.0\n",
            "W0121 02:23:41.547584 139924622305152 util.py:182] Unresolved object in checkpoint: (root).model._box_predictor._prediction_heads.class_predictions_with_background._class_predictor_layers.0\n",
            "WARNING:tensorflow:Unresolved object in checkpoint: (root).model._box_predictor._base_tower_layers_for_heads.box_encodings.0.1\n",
            "W0121 02:23:41.547658 139924622305152 util.py:182] Unresolved object in checkpoint: (root).model._box_predictor._base_tower_layers_for_heads.box_encodings.0.1\n",
            "WARNING:tensorflow:Unresolved object in checkpoint: (root).model._box_predictor._base_tower_layers_for_heads.box_encodings.0.2\n",
            "W0121 02:23:41.547730 139924622305152 util.py:182] Unresolved object in checkpoint: (root).model._box_predictor._base_tower_layers_for_heads.box_encodings.0.2\n",
            "WARNING:tensorflow:Unresolved object in checkpoint: (root).model._box_predictor._base_tower_layers_for_heads.box_encodings.0.4\n",
            "W0121 02:23:41.547813 139924622305152 util.py:182] Unresolved object in checkpoint: (root).model._box_predictor._base_tower_layers_for_heads.box_encodings.0.4\n",
            "WARNING:tensorflow:Unresolved object in checkpoint: (root).model._box_predictor._base_tower_layers_for_heads.box_encodings.0.5\n",
            "W0121 02:23:41.547887 139924622305152 util.py:182] Unresolved object in checkpoint: (root).model._box_predictor._base_tower_layers_for_heads.box_encodings.0.5\n",
            "WARNING:tensorflow:Unresolved object in checkpoint: (root).model._box_predictor._base_tower_layers_for_heads.box_encodings.0.7\n",
            "W0121 02:23:41.547959 139924622305152 util.py:182] Unresolved object in checkpoint: (root).model._box_predictor._base_tower_layers_for_heads.box_encodings.0.7\n",
            "WARNING:tensorflow:Unresolved object in checkpoint: (root).model._box_predictor._base_tower_layers_for_heads.box_encodings.0.8\n",
            "W0121 02:23:41.548032 139924622305152 util.py:182] Unresolved object in checkpoint: (root).model._box_predictor._base_tower_layers_for_heads.box_encodings.0.8\n",
            "WARNING:tensorflow:Unresolved object in checkpoint: (root).model._box_predictor._base_tower_layers_for_heads.box_encodings.0.10\n",
            "W0121 02:23:41.548105 139924622305152 util.py:182] Unresolved object in checkpoint: (root).model._box_predictor._base_tower_layers_for_heads.box_encodings.0.10\n",
            "WARNING:tensorflow:Unresolved object in checkpoint: (root).model._box_predictor._base_tower_layers_for_heads.box_encodings.0.11\n",
            "W0121 02:23:41.548177 139924622305152 util.py:182] Unresolved object in checkpoint: (root).model._box_predictor._base_tower_layers_for_heads.box_encodings.0.11\n",
            "WARNING:tensorflow:Unresolved object in checkpoint: (root).model._box_predictor._base_tower_layers_for_heads.box_encodings.1.1\n",
            "W0121 02:23:41.548250 139924622305152 util.py:182] Unresolved object in checkpoint: (root).model._box_predictor._base_tower_layers_for_heads.box_encodings.1.1\n",
            "WARNING:tensorflow:Unresolved object in checkpoint: (root).model._box_predictor._base_tower_layers_for_heads.box_encodings.1.2\n",
            "W0121 02:23:41.548334 139924622305152 util.py:182] Unresolved object in checkpoint: (root).model._box_predictor._base_tower_layers_for_heads.box_encodings.1.2\n",
            "WARNING:tensorflow:Unresolved object in checkpoint: (root).model._box_predictor._base_tower_layers_for_heads.box_encodings.1.4\n",
            "W0121 02:23:41.548409 139924622305152 util.py:182] Unresolved object in checkpoint: (root).model._box_predictor._base_tower_layers_for_heads.box_encodings.1.4\n",
            "WARNING:tensorflow:Unresolved object in checkpoint: (root).model._box_predictor._base_tower_layers_for_heads.box_encodings.1.5\n",
            "W0121 02:23:41.548482 139924622305152 util.py:182] Unresolved object in checkpoint: (root).model._box_predictor._base_tower_layers_for_heads.box_encodings.1.5\n",
            "WARNING:tensorflow:Unresolved object in checkpoint: (root).model._box_predictor._base_tower_layers_for_heads.box_encodings.1.7\n",
            "W0121 02:23:41.548556 139924622305152 util.py:182] Unresolved object in checkpoint: (root).model._box_predictor._base_tower_layers_for_heads.box_encodings.1.7\n",
            "WARNING:tensorflow:Unresolved object in checkpoint: (root).model._box_predictor._base_tower_layers_for_heads.box_encodings.1.8\n",
            "W0121 02:23:41.548629 139924622305152 util.py:182] Unresolved object in checkpoint: (root).model._box_predictor._base_tower_layers_for_heads.box_encodings.1.8\n",
            "WARNING:tensorflow:Unresolved object in checkpoint: (root).model._box_predictor._base_tower_layers_for_heads.box_encodings.1.10\n",
            "W0121 02:23:41.548702 139924622305152 util.py:182] Unresolved object in checkpoint: (root).model._box_predictor._base_tower_layers_for_heads.box_encodings.1.10\n",
            "WARNING:tensorflow:Unresolved object in checkpoint: (root).model._box_predictor._base_tower_layers_for_heads.box_encodings.1.11\n",
            "W0121 02:23:41.548775 139924622305152 util.py:182] Unresolved object in checkpoint: (root).model._box_predictor._base_tower_layers_for_heads.box_encodings.1.11\n",
            "WARNING:tensorflow:Unresolved object in checkpoint: (root).model._box_predictor._base_tower_layers_for_heads.box_encodings.2.1\n",
            "W0121 02:23:41.548876 139924622305152 util.py:182] Unresolved object in checkpoint: (root).model._box_predictor._base_tower_layers_for_heads.box_encodings.2.1\n",
            "WARNING:tensorflow:Unresolved object in checkpoint: (root).model._box_predictor._base_tower_layers_for_heads.box_encodings.2.2\n",
            "W0121 02:23:41.548951 139924622305152 util.py:182] Unresolved object in checkpoint: (root).model._box_predictor._base_tower_layers_for_heads.box_encodings.2.2\n",
            "WARNING:tensorflow:Unresolved object in checkpoint: (root).model._box_predictor._base_tower_layers_for_heads.box_encodings.2.4\n",
            "W0121 02:23:41.549025 139924622305152 util.py:182] Unresolved object in checkpoint: (root).model._box_predictor._base_tower_layers_for_heads.box_encodings.2.4\n",
            "WARNING:tensorflow:Unresolved object in checkpoint: (root).model._box_predictor._base_tower_layers_for_heads.box_encodings.2.5\n",
            "W0121 02:23:41.549098 139924622305152 util.py:182] Unresolved object in checkpoint: (root).model._box_predictor._base_tower_layers_for_heads.box_encodings.2.5\n",
            "WARNING:tensorflow:Unresolved object in checkpoint: (root).model._box_predictor._base_tower_layers_for_heads.box_encodings.2.7\n",
            "W0121 02:23:41.579380 139924622305152 util.py:182] Unresolved object in checkpoint: (root).model._box_predictor._base_tower_layers_for_heads.box_encodings.2.7\n",
            "WARNING:tensorflow:Unresolved object in checkpoint: (root).model._box_predictor._base_tower_layers_for_heads.box_encodings.2.8\n",
            "W0121 02:23:41.579639 139924622305152 util.py:182] Unresolved object in checkpoint: (root).model._box_predictor._base_tower_layers_for_heads.box_encodings.2.8\n",
            "WARNING:tensorflow:Unresolved object in checkpoint: (root).model._box_predictor._base_tower_layers_for_heads.box_encodings.2.10\n",
            "W0121 02:23:41.579755 139924622305152 util.py:182] Unresolved object in checkpoint: (root).model._box_predictor._base_tower_layers_for_heads.box_encodings.2.10\n",
            "WARNING:tensorflow:Unresolved object in checkpoint: (root).model._box_predictor._base_tower_layers_for_heads.box_encodings.2.11\n",
            "W0121 02:23:41.579869 139924622305152 util.py:182] Unresolved object in checkpoint: (root).model._box_predictor._base_tower_layers_for_heads.box_encodings.2.11\n",
            "WARNING:tensorflow:Unresolved object in checkpoint: (root).model._box_predictor._base_tower_layers_for_heads.box_encodings.3.1\n",
            "W0121 02:23:41.579958 139924622305152 util.py:182] Unresolved object in checkpoint: (root).model._box_predictor._base_tower_layers_for_heads.box_encodings.3.1\n",
            "WARNING:tensorflow:Unresolved object in checkpoint: (root).model._box_predictor._base_tower_layers_for_heads.box_encodings.3.2\n",
            "W0121 02:23:41.580034 139924622305152 util.py:182] Unresolved object in checkpoint: (root).model._box_predictor._base_tower_layers_for_heads.box_encodings.3.2\n",
            "WARNING:tensorflow:Unresolved object in checkpoint: (root).model._box_predictor._base_tower_layers_for_heads.box_encodings.3.4\n",
            "W0121 02:23:41.580106 139924622305152 util.py:182] Unresolved object in checkpoint: (root).model._box_predictor._base_tower_layers_for_heads.box_encodings.3.4\n",
            "WARNING:tensorflow:Unresolved object in checkpoint: (root).model._box_predictor._base_tower_layers_for_heads.box_encodings.3.5\n",
            "W0121 02:23:41.580180 139924622305152 util.py:182] Unresolved object in checkpoint: (root).model._box_predictor._base_tower_layers_for_heads.box_encodings.3.5\n",
            "WARNING:tensorflow:Unresolved object in checkpoint: (root).model._box_predictor._base_tower_layers_for_heads.box_encodings.3.7\n",
            "W0121 02:23:41.580255 139924622305152 util.py:182] Unresolved object in checkpoint: (root).model._box_predictor._base_tower_layers_for_heads.box_encodings.3.7\n",
            "WARNING:tensorflow:Unresolved object in checkpoint: (root).model._box_predictor._base_tower_layers_for_heads.box_encodings.3.8\n",
            "W0121 02:23:41.580331 139924622305152 util.py:182] Unresolved object in checkpoint: (root).model._box_predictor._base_tower_layers_for_heads.box_encodings.3.8\n",
            "WARNING:tensorflow:Unresolved object in checkpoint: (root).model._box_predictor._base_tower_layers_for_heads.box_encodings.3.10\n",
            "W0121 02:23:41.580408 139924622305152 util.py:182] Unresolved object in checkpoint: (root).model._box_predictor._base_tower_layers_for_heads.box_encodings.3.10\n",
            "WARNING:tensorflow:Unresolved object in checkpoint: (root).model._box_predictor._base_tower_layers_for_heads.box_encodings.3.11\n",
            "W0121 02:23:41.580487 139924622305152 util.py:182] Unresolved object in checkpoint: (root).model._box_predictor._base_tower_layers_for_heads.box_encodings.3.11\n",
            "WARNING:tensorflow:Unresolved object in checkpoint: (root).model._box_predictor._base_tower_layers_for_heads.box_encodings.4.1\n",
            "W0121 02:23:41.580564 139924622305152 util.py:182] Unresolved object in checkpoint: (root).model._box_predictor._base_tower_layers_for_heads.box_encodings.4.1\n",
            "WARNING:tensorflow:Unresolved object in checkpoint: (root).model._box_predictor._base_tower_layers_for_heads.box_encodings.4.2\n",
            "W0121 02:23:41.580658 139924622305152 util.py:182] Unresolved object in checkpoint: (root).model._box_predictor._base_tower_layers_for_heads.box_encodings.4.2\n",
            "WARNING:tensorflow:Unresolved object in checkpoint: (root).model._box_predictor._base_tower_layers_for_heads.box_encodings.4.4\n",
            "W0121 02:23:41.580752 139924622305152 util.py:182] Unresolved object in checkpoint: (root).model._box_predictor._base_tower_layers_for_heads.box_encodings.4.4\n",
            "WARNING:tensorflow:Unresolved object in checkpoint: (root).model._box_predictor._base_tower_layers_for_heads.box_encodings.4.5\n",
            "W0121 02:23:41.580858 139924622305152 util.py:182] Unresolved object in checkpoint: (root).model._box_predictor._base_tower_layers_for_heads.box_encodings.4.5\n",
            "WARNING:tensorflow:Unresolved object in checkpoint: (root).model._box_predictor._base_tower_layers_for_heads.box_encodings.4.7\n",
            "W0121 02:23:41.581000 139924622305152 util.py:182] Unresolved object in checkpoint: (root).model._box_predictor._base_tower_layers_for_heads.box_encodings.4.7\n",
            "WARNING:tensorflow:Unresolved object in checkpoint: (root).model._box_predictor._base_tower_layers_for_heads.box_encodings.4.8\n",
            "W0121 02:23:41.581106 139924622305152 util.py:182] Unresolved object in checkpoint: (root).model._box_predictor._base_tower_layers_for_heads.box_encodings.4.8\n",
            "WARNING:tensorflow:Unresolved object in checkpoint: (root).model._box_predictor._base_tower_layers_for_heads.box_encodings.4.10\n",
            "W0121 02:23:41.581199 139924622305152 util.py:182] Unresolved object in checkpoint: (root).model._box_predictor._base_tower_layers_for_heads.box_encodings.4.10\n",
            "WARNING:tensorflow:Unresolved object in checkpoint: (root).model._box_predictor._base_tower_layers_for_heads.box_encodings.4.11\n",
            "W0121 02:23:41.581292 139924622305152 util.py:182] Unresolved object in checkpoint: (root).model._box_predictor._base_tower_layers_for_heads.box_encodings.4.11\n",
            "WARNING:tensorflow:Unresolved object in checkpoint: (root).model._box_predictor._base_tower_layers_for_heads.class_predictions_with_background.0.1\n",
            "W0121 02:23:41.581387 139924622305152 util.py:182] Unresolved object in checkpoint: (root).model._box_predictor._base_tower_layers_for_heads.class_predictions_with_background.0.1\n",
            "WARNING:tensorflow:Unresolved object in checkpoint: (root).model._box_predictor._base_tower_layers_for_heads.class_predictions_with_background.0.2\n",
            "W0121 02:23:41.581483 139924622305152 util.py:182] Unresolved object in checkpoint: (root).model._box_predictor._base_tower_layers_for_heads.class_predictions_with_background.0.2\n",
            "WARNING:tensorflow:Unresolved object in checkpoint: (root).model._box_predictor._base_tower_layers_for_heads.class_predictions_with_background.0.4\n",
            "W0121 02:23:41.581579 139924622305152 util.py:182] Unresolved object in checkpoint: (root).model._box_predictor._base_tower_layers_for_heads.class_predictions_with_background.0.4\n",
            "WARNING:tensorflow:Unresolved object in checkpoint: (root).model._box_predictor._base_tower_layers_for_heads.class_predictions_with_background.0.5\n",
            "W0121 02:23:41.581674 139924622305152 util.py:182] Unresolved object in checkpoint: (root).model._box_predictor._base_tower_layers_for_heads.class_predictions_with_background.0.5\n",
            "WARNING:tensorflow:Unresolved object in checkpoint: (root).model._box_predictor._base_tower_layers_for_heads.class_predictions_with_background.0.7\n",
            "W0121 02:23:41.581770 139924622305152 util.py:182] Unresolved object in checkpoint: (root).model._box_predictor._base_tower_layers_for_heads.class_predictions_with_background.0.7\n",
            "WARNING:tensorflow:Unresolved object in checkpoint: (root).model._box_predictor._base_tower_layers_for_heads.class_predictions_with_background.0.8\n",
            "W0121 02:23:41.581881 139924622305152 util.py:182] Unresolved object in checkpoint: (root).model._box_predictor._base_tower_layers_for_heads.class_predictions_with_background.0.8\n",
            "WARNING:tensorflow:Unresolved object in checkpoint: (root).model._box_predictor._base_tower_layers_for_heads.class_predictions_with_background.0.10\n",
            "W0121 02:23:41.581990 139924622305152 util.py:182] Unresolved object in checkpoint: (root).model._box_predictor._base_tower_layers_for_heads.class_predictions_with_background.0.10\n",
            "WARNING:tensorflow:Unresolved object in checkpoint: (root).model._box_predictor._base_tower_layers_for_heads.class_predictions_with_background.0.11\n",
            "W0121 02:23:41.582086 139924622305152 util.py:182] Unresolved object in checkpoint: (root).model._box_predictor._base_tower_layers_for_heads.class_predictions_with_background.0.11\n",
            "WARNING:tensorflow:Unresolved object in checkpoint: (root).model._box_predictor._base_tower_layers_for_heads.class_predictions_with_background.1.1\n",
            "W0121 02:23:41.582184 139924622305152 util.py:182] Unresolved object in checkpoint: (root).model._box_predictor._base_tower_layers_for_heads.class_predictions_with_background.1.1\n",
            "WARNING:tensorflow:Unresolved object in checkpoint: (root).model._box_predictor._base_tower_layers_for_heads.class_predictions_with_background.1.2\n",
            "W0121 02:23:41.582279 139924622305152 util.py:182] Unresolved object in checkpoint: (root).model._box_predictor._base_tower_layers_for_heads.class_predictions_with_background.1.2\n",
            "WARNING:tensorflow:Unresolved object in checkpoint: (root).model._box_predictor._base_tower_layers_for_heads.class_predictions_with_background.1.4\n",
            "W0121 02:23:41.582376 139924622305152 util.py:182] Unresolved object in checkpoint: (root).model._box_predictor._base_tower_layers_for_heads.class_predictions_with_background.1.4\n",
            "WARNING:tensorflow:Unresolved object in checkpoint: (root).model._box_predictor._base_tower_layers_for_heads.class_predictions_with_background.1.5\n",
            "W0121 02:23:41.582473 139924622305152 util.py:182] Unresolved object in checkpoint: (root).model._box_predictor._base_tower_layers_for_heads.class_predictions_with_background.1.5\n",
            "WARNING:tensorflow:Unresolved object in checkpoint: (root).model._box_predictor._base_tower_layers_for_heads.class_predictions_with_background.1.7\n",
            "W0121 02:23:41.582568 139924622305152 util.py:182] Unresolved object in checkpoint: (root).model._box_predictor._base_tower_layers_for_heads.class_predictions_with_background.1.7\n",
            "WARNING:tensorflow:Unresolved object in checkpoint: (root).model._box_predictor._base_tower_layers_for_heads.class_predictions_with_background.1.8\n",
            "W0121 02:23:41.582664 139924622305152 util.py:182] Unresolved object in checkpoint: (root).model._box_predictor._base_tower_layers_for_heads.class_predictions_with_background.1.8\n",
            "WARNING:tensorflow:Unresolved object in checkpoint: (root).model._box_predictor._base_tower_layers_for_heads.class_predictions_with_background.1.10\n",
            "W0121 02:23:41.582749 139924622305152 util.py:182] Unresolved object in checkpoint: (root).model._box_predictor._base_tower_layers_for_heads.class_predictions_with_background.1.10\n",
            "WARNING:tensorflow:Unresolved object in checkpoint: (root).model._box_predictor._base_tower_layers_for_heads.class_predictions_with_background.1.11\n",
            "W0121 02:23:41.582844 139924622305152 util.py:182] Unresolved object in checkpoint: (root).model._box_predictor._base_tower_layers_for_heads.class_predictions_with_background.1.11\n",
            "WARNING:tensorflow:Unresolved object in checkpoint: (root).model._box_predictor._base_tower_layers_for_heads.class_predictions_with_background.2.1\n",
            "W0121 02:23:41.582946 139924622305152 util.py:182] Unresolved object in checkpoint: (root).model._box_predictor._base_tower_layers_for_heads.class_predictions_with_background.2.1\n",
            "WARNING:tensorflow:Unresolved object in checkpoint: (root).model._box_predictor._base_tower_layers_for_heads.class_predictions_with_background.2.2\n",
            "W0121 02:23:41.583039 139924622305152 util.py:182] Unresolved object in checkpoint: (root).model._box_predictor._base_tower_layers_for_heads.class_predictions_with_background.2.2\n",
            "WARNING:tensorflow:Unresolved object in checkpoint: (root).model._box_predictor._base_tower_layers_for_heads.class_predictions_with_background.2.4\n",
            "W0121 02:23:41.583172 139924622305152 util.py:182] Unresolved object in checkpoint: (root).model._box_predictor._base_tower_layers_for_heads.class_predictions_with_background.2.4\n",
            "WARNING:tensorflow:Unresolved object in checkpoint: (root).model._box_predictor._base_tower_layers_for_heads.class_predictions_with_background.2.5\n",
            "W0121 02:23:41.583287 139924622305152 util.py:182] Unresolved object in checkpoint: (root).model._box_predictor._base_tower_layers_for_heads.class_predictions_with_background.2.5\n",
            "WARNING:tensorflow:Unresolved object in checkpoint: (root).model._box_predictor._base_tower_layers_for_heads.class_predictions_with_background.2.7\n",
            "W0121 02:23:41.583397 139924622305152 util.py:182] Unresolved object in checkpoint: (root).model._box_predictor._base_tower_layers_for_heads.class_predictions_with_background.2.7\n",
            "WARNING:tensorflow:Unresolved object in checkpoint: (root).model._box_predictor._base_tower_layers_for_heads.class_predictions_with_background.2.8\n",
            "W0121 02:23:41.583682 139924622305152 util.py:182] Unresolved object in checkpoint: (root).model._box_predictor._base_tower_layers_for_heads.class_predictions_with_background.2.8\n",
            "WARNING:tensorflow:Unresolved object in checkpoint: (root).model._box_predictor._base_tower_layers_for_heads.class_predictions_with_background.2.10\n",
            "W0121 02:23:41.583844 139924622305152 util.py:182] Unresolved object in checkpoint: (root).model._box_predictor._base_tower_layers_for_heads.class_predictions_with_background.2.10\n",
            "WARNING:tensorflow:Unresolved object in checkpoint: (root).model._box_predictor._base_tower_layers_for_heads.class_predictions_with_background.2.11\n",
            "W0121 02:23:41.583960 139924622305152 util.py:182] Unresolved object in checkpoint: (root).model._box_predictor._base_tower_layers_for_heads.class_predictions_with_background.2.11\n",
            "WARNING:tensorflow:Unresolved object in checkpoint: (root).model._box_predictor._base_tower_layers_for_heads.class_predictions_with_background.3.1\n",
            "W0121 02:23:41.584091 139924622305152 util.py:182] Unresolved object in checkpoint: (root).model._box_predictor._base_tower_layers_for_heads.class_predictions_with_background.3.1\n",
            "WARNING:tensorflow:Unresolved object in checkpoint: (root).model._box_predictor._base_tower_layers_for_heads.class_predictions_with_background.3.2\n",
            "W0121 02:23:41.584200 139924622305152 util.py:182] Unresolved object in checkpoint: (root).model._box_predictor._base_tower_layers_for_heads.class_predictions_with_background.3.2\n",
            "WARNING:tensorflow:Unresolved object in checkpoint: (root).model._box_predictor._base_tower_layers_for_heads.class_predictions_with_background.3.4\n",
            "W0121 02:23:41.584316 139924622305152 util.py:182] Unresolved object in checkpoint: (root).model._box_predictor._base_tower_layers_for_heads.class_predictions_with_background.3.4\n",
            "WARNING:tensorflow:Unresolved object in checkpoint: (root).model._box_predictor._base_tower_layers_for_heads.class_predictions_with_background.3.5\n",
            "W0121 02:23:41.584425 139924622305152 util.py:182] Unresolved object in checkpoint: (root).model._box_predictor._base_tower_layers_for_heads.class_predictions_with_background.3.5\n",
            "WARNING:tensorflow:Unresolved object in checkpoint: (root).model._box_predictor._base_tower_layers_for_heads.class_predictions_with_background.3.7\n",
            "W0121 02:23:41.584527 139924622305152 util.py:182] Unresolved object in checkpoint: (root).model._box_predictor._base_tower_layers_for_heads.class_predictions_with_background.3.7\n",
            "WARNING:tensorflow:Unresolved object in checkpoint: (root).model._box_predictor._base_tower_layers_for_heads.class_predictions_with_background.3.8\n",
            "W0121 02:23:41.584627 139924622305152 util.py:182] Unresolved object in checkpoint: (root).model._box_predictor._base_tower_layers_for_heads.class_predictions_with_background.3.8\n",
            "WARNING:tensorflow:Unresolved object in checkpoint: (root).model._box_predictor._base_tower_layers_for_heads.class_predictions_with_background.3.10\n",
            "W0121 02:23:41.584728 139924622305152 util.py:182] Unresolved object in checkpoint: (root).model._box_predictor._base_tower_layers_for_heads.class_predictions_with_background.3.10\n",
            "WARNING:tensorflow:Unresolved object in checkpoint: (root).model._box_predictor._base_tower_layers_for_heads.class_predictions_with_background.3.11\n",
            "W0121 02:23:41.584844 139924622305152 util.py:182] Unresolved object in checkpoint: (root).model._box_predictor._base_tower_layers_for_heads.class_predictions_with_background.3.11\n",
            "WARNING:tensorflow:Unresolved object in checkpoint: (root).model._box_predictor._base_tower_layers_for_heads.class_predictions_with_background.4.1\n",
            "W0121 02:23:41.584948 139924622305152 util.py:182] Unresolved object in checkpoint: (root).model._box_predictor._base_tower_layers_for_heads.class_predictions_with_background.4.1\n",
            "WARNING:tensorflow:Unresolved object in checkpoint: (root).model._box_predictor._base_tower_layers_for_heads.class_predictions_with_background.4.2\n",
            "W0121 02:23:41.585046 139924622305152 util.py:182] Unresolved object in checkpoint: (root).model._box_predictor._base_tower_layers_for_heads.class_predictions_with_background.4.2\n",
            "WARNING:tensorflow:Unresolved object in checkpoint: (root).model._box_predictor._base_tower_layers_for_heads.class_predictions_with_background.4.4\n",
            "W0121 02:23:41.585146 139924622305152 util.py:182] Unresolved object in checkpoint: (root).model._box_predictor._base_tower_layers_for_heads.class_predictions_with_background.4.4\n",
            "WARNING:tensorflow:Unresolved object in checkpoint: (root).model._box_predictor._base_tower_layers_for_heads.class_predictions_with_background.4.5\n",
            "W0121 02:23:41.585248 139924622305152 util.py:182] Unresolved object in checkpoint: (root).model._box_predictor._base_tower_layers_for_heads.class_predictions_with_background.4.5\n",
            "WARNING:tensorflow:Unresolved object in checkpoint: (root).model._box_predictor._base_tower_layers_for_heads.class_predictions_with_background.4.7\n",
            "W0121 02:23:41.585364 139924622305152 util.py:182] Unresolved object in checkpoint: (root).model._box_predictor._base_tower_layers_for_heads.class_predictions_with_background.4.7\n",
            "WARNING:tensorflow:Unresolved object in checkpoint: (root).model._box_predictor._base_tower_layers_for_heads.class_predictions_with_background.4.8\n",
            "W0121 02:23:41.585471 139924622305152 util.py:182] Unresolved object in checkpoint: (root).model._box_predictor._base_tower_layers_for_heads.class_predictions_with_background.4.8\n",
            "WARNING:tensorflow:Unresolved object in checkpoint: (root).model._box_predictor._base_tower_layers_for_heads.class_predictions_with_background.4.10\n",
            "W0121 02:23:41.585574 139924622305152 util.py:182] Unresolved object in checkpoint: (root).model._box_predictor._base_tower_layers_for_heads.class_predictions_with_background.4.10\n",
            "WARNING:tensorflow:Unresolved object in checkpoint: (root).model._box_predictor._base_tower_layers_for_heads.class_predictions_with_background.4.11\n",
            "W0121 02:23:41.585675 139924622305152 util.py:182] Unresolved object in checkpoint: (root).model._box_predictor._base_tower_layers_for_heads.class_predictions_with_background.4.11\n",
            "WARNING:tensorflow:Unresolved object in checkpoint: (root).model._box_predictor._head_scope_conv_layers.PredictionTower.0.depthwise_kernel\n",
            "W0121 02:23:41.585775 139924622305152 util.py:182] Unresolved object in checkpoint: (root).model._box_predictor._head_scope_conv_layers.PredictionTower.0.depthwise_kernel\n",
            "WARNING:tensorflow:Unresolved object in checkpoint: (root).model._box_predictor._head_scope_conv_layers.PredictionTower.0.pointwise_kernel\n",
            "W0121 02:23:41.585896 139924622305152 util.py:182] Unresolved object in checkpoint: (root).model._box_predictor._head_scope_conv_layers.PredictionTower.0.pointwise_kernel\n",
            "WARNING:tensorflow:Unresolved object in checkpoint: (root).model._box_predictor._head_scope_conv_layers.PredictionTower.1.depthwise_kernel\n",
            "W0121 02:23:41.585996 139924622305152 util.py:182] Unresolved object in checkpoint: (root).model._box_predictor._head_scope_conv_layers.PredictionTower.1.depthwise_kernel\n",
            "WARNING:tensorflow:Unresolved object in checkpoint: (root).model._box_predictor._head_scope_conv_layers.PredictionTower.1.pointwise_kernel\n",
            "W0121 02:23:41.586095 139924622305152 util.py:182] Unresolved object in checkpoint: (root).model._box_predictor._head_scope_conv_layers.PredictionTower.1.pointwise_kernel\n",
            "WARNING:tensorflow:Unresolved object in checkpoint: (root).model._box_predictor._head_scope_conv_layers.PredictionTower.2.depthwise_kernel\n",
            "W0121 02:23:41.586190 139924622305152 util.py:182] Unresolved object in checkpoint: (root).model._box_predictor._head_scope_conv_layers.PredictionTower.2.depthwise_kernel\n",
            "WARNING:tensorflow:Unresolved object in checkpoint: (root).model._box_predictor._head_scope_conv_layers.PredictionTower.2.pointwise_kernel\n",
            "W0121 02:23:41.586282 139924622305152 util.py:182] Unresolved object in checkpoint: (root).model._box_predictor._head_scope_conv_layers.PredictionTower.2.pointwise_kernel\n",
            "WARNING:tensorflow:Unresolved object in checkpoint: (root).model._box_predictor._head_scope_conv_layers.PredictionTower.3.depthwise_kernel\n",
            "W0121 02:23:41.586384 139924622305152 util.py:182] Unresolved object in checkpoint: (root).model._box_predictor._head_scope_conv_layers.PredictionTower.3.depthwise_kernel\n",
            "WARNING:tensorflow:Unresolved object in checkpoint: (root).model._box_predictor._head_scope_conv_layers.PredictionTower.3.pointwise_kernel\n",
            "W0121 02:23:41.586481 139924622305152 util.py:182] Unresolved object in checkpoint: (root).model._box_predictor._head_scope_conv_layers.PredictionTower.3.pointwise_kernel\n",
            "WARNING:tensorflow:Unresolved object in checkpoint: (root).model._box_predictor._prediction_heads.class_predictions_with_background._class_predictor_layers.0.depthwise_kernel\n",
            "W0121 02:23:41.586581 139924622305152 util.py:182] Unresolved object in checkpoint: (root).model._box_predictor._prediction_heads.class_predictions_with_background._class_predictor_layers.0.depthwise_kernel\n",
            "WARNING:tensorflow:Unresolved object in checkpoint: (root).model._box_predictor._prediction_heads.class_predictions_with_background._class_predictor_layers.0.pointwise_kernel\n",
            "W0121 02:23:41.586681 139924622305152 util.py:182] Unresolved object in checkpoint: (root).model._box_predictor._prediction_heads.class_predictions_with_background._class_predictor_layers.0.pointwise_kernel\n",
            "WARNING:tensorflow:Unresolved object in checkpoint: (root).model._box_predictor._prediction_heads.class_predictions_with_background._class_predictor_layers.0.bias\n",
            "W0121 02:23:41.586779 139924622305152 util.py:182] Unresolved object in checkpoint: (root).model._box_predictor._prediction_heads.class_predictions_with_background._class_predictor_layers.0.bias\n",
            "WARNING:tensorflow:Unresolved object in checkpoint: (root).model._box_predictor._base_tower_layers_for_heads.box_encodings.0.1.axis\n",
            "W0121 02:23:41.586894 139924622305152 util.py:182] Unresolved object in checkpoint: (root).model._box_predictor._base_tower_layers_for_heads.box_encodings.0.1.axis\n",
            "WARNING:tensorflow:Unresolved object in checkpoint: (root).model._box_predictor._base_tower_layers_for_heads.box_encodings.0.1.gamma\n",
            "W0121 02:23:41.586990 139924622305152 util.py:182] Unresolved object in checkpoint: (root).model._box_predictor._base_tower_layers_for_heads.box_encodings.0.1.gamma\n",
            "WARNING:tensorflow:Unresolved object in checkpoint: (root).model._box_predictor._base_tower_layers_for_heads.box_encodings.0.1.beta\n",
            "W0121 02:23:41.587087 139924622305152 util.py:182] Unresolved object in checkpoint: (root).model._box_predictor._base_tower_layers_for_heads.box_encodings.0.1.beta\n",
            "WARNING:tensorflow:Unresolved object in checkpoint: (root).model._box_predictor._base_tower_layers_for_heads.box_encodings.0.1.moving_mean\n",
            "W0121 02:23:41.587185 139924622305152 util.py:182] Unresolved object in checkpoint: (root).model._box_predictor._base_tower_layers_for_heads.box_encodings.0.1.moving_mean\n",
            "WARNING:tensorflow:Unresolved object in checkpoint: (root).model._box_predictor._base_tower_layers_for_heads.box_encodings.0.1.moving_variance\n",
            "W0121 02:23:41.587283 139924622305152 util.py:182] Unresolved object in checkpoint: (root).model._box_predictor._base_tower_layers_for_heads.box_encodings.0.1.moving_variance\n",
            "WARNING:tensorflow:Unresolved object in checkpoint: (root).model._box_predictor._base_tower_layers_for_heads.box_encodings.0.4.axis\n",
            "W0121 02:23:41.587392 139924622305152 util.py:182] Unresolved object in checkpoint: (root).model._box_predictor._base_tower_layers_for_heads.box_encodings.0.4.axis\n",
            "WARNING:tensorflow:Unresolved object in checkpoint: (root).model._box_predictor._base_tower_layers_for_heads.box_encodings.0.4.gamma\n",
            "W0121 02:23:41.587490 139924622305152 util.py:182] Unresolved object in checkpoint: (root).model._box_predictor._base_tower_layers_for_heads.box_encodings.0.4.gamma\n",
            "WARNING:tensorflow:Unresolved object in checkpoint: (root).model._box_predictor._base_tower_layers_for_heads.box_encodings.0.4.beta\n",
            "W0121 02:23:41.587587 139924622305152 util.py:182] Unresolved object in checkpoint: (root).model._box_predictor._base_tower_layers_for_heads.box_encodings.0.4.beta\n",
            "WARNING:tensorflow:Unresolved object in checkpoint: (root).model._box_predictor._base_tower_layers_for_heads.box_encodings.0.4.moving_mean\n",
            "W0121 02:23:41.587685 139924622305152 util.py:182] Unresolved object in checkpoint: (root).model._box_predictor._base_tower_layers_for_heads.box_encodings.0.4.moving_mean\n",
            "WARNING:tensorflow:Unresolved object in checkpoint: (root).model._box_predictor._base_tower_layers_for_heads.box_encodings.0.4.moving_variance\n",
            "W0121 02:23:41.587779 139924622305152 util.py:182] Unresolved object in checkpoint: (root).model._box_predictor._base_tower_layers_for_heads.box_encodings.0.4.moving_variance\n",
            "WARNING:tensorflow:Unresolved object in checkpoint: (root).model._box_predictor._base_tower_layers_for_heads.box_encodings.0.7.axis\n",
            "W0121 02:23:41.587898 139924622305152 util.py:182] Unresolved object in checkpoint: (root).model._box_predictor._base_tower_layers_for_heads.box_encodings.0.7.axis\n",
            "WARNING:tensorflow:Unresolved object in checkpoint: (root).model._box_predictor._base_tower_layers_for_heads.box_encodings.0.7.gamma\n",
            "W0121 02:23:41.587996 139924622305152 util.py:182] Unresolved object in checkpoint: (root).model._box_predictor._base_tower_layers_for_heads.box_encodings.0.7.gamma\n",
            "WARNING:tensorflow:Unresolved object in checkpoint: (root).model._box_predictor._base_tower_layers_for_heads.box_encodings.0.7.beta\n",
            "W0121 02:23:41.588093 139924622305152 util.py:182] Unresolved object in checkpoint: (root).model._box_predictor._base_tower_layers_for_heads.box_encodings.0.7.beta\n",
            "WARNING:tensorflow:Unresolved object in checkpoint: (root).model._box_predictor._base_tower_layers_for_heads.box_encodings.0.7.moving_mean\n",
            "W0121 02:23:41.588189 139924622305152 util.py:182] Unresolved object in checkpoint: (root).model._box_predictor._base_tower_layers_for_heads.box_encodings.0.7.moving_mean\n",
            "WARNING:tensorflow:Unresolved object in checkpoint: (root).model._box_predictor._base_tower_layers_for_heads.box_encodings.0.7.moving_variance\n",
            "W0121 02:23:41.588294 139924622305152 util.py:182] Unresolved object in checkpoint: (root).model._box_predictor._base_tower_layers_for_heads.box_encodings.0.7.moving_variance\n",
            "WARNING:tensorflow:Unresolved object in checkpoint: (root).model._box_predictor._base_tower_layers_for_heads.box_encodings.0.10.axis\n",
            "W0121 02:23:41.588401 139924622305152 util.py:182] Unresolved object in checkpoint: (root).model._box_predictor._base_tower_layers_for_heads.box_encodings.0.10.axis\n",
            "WARNING:tensorflow:Unresolved object in checkpoint: (root).model._box_predictor._base_tower_layers_for_heads.box_encodings.0.10.gamma\n",
            "W0121 02:23:41.588498 139924622305152 util.py:182] Unresolved object in checkpoint: (root).model._box_predictor._base_tower_layers_for_heads.box_encodings.0.10.gamma\n",
            "WARNING:tensorflow:Unresolved object in checkpoint: (root).model._box_predictor._base_tower_layers_for_heads.box_encodings.0.10.beta\n",
            "W0121 02:23:41.588597 139924622305152 util.py:182] Unresolved object in checkpoint: (root).model._box_predictor._base_tower_layers_for_heads.box_encodings.0.10.beta\n",
            "WARNING:tensorflow:Unresolved object in checkpoint: (root).model._box_predictor._base_tower_layers_for_heads.box_encodings.0.10.moving_mean\n",
            "W0121 02:23:41.588693 139924622305152 util.py:182] Unresolved object in checkpoint: (root).model._box_predictor._base_tower_layers_for_heads.box_encodings.0.10.moving_mean\n",
            "WARNING:tensorflow:Unresolved object in checkpoint: (root).model._box_predictor._base_tower_layers_for_heads.box_encodings.0.10.moving_variance\n",
            "W0121 02:23:41.588800 139924622305152 util.py:182] Unresolved object in checkpoint: (root).model._box_predictor._base_tower_layers_for_heads.box_encodings.0.10.moving_variance\n",
            "WARNING:tensorflow:Unresolved object in checkpoint: (root).model._box_predictor._base_tower_layers_for_heads.box_encodings.1.1.axis\n",
            "W0121 02:23:41.588903 139924622305152 util.py:182] Unresolved object in checkpoint: (root).model._box_predictor._base_tower_layers_for_heads.box_encodings.1.1.axis\n",
            "WARNING:tensorflow:Unresolved object in checkpoint: (root).model._box_predictor._base_tower_layers_for_heads.box_encodings.1.1.gamma\n",
            "W0121 02:23:41.589000 139924622305152 util.py:182] Unresolved object in checkpoint: (root).model._box_predictor._base_tower_layers_for_heads.box_encodings.1.1.gamma\n",
            "WARNING:tensorflow:Unresolved object in checkpoint: (root).model._box_predictor._base_tower_layers_for_heads.box_encodings.1.1.beta\n",
            "W0121 02:23:41.589099 139924622305152 util.py:182] Unresolved object in checkpoint: (root).model._box_predictor._base_tower_layers_for_heads.box_encodings.1.1.beta\n",
            "WARNING:tensorflow:Unresolved object in checkpoint: (root).model._box_predictor._base_tower_layers_for_heads.box_encodings.1.1.moving_mean\n",
            "W0121 02:23:41.589198 139924622305152 util.py:182] Unresolved object in checkpoint: (root).model._box_predictor._base_tower_layers_for_heads.box_encodings.1.1.moving_mean\n",
            "WARNING:tensorflow:Unresolved object in checkpoint: (root).model._box_predictor._base_tower_layers_for_heads.box_encodings.1.1.moving_variance\n",
            "W0121 02:23:41.589297 139924622305152 util.py:182] Unresolved object in checkpoint: (root).model._box_predictor._base_tower_layers_for_heads.box_encodings.1.1.moving_variance\n",
            "WARNING:tensorflow:Unresolved object in checkpoint: (root).model._box_predictor._base_tower_layers_for_heads.box_encodings.1.4.axis\n",
            "W0121 02:23:41.589409 139924622305152 util.py:182] Unresolved object in checkpoint: (root).model._box_predictor._base_tower_layers_for_heads.box_encodings.1.4.axis\n",
            "WARNING:tensorflow:Unresolved object in checkpoint: (root).model._box_predictor._base_tower_layers_for_heads.box_encodings.1.4.gamma\n",
            "W0121 02:23:41.589507 139924622305152 util.py:182] Unresolved object in checkpoint: (root).model._box_predictor._base_tower_layers_for_heads.box_encodings.1.4.gamma\n",
            "WARNING:tensorflow:Unresolved object in checkpoint: (root).model._box_predictor._base_tower_layers_for_heads.box_encodings.1.4.beta\n",
            "W0121 02:23:41.589606 139924622305152 util.py:182] Unresolved object in checkpoint: (root).model._box_predictor._base_tower_layers_for_heads.box_encodings.1.4.beta\n",
            "WARNING:tensorflow:Unresolved object in checkpoint: (root).model._box_predictor._base_tower_layers_for_heads.box_encodings.1.4.moving_mean\n",
            "W0121 02:23:41.589704 139924622305152 util.py:182] Unresolved object in checkpoint: (root).model._box_predictor._base_tower_layers_for_heads.box_encodings.1.4.moving_mean\n",
            "WARNING:tensorflow:Unresolved object in checkpoint: (root).model._box_predictor._base_tower_layers_for_heads.box_encodings.1.4.moving_variance\n",
            "W0121 02:23:41.589812 139924622305152 util.py:182] Unresolved object in checkpoint: (root).model._box_predictor._base_tower_layers_for_heads.box_encodings.1.4.moving_variance\n",
            "WARNING:tensorflow:Unresolved object in checkpoint: (root).model._box_predictor._base_tower_layers_for_heads.box_encodings.1.7.axis\n",
            "W0121 02:23:41.589914 139924622305152 util.py:182] Unresolved object in checkpoint: (root).model._box_predictor._base_tower_layers_for_heads.box_encodings.1.7.axis\n",
            "WARNING:tensorflow:Unresolved object in checkpoint: (root).model._box_predictor._base_tower_layers_for_heads.box_encodings.1.7.gamma\n",
            "W0121 02:23:41.590008 139924622305152 util.py:182] Unresolved object in checkpoint: (root).model._box_predictor._base_tower_layers_for_heads.box_encodings.1.7.gamma\n",
            "WARNING:tensorflow:Unresolved object in checkpoint: (root).model._box_predictor._base_tower_layers_for_heads.box_encodings.1.7.beta\n",
            "W0121 02:23:41.590107 139924622305152 util.py:182] Unresolved object in checkpoint: (root).model._box_predictor._base_tower_layers_for_heads.box_encodings.1.7.beta\n",
            "WARNING:tensorflow:Unresolved object in checkpoint: (root).model._box_predictor._base_tower_layers_for_heads.box_encodings.1.7.moving_mean\n",
            "W0121 02:23:41.590201 139924622305152 util.py:182] Unresolved object in checkpoint: (root).model._box_predictor._base_tower_layers_for_heads.box_encodings.1.7.moving_mean\n",
            "WARNING:tensorflow:Unresolved object in checkpoint: (root).model._box_predictor._base_tower_layers_for_heads.box_encodings.1.7.moving_variance\n",
            "W0121 02:23:41.590295 139924622305152 util.py:182] Unresolved object in checkpoint: (root).model._box_predictor._base_tower_layers_for_heads.box_encodings.1.7.moving_variance\n",
            "WARNING:tensorflow:Unresolved object in checkpoint: (root).model._box_predictor._base_tower_layers_for_heads.box_encodings.1.10.axis\n",
            "W0121 02:23:41.590397 139924622305152 util.py:182] Unresolved object in checkpoint: (root).model._box_predictor._base_tower_layers_for_heads.box_encodings.1.10.axis\n",
            "WARNING:tensorflow:Unresolved object in checkpoint: (root).model._box_predictor._base_tower_layers_for_heads.box_encodings.1.10.gamma\n",
            "W0121 02:23:41.590489 139924622305152 util.py:182] Unresolved object in checkpoint: (root).model._box_predictor._base_tower_layers_for_heads.box_encodings.1.10.gamma\n",
            "WARNING:tensorflow:Unresolved object in checkpoint: (root).model._box_predictor._base_tower_layers_for_heads.box_encodings.1.10.beta\n",
            "W0121 02:23:41.590581 139924622305152 util.py:182] Unresolved object in checkpoint: (root).model._box_predictor._base_tower_layers_for_heads.box_encodings.1.10.beta\n",
            "WARNING:tensorflow:Unresolved object in checkpoint: (root).model._box_predictor._base_tower_layers_for_heads.box_encodings.1.10.moving_mean\n",
            "W0121 02:23:41.590676 139924622305152 util.py:182] Unresolved object in checkpoint: (root).model._box_predictor._base_tower_layers_for_heads.box_encodings.1.10.moving_mean\n",
            "WARNING:tensorflow:Unresolved object in checkpoint: (root).model._box_predictor._base_tower_layers_for_heads.box_encodings.1.10.moving_variance\n",
            "W0121 02:23:41.590771 139924622305152 util.py:182] Unresolved object in checkpoint: (root).model._box_predictor._base_tower_layers_for_heads.box_encodings.1.10.moving_variance\n",
            "WARNING:tensorflow:Unresolved object in checkpoint: (root).model._box_predictor._base_tower_layers_for_heads.box_encodings.2.1.axis\n",
            "W0121 02:23:41.590887 139924622305152 util.py:182] Unresolved object in checkpoint: (root).model._box_predictor._base_tower_layers_for_heads.box_encodings.2.1.axis\n",
            "WARNING:tensorflow:Unresolved object in checkpoint: (root).model._box_predictor._base_tower_layers_for_heads.box_encodings.2.1.gamma\n",
            "W0121 02:23:41.590983 139924622305152 util.py:182] Unresolved object in checkpoint: (root).model._box_predictor._base_tower_layers_for_heads.box_encodings.2.1.gamma\n",
            "WARNING:tensorflow:Unresolved object in checkpoint: (root).model._box_predictor._base_tower_layers_for_heads.box_encodings.2.1.beta\n",
            "W0121 02:23:41.591079 139924622305152 util.py:182] Unresolved object in checkpoint: (root).model._box_predictor._base_tower_layers_for_heads.box_encodings.2.1.beta\n",
            "WARNING:tensorflow:Unresolved object in checkpoint: (root).model._box_predictor._base_tower_layers_for_heads.box_encodings.2.1.moving_mean\n",
            "W0121 02:23:41.591174 139924622305152 util.py:182] Unresolved object in checkpoint: (root).model._box_predictor._base_tower_layers_for_heads.box_encodings.2.1.moving_mean\n",
            "WARNING:tensorflow:Unresolved object in checkpoint: (root).model._box_predictor._base_tower_layers_for_heads.box_encodings.2.1.moving_variance\n",
            "W0121 02:23:41.591272 139924622305152 util.py:182] Unresolved object in checkpoint: (root).model._box_predictor._base_tower_layers_for_heads.box_encodings.2.1.moving_variance\n",
            "WARNING:tensorflow:Unresolved object in checkpoint: (root).model._box_predictor._base_tower_layers_for_heads.box_encodings.2.4.axis\n",
            "W0121 02:23:41.591381 139924622305152 util.py:182] Unresolved object in checkpoint: (root).model._box_predictor._base_tower_layers_for_heads.box_encodings.2.4.axis\n",
            "WARNING:tensorflow:Unresolved object in checkpoint: (root).model._box_predictor._base_tower_layers_for_heads.box_encodings.2.4.gamma\n",
            "W0121 02:23:41.591476 139924622305152 util.py:182] Unresolved object in checkpoint: (root).model._box_predictor._base_tower_layers_for_heads.box_encodings.2.4.gamma\n",
            "WARNING:tensorflow:Unresolved object in checkpoint: (root).model._box_predictor._base_tower_layers_for_heads.box_encodings.2.4.beta\n",
            "W0121 02:23:41.591569 139924622305152 util.py:182] Unresolved object in checkpoint: (root).model._box_predictor._base_tower_layers_for_heads.box_encodings.2.4.beta\n",
            "WARNING:tensorflow:Unresolved object in checkpoint: (root).model._box_predictor._base_tower_layers_for_heads.box_encodings.2.4.moving_mean\n",
            "W0121 02:23:41.591665 139924622305152 util.py:182] Unresolved object in checkpoint: (root).model._box_predictor._base_tower_layers_for_heads.box_encodings.2.4.moving_mean\n",
            "WARNING:tensorflow:Unresolved object in checkpoint: (root).model._box_predictor._base_tower_layers_for_heads.box_encodings.2.4.moving_variance\n",
            "W0121 02:23:41.591758 139924622305152 util.py:182] Unresolved object in checkpoint: (root).model._box_predictor._base_tower_layers_for_heads.box_encodings.2.4.moving_variance\n",
            "WARNING:tensorflow:Unresolved object in checkpoint: (root).model._box_predictor._base_tower_layers_for_heads.box_encodings.2.7.axis\n",
            "W0121 02:23:41.591869 139924622305152 util.py:182] Unresolved object in checkpoint: (root).model._box_predictor._base_tower_layers_for_heads.box_encodings.2.7.axis\n",
            "WARNING:tensorflow:Unresolved object in checkpoint: (root).model._box_predictor._base_tower_layers_for_heads.box_encodings.2.7.gamma\n",
            "W0121 02:23:41.591969 139924622305152 util.py:182] Unresolved object in checkpoint: (root).model._box_predictor._base_tower_layers_for_heads.box_encodings.2.7.gamma\n",
            "WARNING:tensorflow:Unresolved object in checkpoint: (root).model._box_predictor._base_tower_layers_for_heads.box_encodings.2.7.beta\n",
            "W0121 02:23:41.592063 139924622305152 util.py:182] Unresolved object in checkpoint: (root).model._box_predictor._base_tower_layers_for_heads.box_encodings.2.7.beta\n",
            "WARNING:tensorflow:Unresolved object in checkpoint: (root).model._box_predictor._base_tower_layers_for_heads.box_encodings.2.7.moving_mean\n",
            "W0121 02:23:41.592157 139924622305152 util.py:182] Unresolved object in checkpoint: (root).model._box_predictor._base_tower_layers_for_heads.box_encodings.2.7.moving_mean\n",
            "WARNING:tensorflow:Unresolved object in checkpoint: (root).model._box_predictor._base_tower_layers_for_heads.box_encodings.2.7.moving_variance\n",
            "W0121 02:23:41.592253 139924622305152 util.py:182] Unresolved object in checkpoint: (root).model._box_predictor._base_tower_layers_for_heads.box_encodings.2.7.moving_variance\n",
            "WARNING:tensorflow:Unresolved object in checkpoint: (root).model._box_predictor._base_tower_layers_for_heads.box_encodings.2.10.axis\n",
            "W0121 02:23:41.592358 139924622305152 util.py:182] Unresolved object in checkpoint: (root).model._box_predictor._base_tower_layers_for_heads.box_encodings.2.10.axis\n",
            "WARNING:tensorflow:Unresolved object in checkpoint: (root).model._box_predictor._base_tower_layers_for_heads.box_encodings.2.10.gamma\n",
            "W0121 02:23:41.592456 139924622305152 util.py:182] Unresolved object in checkpoint: (root).model._box_predictor._base_tower_layers_for_heads.box_encodings.2.10.gamma\n",
            "WARNING:tensorflow:Unresolved object in checkpoint: (root).model._box_predictor._base_tower_layers_for_heads.box_encodings.2.10.beta\n",
            "W0121 02:23:41.592549 139924622305152 util.py:182] Unresolved object in checkpoint: (root).model._box_predictor._base_tower_layers_for_heads.box_encodings.2.10.beta\n",
            "WARNING:tensorflow:Unresolved object in checkpoint: (root).model._box_predictor._base_tower_layers_for_heads.box_encodings.2.10.moving_mean\n",
            "W0121 02:23:41.592646 139924622305152 util.py:182] Unresolved object in checkpoint: (root).model._box_predictor._base_tower_layers_for_heads.box_encodings.2.10.moving_mean\n",
            "WARNING:tensorflow:Unresolved object in checkpoint: (root).model._box_predictor._base_tower_layers_for_heads.box_encodings.2.10.moving_variance\n",
            "W0121 02:23:41.592744 139924622305152 util.py:182] Unresolved object in checkpoint: (root).model._box_predictor._base_tower_layers_for_heads.box_encodings.2.10.moving_variance\n",
            "WARNING:tensorflow:Unresolved object in checkpoint: (root).model._box_predictor._base_tower_layers_for_heads.box_encodings.3.1.axis\n",
            "W0121 02:23:41.592854 139924622305152 util.py:182] Unresolved object in checkpoint: (root).model._box_predictor._base_tower_layers_for_heads.box_encodings.3.1.axis\n",
            "WARNING:tensorflow:Unresolved object in checkpoint: (root).model._box_predictor._base_tower_layers_for_heads.box_encodings.3.1.gamma\n",
            "W0121 02:23:41.592951 139924622305152 util.py:182] Unresolved object in checkpoint: (root).model._box_predictor._base_tower_layers_for_heads.box_encodings.3.1.gamma\n",
            "WARNING:tensorflow:Unresolved object in checkpoint: (root).model._box_predictor._base_tower_layers_for_heads.box_encodings.3.1.beta\n",
            "W0121 02:23:41.593046 139924622305152 util.py:182] Unresolved object in checkpoint: (root).model._box_predictor._base_tower_layers_for_heads.box_encodings.3.1.beta\n",
            "WARNING:tensorflow:Unresolved object in checkpoint: (root).model._box_predictor._base_tower_layers_for_heads.box_encodings.3.1.moving_mean\n",
            "W0121 02:23:41.593140 139924622305152 util.py:182] Unresolved object in checkpoint: (root).model._box_predictor._base_tower_layers_for_heads.box_encodings.3.1.moving_mean\n",
            "WARNING:tensorflow:Unresolved object in checkpoint: (root).model._box_predictor._base_tower_layers_for_heads.box_encodings.3.1.moving_variance\n",
            "W0121 02:23:41.593237 139924622305152 util.py:182] Unresolved object in checkpoint: (root).model._box_predictor._base_tower_layers_for_heads.box_encodings.3.1.moving_variance\n",
            "WARNING:tensorflow:Unresolved object in checkpoint: (root).model._box_predictor._base_tower_layers_for_heads.box_encodings.3.4.axis\n",
            "W0121 02:23:41.593353 139924622305152 util.py:182] Unresolved object in checkpoint: (root).model._box_predictor._base_tower_layers_for_heads.box_encodings.3.4.axis\n",
            "WARNING:tensorflow:Unresolved object in checkpoint: (root).model._box_predictor._base_tower_layers_for_heads.box_encodings.3.4.gamma\n",
            "W0121 02:23:41.593451 139924622305152 util.py:182] Unresolved object in checkpoint: (root).model._box_predictor._base_tower_layers_for_heads.box_encodings.3.4.gamma\n",
            "WARNING:tensorflow:Unresolved object in checkpoint: (root).model._box_predictor._base_tower_layers_for_heads.box_encodings.3.4.beta\n",
            "W0121 02:23:41.593545 139924622305152 util.py:182] Unresolved object in checkpoint: (root).model._box_predictor._base_tower_layers_for_heads.box_encodings.3.4.beta\n",
            "WARNING:tensorflow:Unresolved object in checkpoint: (root).model._box_predictor._base_tower_layers_for_heads.box_encodings.3.4.moving_mean\n",
            "W0121 02:23:41.593639 139924622305152 util.py:182] Unresolved object in checkpoint: (root).model._box_predictor._base_tower_layers_for_heads.box_encodings.3.4.moving_mean\n",
            "WARNING:tensorflow:Unresolved object in checkpoint: (root).model._box_predictor._base_tower_layers_for_heads.box_encodings.3.4.moving_variance\n",
            "W0121 02:23:41.593736 139924622305152 util.py:182] Unresolved object in checkpoint: (root).model._box_predictor._base_tower_layers_for_heads.box_encodings.3.4.moving_variance\n",
            "WARNING:tensorflow:Unresolved object in checkpoint: (root).model._box_predictor._base_tower_layers_for_heads.box_encodings.3.7.axis\n",
            "W0121 02:23:41.593846 139924622305152 util.py:182] Unresolved object in checkpoint: (root).model._box_predictor._base_tower_layers_for_heads.box_encodings.3.7.axis\n",
            "WARNING:tensorflow:Unresolved object in checkpoint: (root).model._box_predictor._base_tower_layers_for_heads.box_encodings.3.7.gamma\n",
            "W0121 02:23:41.593944 139924622305152 util.py:182] Unresolved object in checkpoint: (root).model._box_predictor._base_tower_layers_for_heads.box_encodings.3.7.gamma\n",
            "WARNING:tensorflow:Unresolved object in checkpoint: (root).model._box_predictor._base_tower_layers_for_heads.box_encodings.3.7.beta\n",
            "W0121 02:23:41.594037 139924622305152 util.py:182] Unresolved object in checkpoint: (root).model._box_predictor._base_tower_layers_for_heads.box_encodings.3.7.beta\n",
            "WARNING:tensorflow:Unresolved object in checkpoint: (root).model._box_predictor._base_tower_layers_for_heads.box_encodings.3.7.moving_mean\n",
            "W0121 02:23:41.594129 139924622305152 util.py:182] Unresolved object in checkpoint: (root).model._box_predictor._base_tower_layers_for_heads.box_encodings.3.7.moving_mean\n",
            "WARNING:tensorflow:Unresolved object in checkpoint: (root).model._box_predictor._base_tower_layers_for_heads.box_encodings.3.7.moving_variance\n",
            "W0121 02:23:41.594221 139924622305152 util.py:182] Unresolved object in checkpoint: (root).model._box_predictor._base_tower_layers_for_heads.box_encodings.3.7.moving_variance\n",
            "WARNING:tensorflow:Unresolved object in checkpoint: (root).model._box_predictor._base_tower_layers_for_heads.box_encodings.3.10.axis\n",
            "W0121 02:23:41.594325 139924622305152 util.py:182] Unresolved object in checkpoint: (root).model._box_predictor._base_tower_layers_for_heads.box_encodings.3.10.axis\n",
            "WARNING:tensorflow:Unresolved object in checkpoint: (root).model._box_predictor._base_tower_layers_for_heads.box_encodings.3.10.gamma\n",
            "W0121 02:23:41.594426 139924622305152 util.py:182] Unresolved object in checkpoint: (root).model._box_predictor._base_tower_layers_for_heads.box_encodings.3.10.gamma\n",
            "WARNING:tensorflow:Unresolved object in checkpoint: (root).model._box_predictor._base_tower_layers_for_heads.box_encodings.3.10.beta\n",
            "W0121 02:23:41.594521 139924622305152 util.py:182] Unresolved object in checkpoint: (root).model._box_predictor._base_tower_layers_for_heads.box_encodings.3.10.beta\n",
            "WARNING:tensorflow:Unresolved object in checkpoint: (root).model._box_predictor._base_tower_layers_for_heads.box_encodings.3.10.moving_mean\n",
            "W0121 02:23:41.594619 139924622305152 util.py:182] Unresolved object in checkpoint: (root).model._box_predictor._base_tower_layers_for_heads.box_encodings.3.10.moving_mean\n",
            "WARNING:tensorflow:Unresolved object in checkpoint: (root).model._box_predictor._base_tower_layers_for_heads.box_encodings.3.10.moving_variance\n",
            "W0121 02:23:41.594716 139924622305152 util.py:182] Unresolved object in checkpoint: (root).model._box_predictor._base_tower_layers_for_heads.box_encodings.3.10.moving_variance\n",
            "WARNING:tensorflow:Unresolved object in checkpoint: (root).model._box_predictor._base_tower_layers_for_heads.box_encodings.4.1.axis\n",
            "W0121 02:23:41.594829 139924622305152 util.py:182] Unresolved object in checkpoint: (root).model._box_predictor._base_tower_layers_for_heads.box_encodings.4.1.axis\n",
            "WARNING:tensorflow:Unresolved object in checkpoint: (root).model._box_predictor._base_tower_layers_for_heads.box_encodings.4.1.gamma\n",
            "W0121 02:23:41.594934 139924622305152 util.py:182] Unresolved object in checkpoint: (root).model._box_predictor._base_tower_layers_for_heads.box_encodings.4.1.gamma\n",
            "WARNING:tensorflow:Unresolved object in checkpoint: (root).model._box_predictor._base_tower_layers_for_heads.box_encodings.4.1.beta\n",
            "W0121 02:23:41.595033 139924622305152 util.py:182] Unresolved object in checkpoint: (root).model._box_predictor._base_tower_layers_for_heads.box_encodings.4.1.beta\n",
            "WARNING:tensorflow:Unresolved object in checkpoint: (root).model._box_predictor._base_tower_layers_for_heads.box_encodings.4.1.moving_mean\n",
            "W0121 02:23:41.595131 139924622305152 util.py:182] Unresolved object in checkpoint: (root).model._box_predictor._base_tower_layers_for_heads.box_encodings.4.1.moving_mean\n",
            "WARNING:tensorflow:Unresolved object in checkpoint: (root).model._box_predictor._base_tower_layers_for_heads.box_encodings.4.1.moving_variance\n",
            "W0121 02:23:41.595231 139924622305152 util.py:182] Unresolved object in checkpoint: (root).model._box_predictor._base_tower_layers_for_heads.box_encodings.4.1.moving_variance\n",
            "WARNING:tensorflow:Unresolved object in checkpoint: (root).model._box_predictor._base_tower_layers_for_heads.box_encodings.4.4.axis\n",
            "W0121 02:23:41.595340 139924622305152 util.py:182] Unresolved object in checkpoint: (root).model._box_predictor._base_tower_layers_for_heads.box_encodings.4.4.axis\n",
            "WARNING:tensorflow:Unresolved object in checkpoint: (root).model._box_predictor._base_tower_layers_for_heads.box_encodings.4.4.gamma\n",
            "W0121 02:23:41.595444 139924622305152 util.py:182] Unresolved object in checkpoint: (root).model._box_predictor._base_tower_layers_for_heads.box_encodings.4.4.gamma\n",
            "WARNING:tensorflow:Unresolved object in checkpoint: (root).model._box_predictor._base_tower_layers_for_heads.box_encodings.4.4.beta\n",
            "W0121 02:23:41.595542 139924622305152 util.py:182] Unresolved object in checkpoint: (root).model._box_predictor._base_tower_layers_for_heads.box_encodings.4.4.beta\n",
            "WARNING:tensorflow:Unresolved object in checkpoint: (root).model._box_predictor._base_tower_layers_for_heads.box_encodings.4.4.moving_mean\n",
            "W0121 02:23:41.595643 139924622305152 util.py:182] Unresolved object in checkpoint: (root).model._box_predictor._base_tower_layers_for_heads.box_encodings.4.4.moving_mean\n",
            "WARNING:tensorflow:Unresolved object in checkpoint: (root).model._box_predictor._base_tower_layers_for_heads.box_encodings.4.4.moving_variance\n",
            "W0121 02:23:41.595743 139924622305152 util.py:182] Unresolved object in checkpoint: (root).model._box_predictor._base_tower_layers_for_heads.box_encodings.4.4.moving_variance\n",
            "WARNING:tensorflow:Unresolved object in checkpoint: (root).model._box_predictor._base_tower_layers_for_heads.box_encodings.4.7.axis\n",
            "W0121 02:23:41.595859 139924622305152 util.py:182] Unresolved object in checkpoint: (root).model._box_predictor._base_tower_layers_for_heads.box_encodings.4.7.axis\n",
            "WARNING:tensorflow:Unresolved object in checkpoint: (root).model._box_predictor._base_tower_layers_for_heads.box_encodings.4.7.gamma\n",
            "W0121 02:23:41.595962 139924622305152 util.py:182] Unresolved object in checkpoint: (root).model._box_predictor._base_tower_layers_for_heads.box_encodings.4.7.gamma\n",
            "WARNING:tensorflow:Unresolved object in checkpoint: (root).model._box_predictor._base_tower_layers_for_heads.box_encodings.4.7.beta\n",
            "W0121 02:23:41.596061 139924622305152 util.py:182] Unresolved object in checkpoint: (root).model._box_predictor._base_tower_layers_for_heads.box_encodings.4.7.beta\n",
            "WARNING:tensorflow:Unresolved object in checkpoint: (root).model._box_predictor._base_tower_layers_for_heads.box_encodings.4.7.moving_mean\n",
            "W0121 02:23:41.596160 139924622305152 util.py:182] Unresolved object in checkpoint: (root).model._box_predictor._base_tower_layers_for_heads.box_encodings.4.7.moving_mean\n",
            "WARNING:tensorflow:Unresolved object in checkpoint: (root).model._box_predictor._base_tower_layers_for_heads.box_encodings.4.7.moving_variance\n",
            "W0121 02:23:41.596259 139924622305152 util.py:182] Unresolved object in checkpoint: (root).model._box_predictor._base_tower_layers_for_heads.box_encodings.4.7.moving_variance\n",
            "WARNING:tensorflow:Unresolved object in checkpoint: (root).model._box_predictor._base_tower_layers_for_heads.box_encodings.4.10.axis\n",
            "W0121 02:23:41.596367 139924622305152 util.py:182] Unresolved object in checkpoint: (root).model._box_predictor._base_tower_layers_for_heads.box_encodings.4.10.axis\n",
            "WARNING:tensorflow:Unresolved object in checkpoint: (root).model._box_predictor._base_tower_layers_for_heads.box_encodings.4.10.gamma\n",
            "W0121 02:23:41.596464 139924622305152 util.py:182] Unresolved object in checkpoint: (root).model._box_predictor._base_tower_layers_for_heads.box_encodings.4.10.gamma\n",
            "WARNING:tensorflow:Unresolved object in checkpoint: (root).model._box_predictor._base_tower_layers_for_heads.box_encodings.4.10.beta\n",
            "W0121 02:23:41.596560 139924622305152 util.py:182] Unresolved object in checkpoint: (root).model._box_predictor._base_tower_layers_for_heads.box_encodings.4.10.beta\n",
            "WARNING:tensorflow:Unresolved object in checkpoint: (root).model._box_predictor._base_tower_layers_for_heads.box_encodings.4.10.moving_mean\n",
            "W0121 02:23:41.596659 139924622305152 util.py:182] Unresolved object in checkpoint: (root).model._box_predictor._base_tower_layers_for_heads.box_encodings.4.10.moving_mean\n",
            "WARNING:tensorflow:Unresolved object in checkpoint: (root).model._box_predictor._base_tower_layers_for_heads.box_encodings.4.10.moving_variance\n",
            "W0121 02:23:41.596759 139924622305152 util.py:182] Unresolved object in checkpoint: (root).model._box_predictor._base_tower_layers_for_heads.box_encodings.4.10.moving_variance\n",
            "WARNING:tensorflow:A checkpoint was restored (e.g. tf.train.Checkpoint.restore or tf.keras.Model.load_weights) but not all checkpointed values were used. See above for specific issues. Use expect_partial() on the load status object, e.g. tf.train.Checkpoint.restore(...).expect_partial(), to silence these warnings, or use assert_consumed() to make the check explicit. See https://www.tensorflow.org/guide/checkpoint#loading_mechanics for details.\n",
            "W0121 02:23:41.596873 139924622305152 util.py:190] A checkpoint was restored (e.g. tf.train.Checkpoint.restore or tf.keras.Model.load_weights) but not all checkpointed values were used. See above for specific issues. Use expect_partial() on the load status object, e.g. tf.train.Checkpoint.restore(...).expect_partial(), to silence these warnings, or use assert_consumed() to make the check explicit. See https://www.tensorflow.org/guide/checkpoint#loading_mechanics for details.\n",
            "WARNING:tensorflow:From /usr/local/lib/python3.7/dist-packages/tensorflow/python/util/deprecation.py:620: calling map_fn_v2 (from tensorflow.python.ops.map_fn) with dtype is deprecated and will be removed in a future version.\n",
            "Instructions for updating:\n",
            "Use fn_output_signature instead\n",
            "W0121 02:23:48.772537 139921999828736 deprecation.py:551] From /usr/local/lib/python3.7/dist-packages/tensorflow/python/util/deprecation.py:620: calling map_fn_v2 (from tensorflow.python.ops.map_fn) with dtype is deprecated and will be removed in a future version.\n",
            "Instructions for updating:\n",
            "Use fn_output_signature instead\n",
            "INFO:tensorflow:Step 100 per-step time 1.862s loss=0.522\n",
            "I0121 02:27:08.916689 139924622305152 model_lib_v2.py:652] Step 100 per-step time 1.862s loss=0.522\n",
            "INFO:tensorflow:Step 200 per-step time 1.835s loss=0.355\n",
            "I0121 02:30:14.240136 139924622305152 model_lib_v2.py:652] Step 200 per-step time 1.835s loss=0.355\n",
            "INFO:tensorflow:Step 300 per-step time 1.863s loss=0.287\n",
            "I0121 02:33:18.148207 139924622305152 model_lib_v2.py:652] Step 300 per-step time 1.863s loss=0.287\n",
            "INFO:tensorflow:Step 400 per-step time 1.807s loss=0.305\n",
            "I0121 02:36:21.538142 139924622305152 model_lib_v2.py:652] Step 400 per-step time 1.807s loss=0.305\n",
            "INFO:tensorflow:Step 500 per-step time 1.838s loss=0.318\n",
            "I0121 02:39:27.636248 139924622305152 model_lib_v2.py:652] Step 500 per-step time 1.838s loss=0.318\n",
            "INFO:tensorflow:Step 600 per-step time 1.852s loss=0.295\n",
            "I0121 02:42:31.487868 139924622305152 model_lib_v2.py:652] Step 600 per-step time 1.852s loss=0.295\n",
            "INFO:tensorflow:Step 700 per-step time 1.857s loss=0.254\n",
            "I0121 02:45:37.991719 139924622305152 model_lib_v2.py:652] Step 700 per-step time 1.857s loss=0.254\n",
            "INFO:tensorflow:Step 800 per-step time 1.915s loss=0.280\n",
            "I0121 02:48:44.801097 139924622305152 model_lib_v2.py:652] Step 800 per-step time 1.915s loss=0.280\n",
            "INFO:tensorflow:Step 900 per-step time 1.862s loss=0.267\n",
            "I0121 02:51:52.295241 139924622305152 model_lib_v2.py:652] Step 900 per-step time 1.862s loss=0.267\n",
            "INFO:tensorflow:Step 1000 per-step time 1.900s loss=0.261\n",
            "I0121 02:54:58.178605 139924622305152 model_lib_v2.py:652] Step 1000 per-step time 1.900s loss=0.261\n",
            "INFO:tensorflow:Step 1100 per-step time 1.897s loss=0.233\n",
            "I0121 02:58:04.944178 139924622305152 model_lib_v2.py:652] Step 1100 per-step time 1.897s loss=0.233\n",
            "INFO:tensorflow:Step 1200 per-step time 1.911s loss=0.229\n",
            "I0121 03:01:17.255194 139924622305152 model_lib_v2.py:652] Step 1200 per-step time 1.911s loss=0.229\n",
            "INFO:tensorflow:Step 1300 per-step time 1.921s loss=0.247\n",
            "I0121 03:04:28.323535 139924622305152 model_lib_v2.py:652] Step 1300 per-step time 1.921s loss=0.247\n",
            "INFO:tensorflow:Step 1400 per-step time 1.893s loss=0.225\n",
            "I0121 03:07:41.050571 139924622305152 model_lib_v2.py:652] Step 1400 per-step time 1.893s loss=0.225\n",
            "INFO:tensorflow:Step 1500 per-step time 1.923s loss=0.219\n",
            "I0121 03:10:55.459675 139924622305152 model_lib_v2.py:652] Step 1500 per-step time 1.923s loss=0.219\n",
            "INFO:tensorflow:Step 1600 per-step time 1.921s loss=0.223\n",
            "I0121 03:14:07.116638 139924622305152 model_lib_v2.py:652] Step 1600 per-step time 1.921s loss=0.223\n",
            "INFO:tensorflow:Step 1700 per-step time 1.966s loss=0.288\n",
            "I0121 03:17:22.040472 139924622305152 model_lib_v2.py:652] Step 1700 per-step time 1.966s loss=0.288\n",
            "INFO:tensorflow:Step 1800 per-step time 1.902s loss=0.215\n",
            "I0121 03:20:34.448641 139924622305152 model_lib_v2.py:652] Step 1800 per-step time 1.902s loss=0.215\n",
            "INFO:tensorflow:Step 1900 per-step time 1.891s loss=0.219\n",
            "I0121 03:23:44.942312 139924622305152 model_lib_v2.py:652] Step 1900 per-step time 1.891s loss=0.219\n",
            "INFO:tensorflow:Step 2000 per-step time 1.902s loss=0.190\n",
            "I0121 03:26:56.787356 139924622305152 model_lib_v2.py:652] Step 2000 per-step time 1.902s loss=0.190\n",
            "INFO:tensorflow:Step 2100 per-step time 1.914s loss=0.207\n",
            "I0121 03:30:08.097718 139924622305152 model_lib_v2.py:652] Step 2100 per-step time 1.914s loss=0.207\n",
            "INFO:tensorflow:Step 2200 per-step time 1.981s loss=0.190\n",
            "I0121 03:33:21.339730 139924622305152 model_lib_v2.py:652] Step 2200 per-step time 1.981s loss=0.190\n",
            "INFO:tensorflow:Step 2300 per-step time 2.003s loss=0.197\n",
            "I0121 03:36:50.025246 139924622305152 model_lib_v2.py:652] Step 2300 per-step time 2.003s loss=0.197\n",
            "INFO:tensorflow:Step 2400 per-step time 1.955s loss=0.192\n",
            "I0121 03:40:06.191408 139924622305152 model_lib_v2.py:652] Step 2400 per-step time 1.955s loss=0.192\n",
            "INFO:tensorflow:Step 2500 per-step time 1.934s loss=0.185\n",
            "I0121 03:43:20.443032 139924622305152 model_lib_v2.py:652] Step 2500 per-step time 1.934s loss=0.185\n",
            "INFO:tensorflow:Step 2600 per-step time 1.929s loss=0.193\n",
            "I0121 03:46:34.311616 139924622305152 model_lib_v2.py:652] Step 2600 per-step time 1.929s loss=0.193\n",
            "INFO:tensorflow:Step 2700 per-step time 1.914s loss=0.198\n",
            "I0121 03:49:47.309746 139924622305152 model_lib_v2.py:652] Step 2700 per-step time 1.914s loss=0.198\n",
            "INFO:tensorflow:Step 2800 per-step time 1.930s loss=0.212\n",
            "I0121 03:53:00.538653 139924622305152 model_lib_v2.py:652] Step 2800 per-step time 1.930s loss=0.212\n",
            "INFO:tensorflow:Step 2900 per-step time 1.939s loss=0.209\n",
            "I0121 03:56:13.331315 139924622305152 model_lib_v2.py:652] Step 2900 per-step time 1.939s loss=0.209\n",
            "INFO:tensorflow:Step 3000 per-step time 1.926s loss=0.199\n",
            "I0121 03:59:25.568555 139924622305152 model_lib_v2.py:652] Step 3000 per-step time 1.926s loss=0.199\n",
            "INFO:tensorflow:Step 3100 per-step time 1.904s loss=0.178\n",
            "I0121 04:02:37.821712 139924622305152 model_lib_v2.py:652] Step 3100 per-step time 1.904s loss=0.178\n",
            "INFO:tensorflow:Step 3200 per-step time 1.938s loss=0.200\n",
            "I0121 04:05:48.881358 139924622305152 model_lib_v2.py:652] Step 3200 per-step time 1.938s loss=0.200\n",
            "INFO:tensorflow:Step 3300 per-step time 1.997s loss=0.156\n",
            "I0121 04:09:11.904065 139924622305152 model_lib_v2.py:652] Step 3300 per-step time 1.997s loss=0.156\n",
            "INFO:tensorflow:Step 3400 per-step time 1.968s loss=0.200\n",
            "I0121 04:12:32.639694 139924622305152 model_lib_v2.py:652] Step 3400 per-step time 1.968s loss=0.200\n",
            "INFO:tensorflow:Step 3500 per-step time 1.965s loss=0.175\n",
            "I0121 04:15:53.912544 139924622305152 model_lib_v2.py:652] Step 3500 per-step time 1.965s loss=0.175\n",
            "INFO:tensorflow:Step 3600 per-step time 1.966s loss=0.208\n",
            "I0121 04:19:15.061270 139924622305152 model_lib_v2.py:652] Step 3600 per-step time 1.966s loss=0.208\n",
            "INFO:tensorflow:Step 3700 per-step time 2.038s loss=0.171\n",
            "I0121 04:22:38.388359 139924622305152 model_lib_v2.py:652] Step 3700 per-step time 2.038s loss=0.171\n",
            "INFO:tensorflow:Step 3800 per-step time 2.061s loss=0.198\n",
            "I0121 04:26:03.571865 139924622305152 model_lib_v2.py:652] Step 3800 per-step time 2.061s loss=0.198\n",
            "INFO:tensorflow:Step 3900 per-step time 1.991s loss=0.182\n",
            "I0121 04:29:29.375522 139924622305152 model_lib_v2.py:652] Step 3900 per-step time 1.991s loss=0.182\n",
            "INFO:tensorflow:Step 4000 per-step time 1.990s loss=0.186\n",
            "I0121 04:32:50.686217 139924622305152 model_lib_v2.py:652] Step 4000 per-step time 1.990s loss=0.186\n",
            "INFO:tensorflow:Step 4100 per-step time 1.976s loss=0.165\n",
            "I0121 04:36:12.276594 139924622305152 model_lib_v2.py:652] Step 4100 per-step time 1.976s loss=0.165\n",
            "INFO:tensorflow:Step 4200 per-step time 1.959s loss=0.157\n",
            "I0121 04:39:34.308553 139924622305152 model_lib_v2.py:652] Step 4200 per-step time 1.959s loss=0.157\n",
            "INFO:tensorflow:Step 4300 per-step time 2.007s loss=0.169\n",
            "I0121 04:42:54.340661 139924622305152 model_lib_v2.py:652] Step 4300 per-step time 2.007s loss=0.169\n",
            "INFO:tensorflow:Step 4400 per-step time 2.014s loss=0.160\n",
            "I0121 04:46:13.497929 139924622305152 model_lib_v2.py:652] Step 4400 per-step time 2.014s loss=0.160\n",
            "INFO:tensorflow:Step 4500 per-step time 2.041s loss=0.195\n",
            "I0121 04:49:33.678478 139924622305152 model_lib_v2.py:652] Step 4500 per-step time 2.041s loss=0.195\n",
            "INFO:tensorflow:Step 4600 per-step time 2.079s loss=0.177\n",
            "I0121 04:52:55.917458 139924622305152 model_lib_v2.py:652] Step 4600 per-step time 2.079s loss=0.177\n",
            "INFO:tensorflow:Step 4700 per-step time 1.979s loss=0.166\n",
            "I0121 04:56:20.502501 139924622305152 model_lib_v2.py:652] Step 4700 per-step time 1.979s loss=0.166\n",
            "INFO:tensorflow:Step 4800 per-step time 1.994s loss=0.157\n",
            "I0121 04:59:38.250570 139924622305152 model_lib_v2.py:652] Step 4800 per-step time 1.994s loss=0.157\n",
            "INFO:tensorflow:Step 4900 per-step time 1.985s loss=0.158\n",
            "I0121 05:02:56.176567 139924622305152 model_lib_v2.py:652] Step 4900 per-step time 1.985s loss=0.158\n",
            "INFO:tensorflow:Step 5000 per-step time 1.967s loss=0.155\n",
            "I0121 05:06:11.791579 139924622305152 model_lib_v2.py:652] Step 5000 per-step time 1.967s loss=0.155\n",
            "INFO:tensorflow:Step 5100 per-step time 2.003s loss=0.181\n",
            "I0121 05:09:32.400275 139924622305152 model_lib_v2.py:652] Step 5100 per-step time 2.003s loss=0.181\n",
            "INFO:tensorflow:Step 5200 per-step time 1.956s loss=0.171\n",
            "I0121 05:12:50.891602 139924622305152 model_lib_v2.py:652] Step 5200 per-step time 1.956s loss=0.171\n",
            "INFO:tensorflow:Step 5300 per-step time 2.017s loss=0.162\n",
            "I0121 05:16:09.686317 139924622305152 model_lib_v2.py:652] Step 5300 per-step time 2.017s loss=0.162\n",
            "INFO:tensorflow:Step 5400 per-step time 1.958s loss=0.188\n",
            "I0121 05:19:27.243432 139924622305152 model_lib_v2.py:652] Step 5400 per-step time 1.958s loss=0.188\n",
            "INFO:tensorflow:Step 5500 per-step time 1.960s loss=0.155\n",
            "I0121 05:22:44.236354 139924622305152 model_lib_v2.py:652] Step 5500 per-step time 1.960s loss=0.155\n",
            "INFO:tensorflow:Step 5600 per-step time 1.940s loss=0.156\n",
            "I0121 05:26:00.270727 139924622305152 model_lib_v2.py:652] Step 5600 per-step time 1.940s loss=0.156\n",
            "INFO:tensorflow:Step 5700 per-step time 1.950s loss=0.180\n",
            "I0121 05:29:16.582254 139924622305152 model_lib_v2.py:652] Step 5700 per-step time 1.950s loss=0.180\n",
            "INFO:tensorflow:Step 5800 per-step time 1.973s loss=0.156\n",
            "I0121 05:32:32.097475 139924622305152 model_lib_v2.py:652] Step 5800 per-step time 1.973s loss=0.156\n",
            "INFO:tensorflow:Step 5900 per-step time 1.974s loss=0.146\n",
            "I0121 05:35:50.041417 139924622305152 model_lib_v2.py:652] Step 5900 per-step time 1.974s loss=0.146\n",
            "INFO:tensorflow:Step 6000 per-step time 1.913s loss=0.187\n",
            "I0121 05:39:05.385185 139924622305152 model_lib_v2.py:652] Step 6000 per-step time 1.913s loss=0.187\n",
            "INFO:tensorflow:Step 6100 per-step time 1.937s loss=0.157\n",
            "I0121 05:42:21.288769 139924622305152 model_lib_v2.py:652] Step 6100 per-step time 1.937s loss=0.157\n",
            "INFO:tensorflow:Step 6200 per-step time 1.929s loss=0.168\n",
            "I0121 05:45:37.547577 139924622305152 model_lib_v2.py:652] Step 6200 per-step time 1.929s loss=0.168\n",
            "INFO:tensorflow:Step 6300 per-step time 1.937s loss=0.171\n",
            "I0121 05:48:53.185147 139924622305152 model_lib_v2.py:652] Step 6300 per-step time 1.937s loss=0.171\n",
            "INFO:tensorflow:Step 6400 per-step time 1.953s loss=0.145\n",
            "I0121 05:52:11.499860 139924622305152 model_lib_v2.py:652] Step 6400 per-step time 1.953s loss=0.145\n",
            "INFO:tensorflow:Step 6500 per-step time 2.030s loss=0.173\n",
            "I0121 05:55:28.739694 139924622305152 model_lib_v2.py:652] Step 6500 per-step time 2.030s loss=0.173\n",
            "INFO:tensorflow:Step 6600 per-step time 1.977s loss=0.170\n",
            "I0121 05:58:47.209474 139924622305152 model_lib_v2.py:652] Step 6600 per-step time 1.977s loss=0.170\n",
            "INFO:tensorflow:Step 6700 per-step time 2.021s loss=0.186\n",
            "I0121 06:02:04.836548 139924622305152 model_lib_v2.py:652] Step 6700 per-step time 2.021s loss=0.186\n",
            "INFO:tensorflow:Step 6800 per-step time 1.991s loss=0.157\n",
            "I0121 06:05:21.739964 139924622305152 model_lib_v2.py:652] Step 6800 per-step time 1.991s loss=0.157\n",
            "INFO:tensorflow:Step 6900 per-step time 1.996s loss=0.184\n",
            "I0121 06:08:38.720768 139924622305152 model_lib_v2.py:652] Step 6900 per-step time 1.996s loss=0.184\n",
            "INFO:tensorflow:Step 7000 per-step time 1.970s loss=0.142\n",
            "I0121 06:11:56.589483 139924622305152 model_lib_v2.py:652] Step 7000 per-step time 1.970s loss=0.142\n",
            "INFO:tensorflow:Step 7100 per-step time 2.002s loss=0.145\n",
            "I0121 06:15:17.621303 139924622305152 model_lib_v2.py:652] Step 7100 per-step time 2.002s loss=0.145\n",
            "INFO:tensorflow:Step 7200 per-step time 1.967s loss=0.173\n",
            "I0121 06:18:37.572375 139924622305152 model_lib_v2.py:652] Step 7200 per-step time 1.967s loss=0.173\n",
            "INFO:tensorflow:Step 7300 per-step time 1.932s loss=0.139\n",
            "I0121 06:21:57.123313 139924622305152 model_lib_v2.py:652] Step 7300 per-step time 1.932s loss=0.139\n",
            "INFO:tensorflow:Step 7400 per-step time 1.953s loss=0.140\n",
            "I0121 06:25:13.506802 139924622305152 model_lib_v2.py:652] Step 7400 per-step time 1.953s loss=0.140\n",
            "INFO:tensorflow:Step 7500 per-step time 1.954s loss=0.141\n",
            "I0121 06:28:28.850482 139924622305152 model_lib_v2.py:652] Step 7500 per-step time 1.954s loss=0.141\n",
            "INFO:tensorflow:Step 7600 per-step time 1.947s loss=0.154\n",
            "I0121 06:31:43.591694 139924622305152 model_lib_v2.py:652] Step 7600 per-step time 1.947s loss=0.154\n",
            "INFO:tensorflow:Step 7700 per-step time 1.943s loss=0.160\n",
            "I0121 06:35:02.559993 139924622305152 model_lib_v2.py:652] Step 7700 per-step time 1.943s loss=0.160\n",
            "INFO:tensorflow:Step 7800 per-step time 1.976s loss=0.135\n",
            "I0121 06:38:21.274320 139924622305152 model_lib_v2.py:652] Step 7800 per-step time 1.976s loss=0.135\n",
            "INFO:tensorflow:Step 7900 per-step time 1.985s loss=0.158\n",
            "I0121 06:41:41.310977 139924622305152 model_lib_v2.py:652] Step 7900 per-step time 1.985s loss=0.158\n",
            "INFO:tensorflow:Step 8000 per-step time 1.961s loss=0.137\n",
            "I0121 06:44:57.298996 139924622305152 model_lib_v2.py:652] Step 8000 per-step time 1.961s loss=0.137\n",
            "INFO:tensorflow:Step 8100 per-step time 2.034s loss=0.162\n",
            "I0121 06:48:12.882325 139924622305152 model_lib_v2.py:652] Step 8100 per-step time 2.034s loss=0.162\n",
            "INFO:tensorflow:Step 8200 per-step time 1.900s loss=0.130\n",
            "I0121 06:51:26.530654 139924622305152 model_lib_v2.py:652] Step 8200 per-step time 1.900s loss=0.130\n",
            "INFO:tensorflow:Step 8300 per-step time 1.891s loss=0.141\n",
            "I0121 06:54:39.213897 139924622305152 model_lib_v2.py:652] Step 8300 per-step time 1.891s loss=0.141\n",
            "INFO:tensorflow:Step 8400 per-step time 1.921s loss=0.168\n",
            "I0121 06:57:53.297044 139924622305152 model_lib_v2.py:652] Step 8400 per-step time 1.921s loss=0.168\n",
            "INFO:tensorflow:Step 8500 per-step time 1.935s loss=0.134\n",
            "I0121 07:01:06.715152 139924622305152 model_lib_v2.py:652] Step 8500 per-step time 1.935s loss=0.134\n",
            "INFO:tensorflow:Step 8600 per-step time 1.989s loss=0.128\n",
            "I0121 07:04:21.711870 139924622305152 model_lib_v2.py:652] Step 8600 per-step time 1.989s loss=0.128\n",
            "INFO:tensorflow:Step 8700 per-step time 1.919s loss=0.158\n",
            "I0121 07:07:35.982637 139924622305152 model_lib_v2.py:652] Step 8700 per-step time 1.919s loss=0.158\n",
            "INFO:tensorflow:Step 8800 per-step time 2.001s loss=0.128\n",
            "I0121 07:10:49.841833 139924622305152 model_lib_v2.py:652] Step 8800 per-step time 2.001s loss=0.128\n",
            "INFO:tensorflow:Step 8900 per-step time 1.912s loss=0.151\n",
            "I0121 07:14:04.223640 139924622305152 model_lib_v2.py:652] Step 8900 per-step time 1.912s loss=0.151\n",
            "INFO:tensorflow:Step 9000 per-step time 1.924s loss=0.119\n",
            "I0121 07:17:17.551038 139924622305152 model_lib_v2.py:652] Step 9000 per-step time 1.924s loss=0.119\n",
            "INFO:tensorflow:Step 9100 per-step time 1.980s loss=0.120\n",
            "I0121 07:20:33.425059 139924622305152 model_lib_v2.py:652] Step 9100 per-step time 1.980s loss=0.120\n",
            "INFO:tensorflow:Step 9200 per-step time 1.898s loss=0.134\n",
            "I0121 07:23:46.349878 139924622305152 model_lib_v2.py:652] Step 9200 per-step time 1.898s loss=0.134\n",
            "INFO:tensorflow:Step 9300 per-step time 1.899s loss=0.127\n",
            "I0121 07:26:57.647673 139924622305152 model_lib_v2.py:652] Step 9300 per-step time 1.899s loss=0.127\n",
            "INFO:tensorflow:Step 9400 per-step time 2.235s loss=0.136\n",
            "I0121 07:30:08.587117 139924622305152 model_lib_v2.py:652] Step 9400 per-step time 2.235s loss=0.136\n",
            "INFO:tensorflow:Step 9500 per-step time 1.915s loss=0.130\n",
            "I0121 07:33:25.090994 139924622305152 model_lib_v2.py:652] Step 9500 per-step time 1.915s loss=0.130\n",
            "INFO:tensorflow:Step 9600 per-step time 1.899s loss=0.117\n",
            "I0121 07:36:38.075044 139924622305152 model_lib_v2.py:652] Step 9600 per-step time 1.899s loss=0.117\n",
            "INFO:tensorflow:Step 9700 per-step time 1.939s loss=0.127\n",
            "I0121 07:39:48.026823 139924622305152 model_lib_v2.py:652] Step 9700 per-step time 1.939s loss=0.127\n",
            "INFO:tensorflow:Step 9800 per-step time 1.900s loss=0.132\n",
            "I0121 07:42:59.546330 139924622305152 model_lib_v2.py:652] Step 9800 per-step time 1.900s loss=0.132\n",
            "INFO:tensorflow:Step 9900 per-step time 1.940s loss=0.133\n",
            "I0121 07:46:09.679176 139924622305152 model_lib_v2.py:652] Step 9900 per-step time 1.940s loss=0.133\n",
            "INFO:tensorflow:Step 10000 per-step time 1.929s loss=0.163\n",
            "I0121 07:49:21.130490 139924622305152 model_lib_v2.py:652] Step 10000 per-step time 1.929s loss=0.163\n"
          ]
        }
      ]
    },
    {
      "cell_type": "markdown",
      "metadata": {
        "id": "rmN-T0CBuFuq"
      },
      "source": [
        "# 7. Load Train Model From Checkpoint"
      ]
    },
    {
      "cell_type": "code",
      "execution_count": 19,
      "metadata": {
        "id": "8S4XJY51uFur"
      },
      "outputs": [],
      "source": [
        "import os\n",
        "from object_detection.utils import label_map_util\n",
        "from object_detection.utils import visualization_utils as viz_utils\n",
        "from object_detection.builders import model_builder"
      ]
    },
    {
      "cell_type": "code",
      "execution_count": 20,
      "metadata": {
        "id": "vJhEzZxNuFus"
      },
      "outputs": [],
      "source": [
        "# Load pipeline config and build a detection model\n",
        "configs = config_util.get_configs_from_pipeline_file(CONFIG_PATH)\n",
        "detection_model = model_builder.build(model_config=configs['model'], is_training=False)\n",
        "\n",
        "# Restore checkpoint\n",
        "ckpt = tf.compat.v2.train.Checkpoint(model=detection_model)\n",
        "ckpt.restore(os.path.join(CHECKPOINT_PATH, 'ckpt-6')).expect_partial()\n",
        "\n",
        "@tf.function\n",
        "def detect_fn(image):\n",
        "    image, shapes = detection_model.preprocess(image)\n",
        "    prediction_dict = detection_model.predict(image, shapes)\n",
        "    detections = detection_model.postprocess(prediction_dict, shapes)\n",
        "    return detections"
      ]
    },
    {
      "cell_type": "markdown",
      "metadata": {
        "id": "RNYDItbruFut"
      },
      "source": [
        "# 8. Detect in Real-Time"
      ]
    },
    {
      "cell_type": "code",
      "source": [
        "!pip list | grep opencv"
      ],
      "metadata": {
        "colab": {
          "base_uri": "https://localhost:8080/"
        },
        "id": "Hd1BolAU9yM8",
        "outputId": "9d4bd688-f6a2-47c0-d979-dd2b6f7fcf68"
      },
      "execution_count": 21,
      "outputs": [
        {
          "output_type": "stream",
          "name": "stdout",
          "text": [
            "opencv-contrib-python         4.1.2.30\n",
            "opencv-python                 4.1.2.30\n",
            "opencv-python-headless        4.5.5.62\n"
          ]
        }
      ]
    },
    {
      "cell_type": "code",
      "source": [
        "!pip install \"opencv-python-headless<4.3\""
      ],
      "metadata": {
        "colab": {
          "base_uri": "https://localhost:8080/"
        },
        "id": "hUx6qMUcO3CL",
        "outputId": "4d587e04-a5cc-4dbc-f973-c0befa559454"
      },
      "execution_count": 23,
      "outputs": [
        {
          "output_type": "stream",
          "name": "stdout",
          "text": [
            "Collecting opencv-python-headless<4.3\n",
            "  Downloading opencv_python_headless-4.2.0.34-cp37-cp37m-manylinux1_x86_64.whl (21.6 MB)\n",
            "\u001b[K     |████████████████████████████████| 21.6 MB 1.6 MB/s \n",
            "\u001b[?25hRequirement already satisfied: numpy>=1.14.5 in /usr/local/lib/python3.7/dist-packages (from opencv-python-headless<4.3) (1.19.5)\n",
            "Installing collected packages: opencv-python-headless\n",
            "  Attempting uninstall: opencv-python-headless\n",
            "    Found existing installation: opencv-python-headless 4.5.5.62\n",
            "    Uninstalling opencv-python-headless-4.5.5.62:\n",
            "      Successfully uninstalled opencv-python-headless-4.5.5.62\n",
            "Successfully installed opencv-python-headless-4.2.0.34\n"
          ]
        }
      ]
    },
    {
      "cell_type": "code",
      "execution_count": 24,
      "metadata": {
        "id": "1L9jX_nIuFuu"
      },
      "outputs": [],
      "source": [
        "import cv2 \n",
        "import numpy as np"
      ]
    },
    {
      "cell_type": "code",
      "execution_count": 25,
      "metadata": {
        "id": "Bt5xEMy4uFuu"
      },
      "outputs": [],
      "source": [
        "category_index = label_map_util.create_category_index_from_labelmap(ANNOTATION_PATH+'/label_map.pbtxt')"
      ]
    },
    {
      "cell_type": "code",
      "execution_count": 33,
      "metadata": {
        "id": "iq00bxumuFuv"
      },
      "outputs": [],
      "source": [
        "cap.release()"
      ]
    },
    {
      "cell_type": "markdown",
      "source": [
        "# Capture video in Colab see [here](https://colab.research.google.com/drive/1ikW3t-qXmQ6ZZMtQgdY-cJX9xbvlKzVt?usp=sharing#scrollTo=NTlLMBJheAa0)"
      ],
      "metadata": {
        "id": "7YlJtEPtSG9W"
      }
    },
    {
      "cell_type": "code",
      "execution_count": 30,
      "metadata": {
        "id": "o3eHOjUjuFuv"
      },
      "outputs": [],
      "source": [
        "# Setup capture\n",
        "cap = cv2.VideoCapture(0)\n",
        "width = int(cap.get(cv2.CAP_PROP_FRAME_WIDTH))\n",
        "height = int(cap.get(cv2.CAP_PROP_FRAME_HEIGHT))"
      ]
    },
    {
      "cell_type": "code",
      "execution_count": 31,
      "metadata": {
        "id": "0ZRzJbSjuFuw",
        "colab": {
          "base_uri": "https://localhost:8080/",
          "height": 606
        },
        "outputId": "d0ca78a0-f6b7-4430-c2c1-a8d81d86aa13"
      },
      "outputs": [
        {
          "output_type": "error",
          "ename": "ValueError",
          "evalue": "ignored",
          "traceback": [
            "\u001b[0;31m---------------------------------------------------------------------------\u001b[0m",
            "\u001b[0;31mValueError\u001b[0m                                Traceback (most recent call last)",
            "\u001b[0;32m<ipython-input-31-3a5cc6a8923f>\u001b[0m in \u001b[0;36m<module>\u001b[0;34m()\u001b[0m\n\u001b[1;32m      4\u001b[0m \u001b[0;34m\u001b[0m\u001b[0m\n\u001b[1;32m      5\u001b[0m     \u001b[0minput_tensor\u001b[0m \u001b[0;34m=\u001b[0m \u001b[0mtf\u001b[0m\u001b[0;34m.\u001b[0m\u001b[0mconvert_to_tensor\u001b[0m\u001b[0;34m(\u001b[0m\u001b[0mnp\u001b[0m\u001b[0;34m.\u001b[0m\u001b[0mexpand_dims\u001b[0m\u001b[0;34m(\u001b[0m\u001b[0mimage_np\u001b[0m\u001b[0;34m,\u001b[0m \u001b[0;36m0\u001b[0m\u001b[0;34m)\u001b[0m\u001b[0;34m,\u001b[0m \u001b[0mdtype\u001b[0m\u001b[0;34m=\u001b[0m\u001b[0mtf\u001b[0m\u001b[0;34m.\u001b[0m\u001b[0mfloat32\u001b[0m\u001b[0;34m)\u001b[0m\u001b[0;34m\u001b[0m\u001b[0;34m\u001b[0m\u001b[0m\n\u001b[0;32m----> 6\u001b[0;31m     \u001b[0mdetections\u001b[0m \u001b[0;34m=\u001b[0m \u001b[0mdetect_fn\u001b[0m\u001b[0;34m(\u001b[0m\u001b[0minput_tensor\u001b[0m\u001b[0;34m)\u001b[0m\u001b[0;34m\u001b[0m\u001b[0;34m\u001b[0m\u001b[0m\n\u001b[0m\u001b[1;32m      7\u001b[0m \u001b[0;34m\u001b[0m\u001b[0m\n\u001b[1;32m      8\u001b[0m     \u001b[0mnum_detections\u001b[0m \u001b[0;34m=\u001b[0m \u001b[0mint\u001b[0m\u001b[0;34m(\u001b[0m\u001b[0mdetections\u001b[0m\u001b[0;34m.\u001b[0m\u001b[0mpop\u001b[0m\u001b[0;34m(\u001b[0m\u001b[0;34m'num_detections'\u001b[0m\u001b[0;34m)\u001b[0m\u001b[0;34m)\u001b[0m\u001b[0;34m\u001b[0m\u001b[0;34m\u001b[0m\u001b[0m\n",
            "\u001b[0;32m/usr/local/lib/python3.7/dist-packages/tensorflow/python/util/traceback_utils.py\u001b[0m in \u001b[0;36merror_handler\u001b[0;34m(*args, **kwargs)\u001b[0m\n\u001b[1;32m    151\u001b[0m     \u001b[0;32mexcept\u001b[0m \u001b[0mException\u001b[0m \u001b[0;32mas\u001b[0m \u001b[0me\u001b[0m\u001b[0;34m:\u001b[0m\u001b[0;34m\u001b[0m\u001b[0;34m\u001b[0m\u001b[0m\n\u001b[1;32m    152\u001b[0m       \u001b[0mfiltered_tb\u001b[0m \u001b[0;34m=\u001b[0m \u001b[0m_process_traceback_frames\u001b[0m\u001b[0;34m(\u001b[0m\u001b[0me\u001b[0m\u001b[0;34m.\u001b[0m\u001b[0m__traceback__\u001b[0m\u001b[0;34m)\u001b[0m\u001b[0;34m\u001b[0m\u001b[0;34m\u001b[0m\u001b[0m\n\u001b[0;32m--> 153\u001b[0;31m       \u001b[0;32mraise\u001b[0m \u001b[0me\u001b[0m\u001b[0;34m.\u001b[0m\u001b[0mwith_traceback\u001b[0m\u001b[0;34m(\u001b[0m\u001b[0mfiltered_tb\u001b[0m\u001b[0;34m)\u001b[0m \u001b[0;32mfrom\u001b[0m \u001b[0;32mNone\u001b[0m\u001b[0;34m\u001b[0m\u001b[0;34m\u001b[0m\u001b[0m\n\u001b[0m\u001b[1;32m    154\u001b[0m     \u001b[0;32mfinally\u001b[0m\u001b[0;34m:\u001b[0m\u001b[0;34m\u001b[0m\u001b[0;34m\u001b[0m\u001b[0m\n\u001b[1;32m    155\u001b[0m       \u001b[0;32mdel\u001b[0m \u001b[0mfiltered_tb\u001b[0m\u001b[0;34m\u001b[0m\u001b[0;34m\u001b[0m\u001b[0m\n",
            "\u001b[0;32m/usr/local/lib/python3.7/dist-packages/tensorflow/python/framework/func_graph.py\u001b[0m in \u001b[0;36mautograph_handler\u001b[0;34m(*args, **kwargs)\u001b[0m\n\u001b[1;32m   1127\u001b[0m           \u001b[0;32mexcept\u001b[0m \u001b[0mException\u001b[0m \u001b[0;32mas\u001b[0m \u001b[0me\u001b[0m\u001b[0;34m:\u001b[0m  \u001b[0;31m# pylint:disable=broad-except\u001b[0m\u001b[0;34m\u001b[0m\u001b[0;34m\u001b[0m\u001b[0m\n\u001b[1;32m   1128\u001b[0m             \u001b[0;32mif\u001b[0m \u001b[0mhasattr\u001b[0m\u001b[0;34m(\u001b[0m\u001b[0me\u001b[0m\u001b[0;34m,\u001b[0m \u001b[0;34m\"ag_error_metadata\"\u001b[0m\u001b[0;34m)\u001b[0m\u001b[0;34m:\u001b[0m\u001b[0;34m\u001b[0m\u001b[0;34m\u001b[0m\u001b[0m\n\u001b[0;32m-> 1129\u001b[0;31m               \u001b[0;32mraise\u001b[0m \u001b[0me\u001b[0m\u001b[0;34m.\u001b[0m\u001b[0mag_error_metadata\u001b[0m\u001b[0;34m.\u001b[0m\u001b[0mto_exception\u001b[0m\u001b[0;34m(\u001b[0m\u001b[0me\u001b[0m\u001b[0;34m)\u001b[0m\u001b[0;34m\u001b[0m\u001b[0;34m\u001b[0m\u001b[0m\n\u001b[0m\u001b[1;32m   1130\u001b[0m             \u001b[0;32melse\u001b[0m\u001b[0;34m:\u001b[0m\u001b[0;34m\u001b[0m\u001b[0;34m\u001b[0m\u001b[0m\n\u001b[1;32m   1131\u001b[0m               \u001b[0;32mraise\u001b[0m\u001b[0;34m\u001b[0m\u001b[0;34m\u001b[0m\u001b[0m\n",
            "\u001b[0;31mValueError\u001b[0m: in user code:\n\n    File \"<ipython-input-20-f5bf27ce595e>\", line 11, in detect_fn  *\n        image, shapes = detection_model.preprocess(image)\n    File \"/usr/local/lib/python3.7/dist-packages/object_detection/meta_architectures/ssd_meta_arch.py\", line 484, in preprocess  *\n        normalized_inputs, self._image_resizer_fn)\n    File \"/usr/local/lib/python3.7/dist-packages/object_detection/utils/shape_utils.py\", line 492, in resize_images_and_return_shapes  *\n        outputs = static_or_dynamic_map_fn(\n    File \"/usr/local/lib/python3.7/dist-packages/object_detection/utils/shape_utils.py\", line 246, in static_or_dynamic_map_fn  *\n        outputs = [fn(arg) for arg in tf.unstack(elems)]\n    File \"/usr/local/lib/python3.7/dist-packages/object_detection/core/preprocessor.py\", line 3193, in resize_image  *\n        new_image = tf.image.resize_images(\n\n    ValueError: 'images' must have either 3 or 4 dimensions.\n"
          ]
        }
      ],
      "source": [
        "while True: \n",
        "    ret, frame = cap.read()\n",
        "    image_np = np.array(frame)\n",
        "    \n",
        "    input_tensor = tf.convert_to_tensor(np.expand_dims(image_np, 0), dtype=tf.float32)\n",
        "    detections = detect_fn(input_tensor)\n",
        "    \n",
        "    num_detections = int(detections.pop('num_detections'))\n",
        "    detections = {key: value[0, :num_detections].numpy()\n",
        "                  for key, value in detections.items()}\n",
        "    detections['num_detections'] = num_detections\n",
        "\n",
        "    # detection_classes should be ints.\n",
        "    detections['detection_classes'] = detections['detection_classes'].astype(np.int64)\n",
        "\n",
        "    label_id_offset = 1\n",
        "    image_np_with_detections = image_np.copy()\n",
        "\n",
        "    viz_utils.visualize_boxes_and_labels_on_image_array(\n",
        "                image_np_with_detections,\n",
        "                detections['detection_boxes'],\n",
        "                detections['detection_classes']+label_id_offset,\n",
        "                detections['detection_scores'],\n",
        "                category_index,\n",
        "                use_normalized_coordinates=True,\n",
        "                max_boxes_to_draw=5,\n",
        "                min_score_thresh=.5,\n",
        "                agnostic_mode=False)\n",
        "\n",
        "    cv2.imshow('object detection',  cv2.resize(image_np_with_detections, (800, 600)))\n",
        "    \n",
        "    if cv2.waitKey(1) & 0xFF == ord('q'):\n",
        "        cap.release()\n",
        "        break"
      ]
    },
    {
      "cell_type": "code",
      "execution_count": 32,
      "metadata": {
        "id": "gY8lMfWmuFux",
        "colab": {
          "base_uri": "https://localhost:8080/",
          "height": 536
        },
        "outputId": "31c2d786-d4c5-44a4-8f97-417224dacfea"
      },
      "outputs": [
        {
          "output_type": "error",
          "ename": "ValueError",
          "evalue": "ignored",
          "traceback": [
            "\u001b[0;31m---------------------------------------------------------------------------\u001b[0m",
            "\u001b[0;31mValueError\u001b[0m                                Traceback (most recent call last)",
            "\u001b[0;32m<ipython-input-32-3f78138d26f6>\u001b[0m in \u001b[0;36m<module>\u001b[0;34m()\u001b[0m\n\u001b[0;32m----> 1\u001b[0;31m \u001b[0mdetections\u001b[0m \u001b[0;34m=\u001b[0m \u001b[0mdetect_fn\u001b[0m\u001b[0;34m(\u001b[0m\u001b[0minput_tensor\u001b[0m\u001b[0;34m)\u001b[0m\u001b[0;34m\u001b[0m\u001b[0;34m\u001b[0m\u001b[0m\n\u001b[0m",
            "\u001b[0;32m/usr/local/lib/python3.7/dist-packages/tensorflow/python/util/traceback_utils.py\u001b[0m in \u001b[0;36merror_handler\u001b[0;34m(*args, **kwargs)\u001b[0m\n\u001b[1;32m    151\u001b[0m     \u001b[0;32mexcept\u001b[0m \u001b[0mException\u001b[0m \u001b[0;32mas\u001b[0m \u001b[0me\u001b[0m\u001b[0;34m:\u001b[0m\u001b[0;34m\u001b[0m\u001b[0;34m\u001b[0m\u001b[0m\n\u001b[1;32m    152\u001b[0m       \u001b[0mfiltered_tb\u001b[0m \u001b[0;34m=\u001b[0m \u001b[0m_process_traceback_frames\u001b[0m\u001b[0;34m(\u001b[0m\u001b[0me\u001b[0m\u001b[0;34m.\u001b[0m\u001b[0m__traceback__\u001b[0m\u001b[0;34m)\u001b[0m\u001b[0;34m\u001b[0m\u001b[0;34m\u001b[0m\u001b[0m\n\u001b[0;32m--> 153\u001b[0;31m       \u001b[0;32mraise\u001b[0m \u001b[0me\u001b[0m\u001b[0;34m.\u001b[0m\u001b[0mwith_traceback\u001b[0m\u001b[0;34m(\u001b[0m\u001b[0mfiltered_tb\u001b[0m\u001b[0;34m)\u001b[0m \u001b[0;32mfrom\u001b[0m \u001b[0;32mNone\u001b[0m\u001b[0;34m\u001b[0m\u001b[0;34m\u001b[0m\u001b[0m\n\u001b[0m\u001b[1;32m    154\u001b[0m     \u001b[0;32mfinally\u001b[0m\u001b[0;34m:\u001b[0m\u001b[0;34m\u001b[0m\u001b[0;34m\u001b[0m\u001b[0m\n\u001b[1;32m    155\u001b[0m       \u001b[0;32mdel\u001b[0m \u001b[0mfiltered_tb\u001b[0m\u001b[0;34m\u001b[0m\u001b[0;34m\u001b[0m\u001b[0m\n",
            "\u001b[0;32m/usr/local/lib/python3.7/dist-packages/tensorflow/python/framework/func_graph.py\u001b[0m in \u001b[0;36mautograph_handler\u001b[0;34m(*args, **kwargs)\u001b[0m\n\u001b[1;32m   1127\u001b[0m           \u001b[0;32mexcept\u001b[0m \u001b[0mException\u001b[0m \u001b[0;32mas\u001b[0m \u001b[0me\u001b[0m\u001b[0;34m:\u001b[0m  \u001b[0;31m# pylint:disable=broad-except\u001b[0m\u001b[0;34m\u001b[0m\u001b[0;34m\u001b[0m\u001b[0m\n\u001b[1;32m   1128\u001b[0m             \u001b[0;32mif\u001b[0m \u001b[0mhasattr\u001b[0m\u001b[0;34m(\u001b[0m\u001b[0me\u001b[0m\u001b[0;34m,\u001b[0m \u001b[0;34m\"ag_error_metadata\"\u001b[0m\u001b[0;34m)\u001b[0m\u001b[0;34m:\u001b[0m\u001b[0;34m\u001b[0m\u001b[0;34m\u001b[0m\u001b[0m\n\u001b[0;32m-> 1129\u001b[0;31m               \u001b[0;32mraise\u001b[0m \u001b[0me\u001b[0m\u001b[0;34m.\u001b[0m\u001b[0mag_error_metadata\u001b[0m\u001b[0;34m.\u001b[0m\u001b[0mto_exception\u001b[0m\u001b[0;34m(\u001b[0m\u001b[0me\u001b[0m\u001b[0;34m)\u001b[0m\u001b[0;34m\u001b[0m\u001b[0;34m\u001b[0m\u001b[0m\n\u001b[0m\u001b[1;32m   1130\u001b[0m             \u001b[0;32melse\u001b[0m\u001b[0;34m:\u001b[0m\u001b[0;34m\u001b[0m\u001b[0;34m\u001b[0m\u001b[0m\n\u001b[1;32m   1131\u001b[0m               \u001b[0;32mraise\u001b[0m\u001b[0;34m\u001b[0m\u001b[0;34m\u001b[0m\u001b[0m\n",
            "\u001b[0;31mValueError\u001b[0m: in user code:\n\n    File \"<ipython-input-20-f5bf27ce595e>\", line 11, in detect_fn  *\n        image, shapes = detection_model.preprocess(image)\n    File \"/usr/local/lib/python3.7/dist-packages/object_detection/meta_architectures/ssd_meta_arch.py\", line 484, in preprocess  *\n        normalized_inputs, self._image_resizer_fn)\n    File \"/usr/local/lib/python3.7/dist-packages/object_detection/utils/shape_utils.py\", line 492, in resize_images_and_return_shapes  *\n        outputs = static_or_dynamic_map_fn(\n    File \"/usr/local/lib/python3.7/dist-packages/object_detection/utils/shape_utils.py\", line 246, in static_or_dynamic_map_fn  *\n        outputs = [fn(arg) for arg in tf.unstack(elems)]\n    File \"/usr/local/lib/python3.7/dist-packages/object_detection/core/preprocessor.py\", line 3193, in resize_image  *\n        new_image = tf.image.resize_images(\n\n    ValueError: 'images' must have either 3 or 4 dimensions.\n"
          ]
        }
      ],
      "source": [
        "detections = detect_fn(input_tensor)"
      ]
    },
    {
      "cell_type": "code",
      "execution_count": null,
      "metadata": {
        "id": "WqnSpcY9uFux"
      },
      "outputs": [],
      "source": [
        "from matplotlib import pyplot as plt"
      ]
    },
    {
      "cell_type": "markdown",
      "source": [
        "# Next Steps\n",
        "\n",
        "\n",
        "1.   Step 11 from [here](https://medium.com/swlh/tensorflow-2-object-detection-api-with-google-colab-b2af171e81cc#id_token=eyJhbGciOiJSUzI1NiIsImtpZCI6IjMzZmY1YWYxMmQ3NjY2YzU4Zjk5NTZlNjVlNDZjOWMwMmVmOGU3NDIiLCJ0eXAiOiJKV1QifQ.eyJpc3MiOiJodHRwczovL2FjY291bnRzLmdvb2dsZS5jb20iLCJuYmYiOjE2NDE4NzcxMTQsImF1ZCI6IjIxNjI5NjAzNTgzNC1rMWs2cWUwNjBzMnRwMmEyamFtNGxqZGNtczAwc3R0Zy5hcHBzLmdvb2dsZXVzZXJjb250ZW50LmNvbSIsInN1YiI6IjEwMzUzMzg1NjY0NDEzMTg2NjE0MyIsImVtYWlsIjoic3RldmVzYXJnb25AZ21haWwuY29tIiwiZW1haWxfdmVyaWZpZWQiOnRydWUsImF6cCI6IjIxNjI5NjAzNTgzNC1rMWs2cWUwNjBzMnRwMmEyamFtNGxqZGNtczAwc3R0Zy5hcHBzLmdvb2dsZXVzZXJjb250ZW50LmNvbSIsIm5hbWUiOiJTdGV2ZSBUaG9tYXMiLCJwaWN0dXJlIjoiaHR0cHM6Ly9saDMuZ29vZ2xldXNlcmNvbnRlbnQuY29tL2EtL0FPaDE0R2hLZUZzYkJOdVQ0ckE1X1N5N2dXSUtTTmctY3d6LVV6aDlXZnhMZ053PXM5Ni1jIiwiZ2l2ZW5fbmFtZSI6IlN0ZXZlIiwiZmFtaWx5X25hbWUiOiJUaG9tYXMiLCJpYXQiOjE2NDE4Nzc0MTQsImV4cCI6MTY0MTg4MTAxNCwianRpIjoiMzhjZGMwMWQyYWZjNDQ0MWIyMmRhOWFmYmQ4MWY4MzlkYmQ3MWM1NSJ9.QyYvD2S1DiGF-tV0YFLLkzBIGSz-EpoeJqnOVWJ9xSNFiNJ5AmHRR2Pw7KQcT4RAQkAKrTgdq_YObF6uWi8WdaetXVWHrB2P4mxNwBxpmVrYcWqLttfksaGI2-JgWJ2_T7YTYVyXjgdFBRt5cuNq3CP8Lg2ajQB9Ho6Kxbjy1S7c4FXGcAMVxrV8GAd72DvB1cVGb8FP2_B-JyuX6KwPLl6l1kmPl7SbfPlBS3Qzaq5ROnn7ITkGhrpeiZAocq1arr9CNRWVHPMBm1F3Lo-IJXWr5muyNtWLNIwhB8jwA4k2rN3eRyItvkrLAWcouFYSvCCQWI7Lzf4dUN9z2wst6w)\n"
      ],
      "metadata": {
        "id": "838k_Ay2niHA"
      }
    },
    {
      "cell_type": "code",
      "source": [
        "!pwd"
      ],
      "metadata": {
        "id": "xGpjybKJnvUl"
      },
      "execution_count": null,
      "outputs": []
    },
    {
      "cell_type": "code",
      "source": [
        ""
      ],
      "metadata": {
        "id": "DmEd99U2yYUQ"
      },
      "execution_count": null,
      "outputs": []
    }
  ]
}